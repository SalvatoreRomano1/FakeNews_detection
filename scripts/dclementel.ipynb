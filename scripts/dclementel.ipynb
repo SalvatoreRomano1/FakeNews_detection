{
 "cells": [
  {
   "cell_type": "code",
   "execution_count": 1,
   "metadata": {
    "colab": {},
    "colab_type": "code",
    "id": "rEQMnUKXAWnj"
   },
   "outputs": [],
   "source": [
    "# Note: adding datasets folder to 'My Drive' is required!\n",
    "# This defines file paths\n",
    "ROOT = 'datasets'\n",
    "FAKE_OR_REAL = ROOT + '/fake_or_real_news/fake_or_real_news.csv'\n",
    "LIAR_LIAR_TRAIN = ROOT + '/liar/train.tsv'\n",
    "LIAR_LIAR_TEST = ROOT + '/liar/test.tsv'"
   ]
  },
  {
   "cell_type": "code",
   "execution_count": 2,
   "metadata": {
    "colab": {},
    "colab_type": "code",
    "id": "u6TLt4Qf8aI8"
   },
   "outputs": [],
   "source": [
    "# Import libraries\n",
    "import nltk\n",
    "import pandas as pd\n",
    "import numpy as np\n",
    "import math\n",
    "import sklearn\n",
    "import matplotlib\n",
    "import matplotlib.pyplot as plt"
   ]
  },
  {
   "cell_type": "code",
   "execution_count": 3,
   "metadata": {
    "colab": {},
    "colab_type": "code",
    "id": "OqgfbBqT8aJA"
   },
   "outputs": [],
   "source": [
    "# Setup matplotlib\n",
    "%matplotlib inline"
   ]
  },
  {
   "cell_type": "markdown",
   "metadata": {
    "colab_type": "text",
    "id": "jwTcMKwV8aJC"
   },
   "source": [
    "# 3. Datasets"
   ]
  },
  {
   "cell_type": "markdown",
   "metadata": {
    "colab_type": "text",
    "id": "6IgAEb5v8aJC"
   },
   "source": [
    "## 3.1 'Liar Liar' dataset"
   ]
  },
  {
   "cell_type": "code",
   "execution_count": 4,
   "metadata": {
    "colab": {
     "base_uri": "https://localhost:8080/",
     "height": 942
    },
    "colab_type": "code",
    "id": "y8byh1548aJD",
    "outputId": "47c6d6db-344e-4cf7-afe4-9ae6a735c5f4"
   },
   "outputs": [],
   "source": [
    "# Import 'Liar Liar' dataset\n",
    "# Note: the dataset has already been splitted in train and test dataset\n",
    "liar_ds_train = pd.read_csv(LIAR_LIAR_TRAIN, delimiter='\\t', header=None)\n",
    "liar_ds_test = pd.read_csv(LIAR_LIAR_TEST, delimiter='\\t', header=None)"
   ]
  },
  {
   "cell_type": "code",
   "execution_count": 5,
   "metadata": {
    "colab": {},
    "colab_type": "code",
    "id": "pEskYBsD8aJF"
   },
   "outputs": [],
   "source": [
    "# Train dataset\n",
    "liar_ds_train = liar_ds_train.loc[liar_ds_train[1].isin(['true', 'false']), 1:2]\n",
    "# Test dataset\n",
    "liar_ds_test = liar_ds_test.loc[liar_ds_test[1].isin(['true', 'false']), 1:2]"
   ]
  },
  {
   "cell_type": "code",
   "execution_count": 6,
   "metadata": {
    "colab": {
     "base_uri": "https://localhost:8080/",
     "height": 204
    },
    "colab_type": "code",
    "id": "mBShJE368aJI",
    "outputId": "cce6e258-9cd7-4d46-a370-c6f31f328663"
   },
   "outputs": [
    {
     "data": {
      "text/html": [
       "<div>\n",
       "<style scoped>\n",
       "    .dataframe tbody tr th:only-of-type {\n",
       "        vertical-align: middle;\n",
       "    }\n",
       "\n",
       "    .dataframe tbody tr th {\n",
       "        vertical-align: top;\n",
       "    }\n",
       "\n",
       "    .dataframe thead th {\n",
       "        text-align: right;\n",
       "    }\n",
       "</style>\n",
       "<table border=\"1\" class=\"dataframe\">\n",
       "  <thead>\n",
       "    <tr style=\"text-align: right;\">\n",
       "      <th></th>\n",
       "      <th>1</th>\n",
       "      <th>2</th>\n",
       "    </tr>\n",
       "  </thead>\n",
       "  <tbody>\n",
       "    <tr>\n",
       "      <th>0</th>\n",
       "      <td>false</td>\n",
       "      <td>Says the Annies List political group supports ...</td>\n",
       "    </tr>\n",
       "    <tr>\n",
       "      <th>3</th>\n",
       "      <td>false</td>\n",
       "      <td>Health care reform legislation is likely to ma...</td>\n",
       "    </tr>\n",
       "    <tr>\n",
       "      <th>5</th>\n",
       "      <td>true</td>\n",
       "      <td>The Chicago Bears have had more starting quart...</td>\n",
       "    </tr>\n",
       "    <tr>\n",
       "      <th>12</th>\n",
       "      <td>false</td>\n",
       "      <td>When Mitt Romney was governor of Massachusetts...</td>\n",
       "    </tr>\n",
       "    <tr>\n",
       "      <th>16</th>\n",
       "      <td>true</td>\n",
       "      <td>McCain opposed a requirement that the governme...</td>\n",
       "    </tr>\n",
       "  </tbody>\n",
       "</table>\n",
       "</div>"
      ],
      "text/plain": [
       "        1                                                  2\n",
       "0   false  Says the Annies List political group supports ...\n",
       "3   false  Health care reform legislation is likely to ma...\n",
       "5    true  The Chicago Bears have had more starting quart...\n",
       "12  false  When Mitt Romney was governor of Massachusetts...\n",
       "16   true  McCain opposed a requirement that the governme..."
      ]
     },
     "execution_count": 6,
     "metadata": {},
     "output_type": "execute_result"
    }
   ],
   "source": [
    "# Check train dataset\n",
    "liar_ds_train.head()"
   ]
  },
  {
   "cell_type": "code",
   "execution_count": 7,
   "metadata": {
    "colab": {},
    "colab_type": "code",
    "id": "3KMrSFcc8aJQ"
   },
   "outputs": [],
   "source": [
    "# Define X (inputctext ) and Y (label) variables for each dataset\n",
    "\n",
    "# Train dataset\n",
    "X_train_liar = liar_ds_train[2]\n",
    "Y_train_liar = liar_ds_train[1]\n",
    "# Test dataset\n",
    "X_test_liar = liar_ds_test[2]\n",
    "Y_test_liar = liar_ds_test[1]"
   ]
  },
  {
   "cell_type": "code",
   "execution_count": 8,
   "metadata": {
    "colab": {
     "base_uri": "https://localhost:8080/",
     "height": 102
    },
    "colab_type": "code",
    "id": "EqeDruK6CjjR",
    "outputId": "a275647e-1706-46f9-893e-f583c5611806"
   },
   "outputs": [
    {
     "data": {
      "text/plain": [
       "count                                                  3671\n",
       "unique                                                 3661\n",
       "top       On changing the rules for filibusters on presi...\n",
       "freq                                                      3\n",
       "Name: 2, dtype: object"
      ]
     },
     "execution_count": 8,
     "metadata": {},
     "output_type": "execute_result"
    }
   ],
   "source": [
    "# Describe training dataset\n",
    "X_train_liar.describe()"
   ]
  },
  {
   "cell_type": "code",
   "execution_count": 9,
   "metadata": {
    "colab": {
     "base_uri": "https://localhost:8080/",
     "height": 102
    },
    "colab_type": "code",
    "id": "7zjmQazvC3uC",
    "outputId": "d0182847-54ef-4ea6-c8cb-0b0fc4dcc962"
   },
   "outputs": [
    {
     "data": {
      "text/plain": [
       "count                                                   457\n",
       "unique                                                  457\n",
       "top       Its not true that since hes been the president...\n",
       "freq                                                      1\n",
       "Name: 2, dtype: object"
      ]
     },
     "execution_count": 9,
     "metadata": {},
     "output_type": "execute_result"
    }
   ],
   "source": [
    "# Describe testing dataset\n",
    "X_test_liar.describe()"
   ]
  },
  {
   "cell_type": "code",
   "execution_count": 10,
   "metadata": {
    "colab": {
     "base_uri": "https://localhost:8080/",
     "height": 102
    },
    "colab_type": "code",
    "id": "_dK9PcwJCvEH",
    "outputId": "3f0e219f-8035-4bee-c2da-98404b5913a1"
   },
   "outputs": [
    {
     "data": {
      "text/plain": [
       "count                                                  3661\n",
       "unique                                                 3661\n",
       "top       The governor having a meeting ... isnt covered...\n",
       "freq                                                      1\n",
       "Name: 2, dtype: object"
      ]
     },
     "execution_count": 10,
     "metadata": {},
     "output_type": "execute_result"
    }
   ],
   "source": [
    "# We noted that there are some repeated texts inside the train dataset (not unique ones)\n",
    "# hence we drop those rows\n",
    "\n",
    "# Find duplicated rows\n",
    "duplicated = X_train_liar.duplicated()\n",
    "duplicated = duplicated[duplicated == True].index\n",
    "\n",
    "# Drop duplicated rows from X and Y\n",
    "X_train_liar.drop(duplicated, inplace = True)\n",
    "Y_train_liar.drop(duplicated, inplace = True)\n",
    "\n",
    "# Describe training dataset\n",
    "X_train_liar.describe()"
   ]
  },
  {
   "cell_type": "code",
   "execution_count": 11,
   "metadata": {
    "colab": {},
    "colab_type": "code",
    "id": "5d5L7ArW8aJT"
   },
   "outputs": [],
   "source": [
    "# Labels values must be turned into 0|1 form 'false'|'true'\n",
    "from sklearn.preprocessing import LabelEncoder\n",
    "\n",
    "le = LabelEncoder().fit(['false', 'true'])\n",
    "# Encode labels\n",
    "Y_train_liar = le.transform(Y_train_liar)\n",
    "Y_test_liar = le.transform(Y_test_liar)\n",
    "\n",
    "# Describe labels\n",
    "Y_train_liar = pd.Series(Y_train_liar)\n",
    "Y_test_liar = pd.Series(Y_test_liar)"
   ]
  },
  {
   "cell_type": "markdown",
   "metadata": {
    "colab_type": "text",
    "id": "qMKFlptc8aJa"
   },
   "source": [
    "## 3.2 'Fake or Real' dataset"
   ]
  },
  {
   "cell_type": "code",
   "execution_count": 12,
   "metadata": {
    "colab": {},
    "colab_type": "code",
    "id": "L_TxJPyV8aJc"
   },
   "outputs": [],
   "source": [
    "# Import 'Fake or Real' dataset\n",
    "fake_or_real_ds = pd.read_csv(FAKE_OR_REAL, delimiter=',', header=0)"
   ]
  },
  {
   "cell_type": "code",
   "execution_count": 13,
   "metadata": {
    "colab": {
     "base_uri": "https://localhost:8080/",
     "height": 204
    },
    "colab_type": "code",
    "id": "c8-xIDvS8aJe",
    "outputId": "aefd110b-9f42-44cb-8d6e-42eaecb1be7f"
   },
   "outputs": [
    {
     "data": {
      "text/html": [
       "<div>\n",
       "<style scoped>\n",
       "    .dataframe tbody tr th:only-of-type {\n",
       "        vertical-align: middle;\n",
       "    }\n",
       "\n",
       "    .dataframe tbody tr th {\n",
       "        vertical-align: top;\n",
       "    }\n",
       "\n",
       "    .dataframe thead th {\n",
       "        text-align: right;\n",
       "    }\n",
       "</style>\n",
       "<table border=\"1\" class=\"dataframe\">\n",
       "  <thead>\n",
       "    <tr style=\"text-align: right;\">\n",
       "      <th></th>\n",
       "      <th>Unnamed: 0</th>\n",
       "      <th>title</th>\n",
       "      <th>text</th>\n",
       "      <th>label</th>\n",
       "      <th>title_vectors</th>\n",
       "    </tr>\n",
       "  </thead>\n",
       "  <tbody>\n",
       "    <tr>\n",
       "      <th>0</th>\n",
       "      <td>8476</td>\n",
       "      <td>You Can Smell Hillary’s Fear</td>\n",
       "      <td>Daniel Greenfield, a Shillman Journalism Fello...</td>\n",
       "      <td>FAKE</td>\n",
       "      <td>[ 1.1533764e-02  4.2144405e-03  1.9692603e-02 ...</td>\n",
       "    </tr>\n",
       "    <tr>\n",
       "      <th>1</th>\n",
       "      <td>10294</td>\n",
       "      <td>Watch The Exact Moment Paul Ryan Committed Pol...</td>\n",
       "      <td>Google Pinterest Digg Linkedin Reddit Stumbleu...</td>\n",
       "      <td>FAKE</td>\n",
       "      <td>[ 0.11267698  0.02518966 -0.00212591  0.021095...</td>\n",
       "    </tr>\n",
       "    <tr>\n",
       "      <th>2</th>\n",
       "      <td>3608</td>\n",
       "      <td>Kerry to go to Paris in gesture of sympathy</td>\n",
       "      <td>U.S. Secretary of State John F. Kerry said Mon...</td>\n",
       "      <td>REAL</td>\n",
       "      <td>[ 0.04253004  0.04300297  0.01848392  0.048672...</td>\n",
       "    </tr>\n",
       "    <tr>\n",
       "      <th>3</th>\n",
       "      <td>10142</td>\n",
       "      <td>Bernie supporters on Twitter erupt in anger ag...</td>\n",
       "      <td>— Kaydee King (@KaydeeKing) November 9, 2016 T...</td>\n",
       "      <td>FAKE</td>\n",
       "      <td>[ 0.10801624  0.11583211  0.02874823  0.061732...</td>\n",
       "    </tr>\n",
       "    <tr>\n",
       "      <th>4</th>\n",
       "      <td>875</td>\n",
       "      <td>The Battle of New York: Why This Primary Matters</td>\n",
       "      <td>It's primary day in New York and front-runners...</td>\n",
       "      <td>REAL</td>\n",
       "      <td>[ 1.69016439e-02  7.13498285e-03 -7.81233795e-...</td>\n",
       "    </tr>\n",
       "  </tbody>\n",
       "</table>\n",
       "</div>"
      ],
      "text/plain": [
       "   Unnamed: 0                                              title  \\\n",
       "0        8476                       You Can Smell Hillary’s Fear   \n",
       "1       10294  Watch The Exact Moment Paul Ryan Committed Pol...   \n",
       "2        3608        Kerry to go to Paris in gesture of sympathy   \n",
       "3       10142  Bernie supporters on Twitter erupt in anger ag...   \n",
       "4         875   The Battle of New York: Why This Primary Matters   \n",
       "\n",
       "                                                text label  \\\n",
       "0  Daniel Greenfield, a Shillman Journalism Fello...  FAKE   \n",
       "1  Google Pinterest Digg Linkedin Reddit Stumbleu...  FAKE   \n",
       "2  U.S. Secretary of State John F. Kerry said Mon...  REAL   \n",
       "3  — Kaydee King (@KaydeeKing) November 9, 2016 T...  FAKE   \n",
       "4  It's primary day in New York and front-runners...  REAL   \n",
       "\n",
       "                                       title_vectors  \n",
       "0  [ 1.1533764e-02  4.2144405e-03  1.9692603e-02 ...  \n",
       "1  [ 0.11267698  0.02518966 -0.00212591  0.021095...  \n",
       "2  [ 0.04253004  0.04300297  0.01848392  0.048672...  \n",
       "3  [ 0.10801624  0.11583211  0.02874823  0.061732...  \n",
       "4  [ 1.69016439e-02  7.13498285e-03 -7.81233795e-...  "
      ]
     },
     "execution_count": 13,
     "metadata": {},
     "output_type": "execute_result"
    }
   ],
   "source": [
    "# Show dataset\n",
    "fake_or_real_ds.head()"
   ]
  },
  {
   "cell_type": "code",
   "execution_count": 14,
   "metadata": {
    "colab": {},
    "colab_type": "code",
    "id": "uBOu6P_88aJh"
   },
   "outputs": [],
   "source": [
    "# Define X (input text) and Y (label) variables\n",
    "X_fake_or_real = fake_or_real_ds['text']\n",
    "Y_fake_or_real = fake_or_real_ds['label']"
   ]
  },
  {
   "cell_type": "code",
   "execution_count": 15,
   "metadata": {
    "colab": {
     "base_uri": "https://localhost:8080/",
     "height": 102
    },
    "colab_type": "code",
    "id": "geZg8iYCF9nY",
    "outputId": "d0ded43a-a847-4b03-a85b-b683f5aabd06"
   },
   "outputs": [
    {
     "data": {
      "text/plain": [
       "count                                                  6335\n",
       "unique                                                 6060\n",
       "top       Killing Obama administration rules, dismantlin...\n",
       "freq                                                     58\n",
       "Name: text, dtype: object"
      ]
     },
     "execution_count": 15,
     "metadata": {},
     "output_type": "execute_result"
    }
   ],
   "source": [
    "# Describe the dataset\n",
    "X_fake_or_real.describe()"
   ]
  },
  {
   "cell_type": "code",
   "execution_count": 16,
   "metadata": {
    "colab": {},
    "colab_type": "code",
    "id": "D67g3w0_Hn_O"
   },
   "outputs": [],
   "source": [
    "# Find duplicate indexes\n",
    "duplicated = X_fake_or_real.duplicated()\n",
    "duplicated = duplicated[duplicated == True].index\n",
    "\n",
    "# Remove duplicates\n",
    "X_fake_or_real.drop(duplicated, inplace=True)\n",
    "Y_fake_or_real.drop(duplicated, inplace=True)"
   ]
  },
  {
   "cell_type": "code",
   "execution_count": 17,
   "metadata": {
    "colab": {},
    "colab_type": "code",
    "id": "vg2KGDOAbuw8"
   },
   "outputs": [],
   "source": [
    "# Find empty values\n",
    "stripped = X_fake_or_real.copy().map(lambda x: x.replace(' ', ''))\n",
    "stripped = stripped[stripped == ''].index\n",
    "\n",
    "# Remove empty rows\n",
    "X_fake_or_real.drop(stripped, inplace=True)\n",
    "Y_fake_or_real.drop(stripped, inplace=True)"
   ]
  },
  {
   "cell_type": "code",
   "execution_count": 18,
   "metadata": {
    "colab": {
     "base_uri": "https://localhost:8080/",
     "height": 102
    },
    "colab_type": "code",
    "id": "0zGWU62DceDB",
    "outputId": "3598cdb3-9b9f-434a-f269-c83df10691a3"
   },
   "outputs": [
    {
     "data": {
      "text/plain": [
       "count                                                  6059\n",
       "unique                                                 6059\n",
       "top       (CNN) Donald Trump on Wednesday refused to say...\n",
       "freq                                                      1\n",
       "Name: text, dtype: object"
      ]
     },
     "execution_count": 18,
     "metadata": {},
     "output_type": "execute_result"
    }
   ],
   "source": [
    "# Describe dataset\n",
    "X_fake_or_real.describe()"
   ]
  },
  {
   "cell_type": "code",
   "execution_count": 19,
   "metadata": {
    "colab": {},
    "colab_type": "code",
    "id": "RP_wFgLI8aJk"
   },
   "outputs": [],
   "source": [
    "# Encode the label from 'FAKE'|'REAL' to 0|1\n",
    "from sklearn.preprocessing import LabelEncoder\n",
    "\n",
    "# Define Label Encoder instance\n",
    "le = LabelEncoder().fit(['FAKE', 'REAL'])\n",
    "\n",
    "# Transform Y\n",
    "Y_fake_or_real = pd.Series(le.transform(Y_fake_or_real))"
   ]
  },
  {
   "cell_type": "code",
   "execution_count": 20,
   "metadata": {
    "colab": {},
    "colab_type": "code",
    "id": "7VOo3LwY8aJv"
   },
   "outputs": [],
   "source": [
    "# Split dataset into training and testing\n",
    "from sklearn.model_selection import train_test_split\n",
    "\n",
    "X_train_fake_or_real, X_test_fake_or_real, Y_train_fake_or_real, Y_test_fake_or_real = train_test_split(\n",
    "    X_fake_or_real, Y_fake_or_real, test_size = 0.2, random_state = 0\n",
    ")"
   ]
  },
  {
   "cell_type": "code",
   "execution_count": 21,
   "metadata": {
    "colab": {
     "base_uri": "https://localhost:8080/",
     "height": 286
    },
    "colab_type": "code",
    "id": "-Cly-m9B8aJ1",
    "outputId": "51fdfeff-00be-4ecf-a0d7-db7afa5b4bd7"
   },
   "outputs": [
    {
     "data": {
      "text/plain": [
       "<BarContainer object of 2 artists>"
      ]
     },
     "execution_count": 21,
     "metadata": {},
     "output_type": "execute_result"
    },
    {
     "data": {
      "image/png": "[encoded data removed]",
      "text/plain": [
       "<Figure size 432x288 with 1 Axes>"
      ]
     },
     "metadata": {},
     "output_type": "display_data"
    }
   ],
   "source": [
    "# Show test dataset Y labels distribution\n",
    "plt.bar(['True', 'False'], [len(Y_test_fake_or_real == True), len(Y_test_fake_or_real == False)])"
   ]
  },
  {
   "cell_type": "markdown",
   "metadata": {},
   "source": [
    "## 3.3 Datasets balancing"
   ]
  },
  {
   "cell_type": "markdown",
   "metadata": {},
   "source": [
    "### 3.3.1 Liar Liar dataset"
   ]
  },
  {
   "cell_type": "code",
   "execution_count": 22,
   "metadata": {},
   "outputs": [
    {
     "data": {
      "text/plain": [
       "Text(0.5,1,'Liar Liar dataset: partitioning')"
      ]
     },
     "execution_count": 22,
     "metadata": {},
     "output_type": "execute_result"
    },
    {
     "data": {
      "image/png": "[encoded data removed]",
      "text/plain": [
       "<Figure size 432x288 with 1 Axes>"
      ]
     },
     "metadata": {},
     "output_type": "display_data"
    }
   ],
   "source": [
    "plt.bar(['Train', 'Test'], [len(Y_train_liar), len(Y_test_liar)])\n",
    "plt.title('Liar Liar dataset: partitioning')"
   ]
  },
  {
   "cell_type": "code",
   "execution_count": 23,
   "metadata": {},
   "outputs": [
    {
     "data": {
      "text/plain": [
       "Text(0.5,1,'Liar Liar dataset: training partitioning')"
      ]
     },
     "execution_count": 23,
     "metadata": {},
     "output_type": "execute_result"
    },
    {
     "data": {
      "image/png": "[encoded data removed]",
      "text/plain": [
       "<Figure size 432x288 with 1 Axes>"
      ]
     },
     "metadata": {},
     "output_type": "display_data"
    }
   ],
   "source": [
    "plt.bar(['True', 'False'], [len(Y_train_liar[Y_train_liar == 0]), len(Y_train_liar[Y_train_liar == 1])])\n",
    "plt.title('Liar Liar dataset: training partitioning')"
   ]
  },
  {
   "cell_type": "code",
   "execution_count": 24,
   "metadata": {
    "scrolled": true
   },
   "outputs": [
    {
     "data": {
      "text/plain": [
       "Text(0.5,1,'Liar Liar dataset: testing partitioning')"
      ]
     },
     "execution_count": 24,
     "metadata": {},
     "output_type": "execute_result"
    },
    {
     "data": {
      "image/png": "[encoded data removed]",
      "text/plain": [
       "<Figure size 432x288 with 1 Axes>"
      ]
     },
     "metadata": {},
     "output_type": "display_data"
    }
   ],
   "source": [
    "plt.bar(['True', 'False'], [len(Y_test_liar[Y_train_liar == 0]), len(Y_test_liar[Y_train_liar == 1])])\n",
    "plt.title('Liar Liar dataset: testing partitioning')"
   ]
  },
  {
   "cell_type": "markdown",
   "metadata": {},
   "source": [
    "### 3.3.2 Fake Or Real dataset"
   ]
  },
  {
   "cell_type": "code",
   "execution_count": 25,
   "metadata": {
    "scrolled": true
   },
   "outputs": [
    {
     "data": {
      "text/plain": [
       "Text(0.5,1,'Fake Or Real dataset: partitioning')"
      ]
     },
     "execution_count": 25,
     "metadata": {},
     "output_type": "execute_result"
    },
    {
     "data": {
      "image/png": "[encoded data removed]",
      "text/plain": [
       "<Figure size 432x288 with 1 Axes>"
      ]
     },
     "metadata": {},
     "output_type": "display_data"
    }
   ],
   "source": [
    "plt.bar(['Train', 'Test'], [len(Y_train_liar), len(Y_test_liar)])\n",
    "plt.title('Fake Or Real dataset: partitioning')"
   ]
  },
  {
   "cell_type": "code",
   "execution_count": 26,
   "metadata": {},
   "outputs": [
    {
     "data": {
      "text/plain": [
       "Text(0.5,1,'Fake Or Real dataset: training partitioning')"
      ]
     },
     "execution_count": 26,
     "metadata": {},
     "output_type": "execute_result"
    },
    {
     "data": {
      "image/png": "[encoded data removed]",
      "text/plain": [
       "<Figure size 432x288 with 1 Axes>"
      ]
     },
     "metadata": {},
     "output_type": "display_data"
    }
   ],
   "source": [
    "plt.bar(['True', 'False'], [len(Y_train_fake_or_real[Y_train_fake_or_real == 0]), len(Y_train_fake_or_real[Y_train_fake_or_real == 1])])\n",
    "plt.title('Fake Or Real dataset: training partitioning')"
   ]
  },
  {
   "cell_type": "code",
   "execution_count": 27,
   "metadata": {
    "scrolled": true
   },
   "outputs": [
    {
     "data": {
      "text/plain": [
       "Text(0.5,1,'Fake Or Real dataset: testing partitioning')"
      ]
     },
     "execution_count": 27,
     "metadata": {},
     "output_type": "execute_result"
    },
    {
     "data": {
      "image/png": "[encoded data removed]",
      "text/plain": [
       "<Figure size 432x288 with 1 Axes>"
      ]
     },
     "metadata": {},
     "output_type": "display_data"
    }
   ],
   "source": [
    "plt.bar(['True', 'False'], [len(Y_test_fake_or_real[Y_test_fake_or_real == 0]), len(Y_test_fake_or_real[Y_test_fake_or_real == 1])])\n",
    "plt.title('Fake Or Real dataset: testing partitioning')"
   ]
  },
  {
   "cell_type": "markdown",
   "metadata": {
    "colab_type": "text",
    "id": "y3sHn97c8aJ4"
   },
   "source": [
    "# 4. Features"
   ]
  },
  {
   "cell_type": "markdown",
   "metadata": {
    "colab_type": "text",
    "id": "4AGU6cP_8aJ5"
   },
   "source": [
    "## 4.1 Feature extraction"
   ]
  },
  {
   "cell_type": "markdown",
   "metadata": {
    "colab_type": "text",
    "id": "9wqtmePJ8aJ5"
   },
   "source": [
    "### 4.1.1 Bag Of Words (BOW)"
   ]
  },
  {
   "cell_type": "code",
   "execution_count": 28,
   "metadata": {
    "colab": {},
    "colab_type": "code",
    "id": "GL1a4MyG8aJ6"
   },
   "outputs": [],
   "source": [
    "# Import CountVectorizer: an object which handles BOW automatically\n",
    "from sklearn.feature_extraction.text import CountVectorizer"
   ]
  },
  {
   "cell_type": "code",
   "execution_count": 29,
   "metadata": {
    "colab": {},
    "colab_type": "code",
    "id": "oncEQ5gW8aJ9"
   },
   "outputs": [],
   "source": [
    "# Get few rows of liar dataset (just to show bag of words)\n",
    "X_train = X_train_liar[0:2].copy()\n",
    "Y_train = Y_train_liar[0:2].copy()"
   ]
  },
  {
   "cell_type": "code",
   "execution_count": 30,
   "metadata": {
    "colab": {
     "base_uri": "https://localhost:8080/",
     "height": 122
    },
    "colab_type": "code",
    "id": "qJKnnDPT8aKA",
    "outputId": "d0748b7e-23de-4f52-9fb4-4114c783d237"
   },
   "outputs": [
    {
     "name": "stdout",
     "output_type": "stream",
     "text": [
      "Original string: \"Says the Annies List political group supports third-trimester abortions on demand.\"\n",
      "Becomes vector:\n",
      "[1 1 0 0 1 0 1 0 0 0 0 1 0 1 1 0 1 0 1 0 1 1 0 1]\n",
      "of words:\n",
      "['abortions', 'annies', 'care', 'change', 'demand', 'free', 'group', 'health', 'is', 'legislation', 'likely', 'list', 'mandate', 'on', 'political', 'reform', 'says', 'sex', 'supports', 'surgeries', 'the', 'third', 'to', 'trimester']\n"
     ]
    }
   ],
   "source": [
    "# Compute BOW\n",
    "cv = CountVectorizer().fit(X_train, Y_train)\n",
    "# Show first row before transformation\n",
    "print('Original string: \"{}\"'.format(X_train[0]))\n",
    "# Vectorize rows\n",
    "X_train = cv.transform(X_train)\n",
    "# Show first row vectorized\n",
    "X_train_array = X_train.toarray()\n",
    "print('Becomes vector:\\n{}'.format(X_train_array[0, :]))\n",
    "print('of words:\\n{}'.format(cv.get_feature_names()))"
   ]
  },
  {
   "cell_type": "markdown",
   "metadata": {
    "colab_type": "text",
    "id": "HMvK1Agf8aKD"
   },
   "source": [
    "### 4.1.2 TF-IDF"
   ]
  },
  {
   "cell_type": "code",
   "execution_count": 31,
   "metadata": {
    "colab": {},
    "colab_type": "code",
    "id": "MTDUAS1e8aKE"
   },
   "outputs": [],
   "source": [
    "# Using the example above, TF-IDF matrix is computed using TfidfTransformer\n",
    "# It is an object which computes automatically the weighting of a BOW matrix\n",
    "from sklearn.feature_extraction.text import TfidfVectorizer \n",
    "from sklearn.feature_extraction.text import TfidfTransformer"
   ]
  },
  {
   "cell_type": "code",
   "execution_count": 32,
   "metadata": {
    "colab": {
     "base_uri": "https://localhost:8080/",
     "height": 221
    },
    "colab_type": "code",
    "id": "3NMX4sgW8aKG",
    "outputId": "d1fccd57-c3b6-48d9-9617-882f0dc9585e"
   },
   "outputs": [
    {
     "name": "stdout",
     "output_type": "stream",
     "text": [
      "Original Bag Of Words natrix:\n",
      "[[1 1 0 0 1 0 1 0 0 0 0 1 0 1 1 0 1 0 1 0 1 1 0 1]\n",
      " [0 0 1 1 0 1 0 1 1 1 1 0 1 0 0 1 0 1 0 1 0 0 1 0]]\n",
      "TF-IDF transformed matrix:\n",
      "[[0.28867513 0.28867513 0.         0.         0.28867513 0.\n",
      "  0.28867513 0.         0.         0.         0.         0.28867513\n",
      "  0.         0.28867513 0.28867513 0.         0.28867513 0.\n",
      "  0.28867513 0.         0.28867513 0.28867513 0.         0.28867513]\n",
      " [0.         0.         0.28867513 0.28867513 0.         0.28867513\n",
      "  0.         0.28867513 0.28867513 0.28867513 0.28867513 0.\n",
      "  0.28867513 0.         0.         0.28867513 0.         0.28867513\n",
      "  0.         0.28867513 0.         0.         0.28867513 0.        ]]\n"
     ]
    }
   ],
   "source": [
    "# Compute tfidf matrix\n",
    "tfidf = TfidfTransformer().fit(X_train, Y_train)\n",
    "# Show BOW matrix before transformation\n",
    "print('Original Bag Of Words natrix:\\n{}'.format(X_train.toarray()))\n",
    "# Transform BOW in TFIDF\n",
    "X_train = tfidf.transform(X_train)\n",
    "# Show TFIDF matrix after transformation\n",
    "print('TF-IDF transformed matrix:\\n{}'.format(X_train.toarray()))"
   ]
  },
  {
   "cell_type": "markdown",
   "metadata": {
    "colab_type": "text",
    "id": "1LTw3_KcLWgu"
   },
   "source": [
    "### 4.1.3 Syntactical features"
   ]
  },
  {
   "cell_type": "markdown",
   "metadata": {
    "colab_type": "text",
    "id": "uCYfuALMLs2X"
   },
   "source": [
    "In this chapter we investigate the correlation between syntactical features and deception. The extraction of those syntactical features have been accomplished throught Part Of Speech tagging and chunking, which give a good insight about how a text, in this case a news text, either fake or real, is composed under the grammatical point of view.\n",
    "\n",
    "**Part of Speech tagging**\n",
    "\n",
    "With Part Of Speech tagging we refer to the process which, starting from a plain text sentence, associates to every word and every punctuation sign the corresponding Part Of Speech. In this way it is possible to find out, for example, how many verbs are present in a sentence. However, it does not provide more in depth analysis of the sentence like which grammatical structures are involved in a text and which in another.\n",
    "\n",
    "**Part Of Speech chunking**\n",
    "\n",
    "Part Of Speech chunking refers to the process which, given a sentence previously POS-tagged and a grammar, namely a set of rules which connect different POS tags with each other, retrieves a tree in which previously found tags are related by some other nodes. Those nodes are the relations nodes computed by following the grammar rules.\n",
    "\n",
    "Moreover, this kind of feature has fewer dimension with respect to other high-dimensional features like BOW, which makes it suitable to be used as input for machine learning model such as trees.\n",
    "\n",
    "**Development**\n",
    "\n",
    "Developing a chunked sentence tree involves different processing steps. In each of those, Natural Language Toolkit (Nltk) library has been used: it provides some useful functionality for dealing with human language processing.\n",
    "\n",
    "1. Word tokenization\n",
    "To tokenize a sentence means to create an array of words retrieved by splitting the sentence into words and punctuation elements. Nltk allows to do this just by invoking the <code>word_tokenize()</code> function.\n",
    "2. Word tagging\n",
    "Tagging is a much more complicated step. In fact, it involves machine learning traning and testing of a model which is responsible of providing a coherent tag for every word in the tokenized array. However, all those computation are provided by nltk throught the <code>pos_tag()</code> function. Even if all the computations for pos tagging are done \"under the hood\", the user must be aware that tagging a tokenized sentence colud be resource and time consuming.\n",
    "3. Sentence chunking\n",
    "To chunk a sentence means to organize its tagged tokens into a tree, which express relations between nodes. Relations are, themselves, nodes which have POS tags or other relations as child nodes. Relations are defined by one or more grammar rules. Nltk provides the object <code>RegexParser()</code> which, given a grammar in the form of a regular expression and a list of tokenized and tagged words, automatically produces a tree. The tree must be later traversed to extract relations information from it.\n",
    "\n",
    "The rules defined inside the grammar that we used and investigated are the above ones:\n",
    "1. NP (Noun Phrase) is a sequence of determiner, adjective and a noun\n",
    "2. PP (Preposition Phrase) is a noun phrase preceded by a preposition\n",
    "3. VP (Verb Phrase) is a sequence made by a verb and its arguments\n",
    "4. CLAUSE is a sequence of a noun phrase and a predicate\n",
    "\n",
    "**Liar Liar dataset**\n",
    "\n",
    "Liar Liar dataset contains short sentences. For this reason it would be expectable to detect a low number of POS chunks. However, we expect also some kind of \"polarization\" of POS chunks, in the sense that for each row in the dataset we will expect to have, or not, a specific POS chunk, instead of having many but different in count.\n",
    "\n",
    "**Fake Or Real dataset**\n",
    "\n",
    "Since Fake Or Real dataset contians more long and detailed text news, it is expected to count a higher number of either POS chunks and POS tags with respect to Liar Liar dataset. Differently from this last one, it could be the difference count in POS tags/chunks wich matters, rather than the presence, or not, of a specific POS tag/chunk."
   ]
  },
  {
   "cell_type": "code",
   "execution_count": 33,
   "metadata": {
    "colab": {},
    "colab_type": "code",
    "id": "sjImOLlDPxAP"
   },
   "outputs": [],
   "source": [
    "# Get few rows of liar dataset (just to show bag of words)\n",
    "X_train = X_train_liar[0:2].copy()\n",
    "Y_train = Y_train_liar[0:2].copy()"
   ]
  },
  {
   "cell_type": "code",
   "execution_count": 34,
   "metadata": {
    "colab": {
     "base_uri": "https://localhost:8080/",
     "height": 119
    },
    "colab_type": "code",
    "id": "mC1XnPZNP0xM",
    "outputId": "7865b819-0f26-4eba-f694-8a910f26a5a5"
   },
   "outputs": [
    {
     "name": "stdout",
     "output_type": "stream",
     "text": [
      "[nltk_data] Downloading package punkt to /root/nltk_data...\n",
      "[nltk_data]   Package punkt is already up-to-date!\n",
      "[nltk_data] Downloading package averaged_perceptron_tagger to\n",
      "[nltk_data]     /root/nltk_data...\n",
      "[nltk_data]   Package averaged_perceptron_tagger is already up-to-\n",
      "[nltk_data]       date!\n"
     ]
    },
    {
     "data": {
      "text/plain": [
       "True"
      ]
     },
     "execution_count": 34,
     "metadata": {},
     "output_type": "execute_result"
    }
   ],
   "source": [
    "# Download nltk resources\n",
    "nltk.download('punkt')\n",
    "nltk.download('averaged_perceptron_tagger')"
   ]
  },
  {
   "cell_type": "code",
   "execution_count": 35,
   "metadata": {
    "colab": {},
    "colab_type": "code",
    "id": "prgRcH9BQDUK"
   },
   "outputs": [],
   "source": [
    "# Define a function which tags each word with the respective POS tag\n",
    "# Word and tag will be saparated by a slash (/) symbol\n",
    "def word_pos_tokenizer(sentence):\n",
    "    # Splits the sentence in tokens (words)\n",
    "    tokenized = nltk.word_tokenize(sentence)\n",
    "    # Merges the original word with the POS tag\n",
    "    # Words are lowered\n",
    "    tokenized = ['/'.join((word.lower(), tag)) for word, tag in nltk.pos_tag(tokenized)]\n",
    "    # Returns tokenized '<word>/<POS tag>' list\n",
    "    return tokenized"
   ]
  },
  {
   "cell_type": "code",
   "execution_count": 36,
   "metadata": {
    "colab": {
     "base_uri": "https://localhost:8080/",
     "height": 139
    },
    "colab_type": "code",
    "id": "UEsoDx6KQJMC",
    "outputId": "9f3127eb-8594-4886-86cd-aa5c9099f7ea"
   },
   "outputs": [
    {
     "name": "stdout",
     "output_type": "stream",
     "text": [
      "Tagged features:\n",
      "['./.', 'abortions/NNS', 'annies/NNS', 'care/NN', 'change/NN', 'demand/NN', 'free/JJ', 'group/NN', 'health/NN', 'is/VBZ', 'legislation/NN', 'likely/JJ', 'list/VBP', 'mandate/VB', 'on/IN', 'political/JJ', 'reform/NN', 'says/VBZ', 'sex/NN', 'supports/VBZ', 'surgeries/NNS', 'the/DT', 'third-trimester/NN', 'to/TO']\n",
      "\n",
      "Vectorized string:\n",
      "[[1 1 1 0 0 1 0 1 0 0 0 0 1 0 1 1 0 1 0 1 0 1 1 0]\n",
      " [1 0 0 1 1 0 1 0 1 1 1 1 0 1 0 0 1 0 1 0 1 0 0 1]]\n"
     ]
    }
   ],
   "source": [
    "# The function defined above can be passed as argument to CountVectorizer\n",
    "cv = CountVectorizer(tokenizer=word_pos_tokenizer).fit(X_train, Y_train)\n",
    "X_train_pos = cv.fit_transform(X_train)\n",
    "\n",
    "# Print results\n",
    "print(\"Tagged features:\\n{}\".format(cv.get_feature_names()))\n",
    "print()\n",
    "print(\"Vectorized string:\\n{}\".format(X_train_pos.toarray()))"
   ]
  },
  {
   "cell_type": "code",
   "execution_count": 37,
   "metadata": {
    "colab": {},
    "colab_type": "code",
    "id": "ge310D2VQnWT"
   },
   "outputs": [],
   "source": [
    "import string\n",
    "\n",
    "# Define function which extracts only POS tags\n",
    "def pos_tokenizer(sentence):\n",
    "    # Tokenize\n",
    "    tokenized = nltk.word_tokenize(sentence)\n",
    "    # Tagged \n",
    "    tagged_ = nltk.pos_tag(tokenized)\n",
    "    # Retireve tag only\n",
    "    tagged = [tag for word, tag in tagged_ if word not in set(string.punctuation)]\n",
    "    # Retrieve tag for punctuation\n",
    "    tagged += ['PUNCT' for word, tag in tagged_ if word in set(string.punctuation)]\n",
    "    # Return tagged sentence\n",
    "    return tagged"
   ]
  },
  {
   "cell_type": "code",
   "execution_count": 38,
   "metadata": {
    "colab": {
     "base_uri": "https://localhost:8080/",
     "height": 119
    },
    "colab_type": "code",
    "id": "Rhb7AxV-Qyhb",
    "outputId": "9719ff5a-b648-4ac5-9f7c-572763e202f9"
   },
   "outputs": [
    {
     "name": "stdout",
     "output_type": "stream",
     "text": [
      "Tagged features:\n",
      "['DT', 'IN', 'JJ', 'NN', 'NNS', 'PUNCT', 'TO', 'VB', 'VBP', 'VBZ']\n",
      "\n",
      "Vectorized string:\n",
      "[[1 1 1 3 2 1 0 0 1 2]\n",
      " [0 0 2 6 1 1 1 1 0 1]]\n"
     ]
    }
   ],
   "source": [
    "# The function defined above can be passed as argument to CountVectorizer\n",
    "cv = CountVectorizer(tokenizer=pos_tokenizer).fit(X_train, Y_train)\n",
    "X_train_pos = cv.fit_transform(X_train)\n",
    "\n",
    "# Print results\n",
    "print(\"Tagged features:\\n{}\".format(cv.get_feature_names()))\n",
    "print()\n",
    "print(\"Vectorized string:\\n{}\".format(X_train_pos.toarray()))"
   ]
  },
  {
   "cell_type": "code",
   "execution_count": 39,
   "metadata": {
    "colab": {},
    "colab_type": "code",
    "id": "LeD9C2REOApE"
   },
   "outputs": [],
   "source": [
    "import string\n",
    "from nltk import RegexpParser\n",
    "\n",
    "# Define a function used for chunk tokenization\n",
    "def chunk_tokenizer(sentence):\n",
    "    # Tokenize the sentence\n",
    "    tokenized = nltk.word_tokenize(sentence)\n",
    "    # Tag the sentence\n",
    "    tagged = nltk.pos_tag(tokenized)\n",
    "    # Define a grammar\n",
    "    grammar = r\"\"\"\n",
    "        NP: {<DT|JJ|NN.*>+}          # Chunk sequences of DT, JJ, NN\n",
    "        PP: {<IN><NP>}               # Chunk prepositions followed by NP\n",
    "        VP: {<VB.*><NP|PP|CLAUSE>+$} # Chunk verbs and their arguments\n",
    "        CLAUSE: {<NP><VP>}           # Chunk NP, VP\n",
    "    \"\"\"\n",
    "    # Uses a RegexParser to chunk the sentence accordingly to the grammar\n",
    "    chunked = RegexpParser(grammar, loop=2).parse(tagged)\n",
    "    # Count NP, PP, VP and CLAUSE\n",
    "    tags = chunk_traverse(chunked)\n",
    "    # Return list of tags\n",
    "    return tags\n",
    "\n",
    "# Extracts tags from tree\n",
    "def chunk_traverse(node):\n",
    "    # Case it is a leaf\n",
    "    try:\n",
    "        node.label()\n",
    "    # Return node's content\n",
    "    except AttributeError:\n",
    "        # Return the joined node\n",
    "        if node[1] in set(string.punctuation):\n",
    "            return ['PUNCT', node[1]]\n",
    "        else:\n",
    "            # Define pos tag\n",
    "            pos = node[1]\n",
    "            # Define group for POS tag (takes first two chars)\n",
    "            gpos = pos[:2]\n",
    "            # Return both\n",
    "            return [pos, gpos]\n",
    "    # Case it is a common node\n",
    "    else:\n",
    "        # Define a tag container, containing only node label\n",
    "        tags = [node.label()]\n",
    "        # Extracts tags from every child node\n",
    "        for child in node:\n",
    "            tags += chunk_traverse(child)\n",
    "        # Return a list of tags\n",
    "        return tags"
   ]
  },
  {
   "cell_type": "code",
   "execution_count": 40,
   "metadata": {
    "colab": {
     "base_uri": "https://localhost:8080/",
     "height": 88
    },
    "colab_type": "code",
    "id": "pBNKSFYVOW5h",
    "outputId": "ce38c965-0b40-4e5e-8608-a2ce0ad732b6"
   },
   "outputs": [
    {
     "name": "stdout",
     "output_type": "stream",
     "text": [
      "Original sentence: 'Says the Annies List political group supports third-trimester abortions on demand.'\n",
      "\n",
      "Tokenized sentence: ['S', 'VBZ', 'VB', 'NP', 'DT', 'DT', 'NNPS', 'NN', 'NNP', 'NN', 'JJ', 'JJ', 'NN', 'NN', 'VBZ', 'VB', 'NP', 'NN', 'NN', 'NNS', 'NN', 'PP', 'IN', 'IN', 'NP', 'NN', 'NN', 'PUNCT', '.']\n"
     ]
    }
   ],
   "source": [
    "# Example on 'Liar Liar' dataset\n",
    "sentence = X_train_liar[0]\n",
    "print(\"Original sentence: '{}'\".format(sentence))\n",
    "print()\n",
    "print(\"Tokenized sentence: {}\".format(chunk_tokenizer(sentence)))"
   ]
  },
  {
   "cell_type": "markdown",
   "metadata": {
    "colab_type": "text",
    "id": "UfFswR0gOu-C"
   },
   "source": [
    "#### 4.1.3.1 Liar Liar dataset analysis\n",
    "\n",
    "There syntactical features are computed on Liar Liar dataset. Then, computed features are inserted into a Pandas DataFrame, here called \"summary\", which helps to visualize them and develop some statistical conclusion.\n",
    "\n",
    "We are interested expecially in three metrics:\n",
    "1. Mean count of POS tags/chunks per news text\n",
    "2. Variance of counted POS tags/chunks per news text\n",
    "3. Chi-2 score (and relative P-Value) of every POS tag/chunk \n",
    "\n",
    "Summary shows that, generally, those features which are reported to be the best in term of P-Value score (with lower P-Value score), have higher mean and variance, while still it is not a strict constraint.\n",
    "\n",
    "Isolated features, e.g. Part Of Speech, which are correlated with the label are a half of all Part of Speech detected."
   ]
  },
  {
   "cell_type": "code",
   "execution_count": 0,
   "metadata": {
    "colab": {},
    "colab_type": "code",
    "id": "uDoCN-VlOdKR"
   },
   "outputs": [],
   "source": [
    "# Use LL dataset for feature analisys\n",
    "X_train, Y_train = X_train_liar.copy(), Y_train_liar.copy()"
   ]
  },
  {
   "cell_type": "code",
   "execution_count": 0,
   "metadata": {
    "colab": {},
    "colab_type": "code",
    "id": "hmnWq-GTOgyv"
   },
   "outputs": [],
   "source": [
    "# Vectorize the whole training dataset using chunk_tokenizer\n",
    "cv = CountVectorizer(tokenizer=chunk_tokenizer).fit(X_train, Y_train)\n",
    "\n",
    "X_train = cv.transform(X_train)"
   ]
  },
  {
   "cell_type": "code",
   "execution_count": 0,
   "metadata": {
    "colab": {
     "base_uri": "https://localhost:8080/",
     "height": 272
    },
    "colab_type": "code",
    "id": "ilzWBxcESxYU",
    "outputId": "12ee6508-a715-4a44-9da9-fb24c4152c6f"
   },
   "outputs": [
    {
     "data": {
      "text/plain": [
       "array([1.11409119e-01, 8.27728492e-01, 7.15617908e+00, 2.15164019e+00,\n",
       "       2.19867960e+00, 4.22191046e+01, 3.51219311e+01, 4.85001032e+00,\n",
       "       5.30208376e+01, 2.74970085e+01, 9.69671962e-03, 1.65922839e+02,\n",
       "       3.06498865e+00, 1.21188364e+00, 2.05024551e+02, 1.74414071e+02,\n",
       "       2.72580978e+00, 1.84547143e+00, 8.25252734e-04, 1.99566742e+01,\n",
       "       4.36302043e+02, 9.63688880e+00, 2.05075304e-01, 5.47786260e+01,\n",
       "       2.23014029e+02, 6.43697132e-01, 6.43697132e-01, 2.51763978e+00,\n",
       "       2.51763978e+00, 7.46304931e+01, 3.99174747e+01, 2.83146276e+01,\n",
       "       1.16028471e+01, 8.74805034e+01, 7.50249639e+01, 1.55580772e+00,\n",
       "       5.95626161e-01, 6.48978750e+00, 1.00000000e+00, 1.87744997e-02,\n",
       "       1.87744997e-02, 4.58184444e+01, 3.28863214e-01, 1.80556839e+02,\n",
       "       2.98134929e+01, 1.87910047e+01, 1.96998143e+01, 2.03356715e+01,\n",
       "       2.46253353e+01, 3.96121312e-02, 4.66618527e+00, 4.66618527e+00,\n",
       "       1.01112028e+01, 1.53290695e-01, 3.79884465e+00, 3.79884465e+00,\n",
       "       6.56488550e+00])"
      ]
     },
     "execution_count": 313,
     "metadata": {
      "tags": []
     },
     "output_type": "execute_result"
    }
   ],
   "source": [
    "# Compute the mean count for every column (POS tag/chunk)\n",
    "X_mean = X_train.toarray().mean(0)\n",
    "\n",
    "X_mean"
   ]
  },
  {
   "cell_type": "code",
   "execution_count": 0,
   "metadata": {
    "colab": {
     "base_uri": "https://localhost:8080/",
     "height": 272
    },
    "colab_type": "code",
    "id": "HLUk8rhyTaVT",
    "outputId": "6751fe3f-a3da-42c4-9345-dffbbeb7657f"
   },
   "outputs": [
    {
     "data": {
      "text/plain": [
       "array([9.55135433e-01, 4.75214334e+00, 1.51056575e+01, 5.58682512e+00,\n",
       "       5.67610884e+00, 4.79240194e+01, 4.44380518e+01, 1.18561103e+01,\n",
       "       6.49204317e+01, 3.81651848e+01, 1.06081095e-01, 1.89918041e+02,\n",
       "       5.64521755e+00, 3.42388712e+00, 2.28240527e+02, 1.95039980e+02,\n",
       "       4.08812057e+00, 2.81025187e+00, 4.06180308e-02, 2.68459869e+01,\n",
       "       4.66254275e+02, 1.52371185e+01, 6.70359696e-01, 6.09730185e+01,\n",
       "       2.43420704e+02, 1.28870167e+00, 1.28870167e+00, 5.46029126e+00,\n",
       "       5.46029126e+00, 8.29787846e+01, 5.30030128e+01, 3.96563773e+01,\n",
       "       1.48073418e+01, 1.02935603e+02, 9.52745611e+01, 2.42445819e+00,\n",
       "       1.14957561e+00, 9.06726172e+00, 0.00000000e+00, 1.76673244e-01,\n",
       "       1.76673244e-01, 5.12627914e+01, 1.37409437e+00, 2.04969788e+02,\n",
       "       3.66075981e+01, 1.98046957e+01, 2.22887082e+01, 3.03173806e+01,\n",
       "       2.99586112e+01, 2.04344434e-01, 5.93562689e+00, 5.93562689e+00,\n",
       "       1.38323621e+01, 4.75325785e-01, 5.67696662e+00, 5.67696662e+00,\n",
       "       1.37442326e+01])"
      ]
     },
     "execution_count": 315,
     "metadata": {
      "tags": []
     },
     "output_type": "execute_result"
    }
   ],
   "source": [
    "# Compute the variance for every column (POS tag/chunk)\n",
    "X_sd = X_train.toarray().std(0)\n",
    "\n",
    "X_sd"
   ]
  },
  {
   "cell_type": "code",
   "execution_count": 0,
   "metadata": {
    "colab": {},
    "colab_type": "code",
    "id": "l9DOIKzaOh2I"
   },
   "outputs": [],
   "source": [
    "# Sort features from best to worst accordingly with the chi2 function score\n",
    "\n",
    "# Import resources\n",
    "from sklearn.feature_selection import chi2\n",
    "\n",
    "# Compute chi2 (Return row vector (pvalue, chi2))\n",
    "X_chi2 = chi2(X_train, Y_train)\n",
    "X_pval = X_chi2[1] # Pvalue is the second element of the returned tuple\n",
    "X_chi2 = X_chi2[0] # Chi2 is the first element of the returned tuple"
   ]
  },
  {
   "cell_type": "code",
   "execution_count": 0,
   "metadata": {
    "colab": {
     "base_uri": "https://localhost:8080/",
     "height": 239
    },
    "colab_type": "code",
    "id": "lMkYMfrkPCmm",
    "outputId": "a075a47e-e0bb-4cbd-c8f6-40fba570b1fc"
   },
   "outputs": [
    {
     "data": {
      "text/html": [
       "<div>\n",
       "<style scoped>\n",
       "    .dataframe tbody tr th:only-of-type {\n",
       "        vertical-align: middle;\n",
       "    }\n",
       "\n",
       "    .dataframe tbody tr th {\n",
       "        vertical-align: top;\n",
       "    }\n",
       "\n",
       "    .dataframe thead th {\n",
       "        text-align: right;\n",
       "    }\n",
       "</style>\n",
       "<table border=\"1\" class=\"dataframe\">\n",
       "  <thead>\n",
       "    <tr style=\"text-align: right;\">\n",
       "      <th></th>\n",
       "      <th>#</th>\n",
       "      <th>$</th>\n",
       "      <th>''</th>\n",
       "      <th>(</th>\n",
       "      <th>)</th>\n",
       "      <th>,</th>\n",
       "      <th>.</th>\n",
       "      <th>:</th>\n",
       "      <th>CC</th>\n",
       "      <th>CD</th>\n",
       "      <th>...</th>\n",
       "      <th>VBP</th>\n",
       "      <th>VBZ</th>\n",
       "      <th>VP</th>\n",
       "      <th>WD</th>\n",
       "      <th>WDT</th>\n",
       "      <th>WP</th>\n",
       "      <th>WP$</th>\n",
       "      <th>WR</th>\n",
       "      <th>WRB</th>\n",
       "      <th>``</th>\n",
       "    </tr>\n",
       "  </thead>\n",
       "  <tbody>\n",
       "    <tr>\n",
       "      <th>mean</th>\n",
       "      <td>1.114091e-01</td>\n",
       "      <td>0.827728</td>\n",
       "      <td>7.156179</td>\n",
       "      <td>2.151640e+00</td>\n",
       "      <td>2.198680e+00</td>\n",
       "      <td>42.219105</td>\n",
       "      <td>35.121931</td>\n",
       "      <td>4.850010</td>\n",
       "      <td>53.020838</td>\n",
       "      <td>2.749701e+01</td>\n",
       "      <td>...</td>\n",
       "      <td>2.033567e+01</td>\n",
       "      <td>24.625335</td>\n",
       "      <td>3.961213e-02</td>\n",
       "      <td>4.666185e+00</td>\n",
       "      <td>4.666185e+00</td>\n",
       "      <td>10.111203</td>\n",
       "      <td>0.153291</td>\n",
       "      <td>3.798845e+00</td>\n",
       "      <td>3.798845e+00</td>\n",
       "      <td>6.564885</td>\n",
       "    </tr>\n",
       "    <tr>\n",
       "      <th>sd</th>\n",
       "      <td>9.551354e-01</td>\n",
       "      <td>4.752143</td>\n",
       "      <td>15.105658</td>\n",
       "      <td>5.586825e+00</td>\n",
       "      <td>5.676109e+00</td>\n",
       "      <td>47.924019</td>\n",
       "      <td>44.438052</td>\n",
       "      <td>11.856110</td>\n",
       "      <td>64.920432</td>\n",
       "      <td>3.816518e+01</td>\n",
       "      <td>...</td>\n",
       "      <td>3.031738e+01</td>\n",
       "      <td>29.958611</td>\n",
       "      <td>2.043444e-01</td>\n",
       "      <td>5.935627e+00</td>\n",
       "      <td>5.935627e+00</td>\n",
       "      <td>13.832362</td>\n",
       "      <td>0.475326</td>\n",
       "      <td>5.676967e+00</td>\n",
       "      <td>5.676967e+00</td>\n",
       "      <td>13.744233</td>\n",
       "    </tr>\n",
       "    <tr>\n",
       "      <th>chi2</th>\n",
       "      <td>1.824604e+02</td>\n",
       "      <td>0.231516</td>\n",
       "      <td>17261.720767</td>\n",
       "      <td>2.760596e+02</td>\n",
       "      <td>3.074772e+02</td>\n",
       "      <td>4977.179607</td>\n",
       "      <td>4032.097748</td>\n",
       "      <td>0.369941</td>\n",
       "      <td>3155.722039</td>\n",
       "      <td>1.113675e+03</td>\n",
       "      <td>...</td>\n",
       "      <td>4.669035e+02</td>\n",
       "      <td>1777.645640</td>\n",
       "      <td>9.894357e+01</td>\n",
       "      <td>3.280352e+02</td>\n",
       "      <td>3.280352e+02</td>\n",
       "      <td>2041.159885</td>\n",
       "      <td>21.858342</td>\n",
       "      <td>2.633546e+02</td>\n",
       "      <td>2.633546e+02</td>\n",
       "      <td>17376.982889</td>\n",
       "    </tr>\n",
       "    <tr>\n",
       "      <th>pvalue</th>\n",
       "      <td>1.406787e-41</td>\n",
       "      <td>0.630402</td>\n",
       "      <td>0.000000</td>\n",
       "      <td>5.423852e-62</td>\n",
       "      <td>7.741067e-69</td>\n",
       "      <td>0.000000</td>\n",
       "      <td>0.000000</td>\n",
       "      <td>0.543036</td>\n",
       "      <td>0.000000</td>\n",
       "      <td>3.520996e-244</td>\n",
       "      <td>...</td>\n",
       "      <td>1.512116e-103</td>\n",
       "      <td>0.000000</td>\n",
       "      <td>2.597999e-23</td>\n",
       "      <td>2.574758e-73</td>\n",
       "      <td>2.574758e-73</td>\n",
       "      <td>0.000000</td>\n",
       "      <td>0.000003</td>\n",
       "      <td>3.186455e-59</td>\n",
       "      <td>3.186455e-59</td>\n",
       "      <td>0.000000</td>\n",
       "    </tr>\n",
       "  </tbody>\n",
       "</table>\n",
       "<p>4 rows × 57 columns</p>\n",
       "</div>"
      ],
      "text/plain": [
       "                   #         $            ''             (             )  \\\n",
       "mean    1.114091e-01  0.827728      7.156179  2.151640e+00  2.198680e+00   \n",
       "sd      9.551354e-01  4.752143     15.105658  5.586825e+00  5.676109e+00   \n",
       "chi2    1.824604e+02  0.231516  17261.720767  2.760596e+02  3.074772e+02   \n",
       "pvalue  1.406787e-41  0.630402      0.000000  5.423852e-62  7.741067e-69   \n",
       "\n",
       "                  ,            .          :           CC             CD  \\\n",
       "mean      42.219105    35.121931   4.850010    53.020838   2.749701e+01   \n",
       "sd        47.924019    44.438052  11.856110    64.920432   3.816518e+01   \n",
       "chi2    4977.179607  4032.097748   0.369941  3155.722039   1.113675e+03   \n",
       "pvalue     0.000000     0.000000   0.543036     0.000000  3.520996e-244   \n",
       "\n",
       "            ...                 VBP          VBZ            VP            WD  \\\n",
       "mean        ...        2.033567e+01    24.625335  3.961213e-02  4.666185e+00   \n",
       "sd          ...        3.031738e+01    29.958611  2.043444e-01  5.935627e+00   \n",
       "chi2        ...        4.669035e+02  1777.645640  9.894357e+01  3.280352e+02   \n",
       "pvalue      ...       1.512116e-103     0.000000  2.597999e-23  2.574758e-73   \n",
       "\n",
       "                 WDT           WP        WP$            WR           WRB  \\\n",
       "mean    4.666185e+00    10.111203   0.153291  3.798845e+00  3.798845e+00   \n",
       "sd      5.935627e+00    13.832362   0.475326  5.676967e+00  5.676967e+00   \n",
       "chi2    3.280352e+02  2041.159885  21.858342  2.633546e+02  2.633546e+02   \n",
       "pvalue  2.574758e-73     0.000000   0.000003  3.186455e-59  3.186455e-59   \n",
       "\n",
       "                  ``  \n",
       "mean        6.564885  \n",
       "sd         13.744233  \n",
       "chi2    17376.982889  \n",
       "pvalue      0.000000  \n",
       "\n",
       "[4 rows x 57 columns]"
      ]
     },
     "execution_count": 317,
     "metadata": {
      "tags": []
     },
     "output_type": "execute_result"
    }
   ],
   "source": [
    "# Create a dataframe for data summarization\n",
    "summary = pd.DataFrame(\n",
    "    data = [X_mean, X_sd, X_chi2, X_pval],\n",
    "    columns = cv.get_feature_names(),\n",
    "    index = ['mean', 'sd', 'chi2', 'pvalue']\n",
    ")\n",
    "\n",
    "summary"
   ]
  },
  {
   "cell_type": "code",
   "execution_count": 0,
   "metadata": {
    "colab": {
     "base_uri": "https://localhost:8080/",
     "height": 222
    },
    "colab_type": "code",
    "id": "_0fMzEhRQeBj",
    "outputId": "0fdeede6-117e-4d9f-fc46-17ae9bb2fd0b"
   },
   "outputs": [
    {
     "data": {
      "text/html": [
       "<div>\n",
       "<style scoped>\n",
       "    .dataframe tbody tr th:only-of-type {\n",
       "        vertical-align: middle;\n",
       "    }\n",
       "\n",
       "    .dataframe tbody tr th {\n",
       "        vertical-align: top;\n",
       "    }\n",
       "\n",
       "    .dataframe thead th {\n",
       "        text-align: right;\n",
       "    }\n",
       "</style>\n",
       "<table border=\"1\" class=\"dataframe\">\n",
       "  <thead>\n",
       "    <tr style=\"text-align: right;\">\n",
       "      <th></th>\n",
       "      <th>NN</th>\n",
       "      <th>NP</th>\n",
       "      <th>IN</th>\n",
       "      <th>VB</th>\n",
       "      <th>``</th>\n",
       "      <th>''</th>\n",
       "      <th>DT</th>\n",
       "      <th>VBD</th>\n",
       "      <th>JJ</th>\n",
       "      <th>PUNCT</th>\n",
       "      <th>...</th>\n",
       "      <th>SYM</th>\n",
       "      <th>SY</th>\n",
       "      <th>FW</th>\n",
       "      <th>LS</th>\n",
       "      <th>PDT</th>\n",
       "      <th>PD</th>\n",
       "      <th>:</th>\n",
       "      <th>$</th>\n",
       "      <th>UH</th>\n",
       "      <th>S</th>\n",
       "    </tr>\n",
       "  </thead>\n",
       "  <tbody>\n",
       "    <tr>\n",
       "      <th>mean</th>\n",
       "      <td>436.302043</td>\n",
       "      <td>223.014029</td>\n",
       "      <td>205.024551</td>\n",
       "      <td>180.556839</td>\n",
       "      <td>6.564885</td>\n",
       "      <td>7.156179</td>\n",
       "      <td>165.922839</td>\n",
       "      <td>29.813493</td>\n",
       "      <td>174.414071</td>\n",
       "      <td>87.480503</td>\n",
       "      <td>...</td>\n",
       "      <td>0.018774</td>\n",
       "      <td>0.018774</td>\n",
       "      <td>1.211884</td>\n",
       "      <td>0.000825</td>\n",
       "      <td>0.643697</td>\n",
       "      <td>0.643697</td>\n",
       "      <td>4.850010</td>\n",
       "      <td>0.827728</td>\n",
       "      <td>0.328863</td>\n",
       "      <td>1.0</td>\n",
       "    </tr>\n",
       "    <tr>\n",
       "      <th>sd</th>\n",
       "      <td>466.254275</td>\n",
       "      <td>243.420704</td>\n",
       "      <td>228.240527</td>\n",
       "      <td>204.969788</td>\n",
       "      <td>13.744233</td>\n",
       "      <td>15.105658</td>\n",
       "      <td>189.918041</td>\n",
       "      <td>36.607598</td>\n",
       "      <td>195.039980</td>\n",
       "      <td>102.935603</td>\n",
       "      <td>...</td>\n",
       "      <td>0.176673</td>\n",
       "      <td>0.176673</td>\n",
       "      <td>3.423887</td>\n",
       "      <td>0.040618</td>\n",
       "      <td>1.288702</td>\n",
       "      <td>1.288702</td>\n",
       "      <td>11.856110</td>\n",
       "      <td>4.752143</td>\n",
       "      <td>1.374094</td>\n",
       "      <td>0.0</td>\n",
       "    </tr>\n",
       "    <tr>\n",
       "      <th>chi2</th>\n",
       "      <td>39380.551997</td>\n",
       "      <td>21027.194405</td>\n",
       "      <td>19353.936563</td>\n",
       "      <td>18187.308628</td>\n",
       "      <td>17376.982889</td>\n",
       "      <td>17261.720767</td>\n",
       "      <td>14385.597265</td>\n",
       "      <td>11225.715022</td>\n",
       "      <td>10537.132403</td>\n",
       "      <td>6920.157569</td>\n",
       "      <td>...</td>\n",
       "      <td>8.596443</td>\n",
       "      <td>8.596443</td>\n",
       "      <td>6.497298</td>\n",
       "      <td>3.910241</td>\n",
       "      <td>3.296142</td>\n",
       "      <td>3.296142</td>\n",
       "      <td>0.369941</td>\n",
       "      <td>0.231516</td>\n",
       "      <td>0.039282</td>\n",
       "      <td>0.0</td>\n",
       "    </tr>\n",
       "    <tr>\n",
       "      <th>pvalue</th>\n",
       "      <td>0.000000</td>\n",
       "      <td>0.000000</td>\n",
       "      <td>0.000000</td>\n",
       "      <td>0.000000</td>\n",
       "      <td>0.000000</td>\n",
       "      <td>0.000000</td>\n",
       "      <td>0.000000</td>\n",
       "      <td>0.000000</td>\n",
       "      <td>0.000000</td>\n",
       "      <td>0.000000</td>\n",
       "      <td>...</td>\n",
       "      <td>0.003368</td>\n",
       "      <td>0.003368</td>\n",
       "      <td>0.010804</td>\n",
       "      <td>0.047993</td>\n",
       "      <td>0.069443</td>\n",
       "      <td>0.069443</td>\n",
       "      <td>0.543036</td>\n",
       "      <td>0.630402</td>\n",
       "      <td>0.842890</td>\n",
       "      <td>1.0</td>\n",
       "    </tr>\n",
       "  </tbody>\n",
       "</table>\n",
       "<p>4 rows × 57 columns</p>\n",
       "</div>"
      ],
      "text/plain": [
       "                  NN            NP            IN            VB            ``  \\\n",
       "mean      436.302043    223.014029    205.024551    180.556839      6.564885   \n",
       "sd        466.254275    243.420704    228.240527    204.969788     13.744233   \n",
       "chi2    39380.551997  21027.194405  19353.936563  18187.308628  17376.982889   \n",
       "pvalue      0.000000      0.000000      0.000000      0.000000      0.000000   \n",
       "\n",
       "                  ''            DT           VBD            JJ        PUNCT  \\\n",
       "mean        7.156179    165.922839     29.813493    174.414071    87.480503   \n",
       "sd         15.105658    189.918041     36.607598    195.039980   102.935603   \n",
       "chi2    17261.720767  14385.597265  11225.715022  10537.132403  6920.157569   \n",
       "pvalue      0.000000      0.000000      0.000000      0.000000     0.000000   \n",
       "\n",
       "       ...        SYM        SY        FW        LS       PDT        PD  \\\n",
       "mean   ...   0.018774  0.018774  1.211884  0.000825  0.643697  0.643697   \n",
       "sd     ...   0.176673  0.176673  3.423887  0.040618  1.288702  1.288702   \n",
       "chi2   ...   8.596443  8.596443  6.497298  3.910241  3.296142  3.296142   \n",
       "pvalue ...   0.003368  0.003368  0.010804  0.047993  0.069443  0.069443   \n",
       "\n",
       "                :         $        UH    S  \n",
       "mean     4.850010  0.827728  0.328863  1.0  \n",
       "sd      11.856110  4.752143  1.374094  0.0  \n",
       "chi2     0.369941  0.231516  0.039282  0.0  \n",
       "pvalue   0.543036  0.630402  0.842890  1.0  \n",
       "\n",
       "[4 rows x 57 columns]"
      ]
     },
     "execution_count": 318,
     "metadata": {
      "tags": []
     },
     "output_type": "execute_result"
    }
   ],
   "source": [
    "# Sorting the array to find the best pvalue\n",
    "summary = summary.sort_values(by='chi2', axis=1, ascending=False)\n",
    "\n",
    "summary"
   ]
  },
  {
   "cell_type": "code",
   "execution_count": 0,
   "metadata": {
    "colab": {
     "base_uri": "https://localhost:8080/",
     "height": 607
    },
    "colab_type": "code",
    "id": "k0ivQZtOWMuN",
    "outputId": "d4a14f9c-9071-4c04-f710-a7bf2bd6fe52",
    "scrolled": true
   },
   "outputs": [
    {
     "data": {
      "image/png": "[encoded data removed]",
      "text/plain": [
       "<Figure size 1440x720 with 3 Axes>"
      ]
     },
     "metadata": {
      "tags": []
     },
     "output_type": "display_data"
    }
   ],
   "source": [
    "# Import preprocessing library from sklearn\n",
    "from sklearn.preprocessing import scale\n",
    "\n",
    "# Scales the values\n",
    "mean = summary.loc['mean']\n",
    "sd = summary.loc['sd']\n",
    "pvalue = summary.loc['pvalue']\n",
    "\n",
    "# Set figure size\n",
    "plt.figure(figsize=(20,10))\n",
    "\n",
    "# Plot mean\n",
    "plt.subplot(131)\n",
    "plt.plot(mean, summary.columns, 'r-')\n",
    "plt.title('Mean')\n",
    "\n",
    "# Plot variance\n",
    "plt.subplot(132)\n",
    "plt.plot(sd, summary.columns, 'g-')\n",
    "plt.title('Standard Deviation')\n",
    "\n",
    "# Plot pvalue\n",
    "plt.subplot(133)\n",
    "plt.plot(pvalue, summary.columns, 'b-', label='P-Value')\n",
    "plt.title('P-Value')\n",
    "\n",
    "# Plot figure\n",
    "plt.show()"
   ]
  },
  {
   "cell_type": "code",
   "execution_count": 0,
   "metadata": {
    "colab": {
     "base_uri": "https://localhost:8080/",
     "height": 222
    },
    "colab_type": "code",
    "id": "rfLa58eeQuXi",
    "outputId": "c3c53aa1-de97-4c1d-fb70-aeab9a50b2b5"
   },
   "outputs": [
    {
     "data": {
      "text/html": [
       "<div>\n",
       "<style scoped>\n",
       "    .dataframe tbody tr th:only-of-type {\n",
       "        vertical-align: middle;\n",
       "    }\n",
       "\n",
       "    .dataframe tbody tr th {\n",
       "        vertical-align: top;\n",
       "    }\n",
       "\n",
       "    .dataframe thead th {\n",
       "        text-align: right;\n",
       "    }\n",
       "</style>\n",
       "<table border=\"1\" class=\"dataframe\">\n",
       "  <thead>\n",
       "    <tr style=\"text-align: right;\">\n",
       "      <th></th>\n",
       "      <th>CD</th>\n",
       "      <th>IN</th>\n",
       "      <th>JJR</th>\n",
       "      <th>DT</th>\n",
       "      <th>PP</th>\n",
       "      <th>NP</th>\n",
       "      <th>JJ</th>\n",
       "      <th>VBP</th>\n",
       "      <th>FW</th>\n",
       "      <th>TO</th>\n",
       "      <th>...</th>\n",
       "      <th>NNS</th>\n",
       "      <th>VBG</th>\n",
       "      <th>NNPS</th>\n",
       "      <th>RBR</th>\n",
       "      <th>,</th>\n",
       "      <th>:</th>\n",
       "      <th>PUNCT</th>\n",
       "      <th>VBN</th>\n",
       "      <th>PRP</th>\n",
       "      <th>UH</th>\n",
       "    </tr>\n",
       "  </thead>\n",
       "  <tbody>\n",
       "    <tr>\n",
       "      <th>mean</th>\n",
       "      <td>1.479377e+00</td>\n",
       "      <td>4.598197e+00</td>\n",
       "      <td>1.166348e-01</td>\n",
       "      <td>3.215515e+00</td>\n",
       "      <td>1.604480e+00</td>\n",
       "      <td>4.768096</td>\n",
       "      <td>3.172357</td>\n",
       "      <td>0.426113</td>\n",
       "      <td>0.007102</td>\n",
       "      <td>0.842393</td>\n",
       "      <td>...</td>\n",
       "      <td>1.435946</td>\n",
       "      <td>0.315214</td>\n",
       "      <td>0.004917</td>\n",
       "      <td>0.030320</td>\n",
       "      <td>0.468451</td>\n",
       "      <td>0.067468</td>\n",
       "      <td>1.931713</td>\n",
       "      <td>0.444414</td>\n",
       "      <td>0.377766</td>\n",
       "      <td>0.001639</td>\n",
       "    </tr>\n",
       "    <tr>\n",
       "      <th>var</th>\n",
       "      <td>1.022991e+01</td>\n",
       "      <td>1.138212e+01</td>\n",
       "      <td>1.248831e-01</td>\n",
       "      <td>8.029216e+00</td>\n",
       "      <td>1.760526e+00</td>\n",
       "      <td>7.732345</td>\n",
       "      <td>10.611375</td>\n",
       "      <td>0.499662</td>\n",
       "      <td>0.014153</td>\n",
       "      <td>1.871090</td>\n",
       "      <td>...</td>\n",
       "      <td>1.740024</td>\n",
       "      <td>0.346966</td>\n",
       "      <td>0.004893</td>\n",
       "      <td>0.032132</td>\n",
       "      <td>0.807322</td>\n",
       "      <td>0.082036</td>\n",
       "      <td>2.153763</td>\n",
       "      <td>0.489467</td>\n",
       "      <td>0.584690</td>\n",
       "      <td>0.003275</td>\n",
       "    </tr>\n",
       "    <tr>\n",
       "      <th>chi2</th>\n",
       "      <td>1.152144e+02</td>\n",
       "      <td>8.293268e+01</td>\n",
       "      <td>4.079942e+01</td>\n",
       "      <td>2.823902e+01</td>\n",
       "      <td>2.801879e+01</td>\n",
       "      <td>20.390112</td>\n",
       "      <td>20.063203</td>\n",
       "      <td>18.524732</td>\n",
       "      <td>15.845255</td>\n",
       "      <td>14.726476</td>\n",
       "      <td>...</td>\n",
       "      <td>10.000811</td>\n",
       "      <td>9.321794</td>\n",
       "      <td>8.690099</td>\n",
       "      <td>8.436822</td>\n",
       "      <td>8.405579</td>\n",
       "      <td>7.937981</td>\n",
       "      <td>7.059857</td>\n",
       "      <td>6.709861</td>\n",
       "      <td>5.543725</td>\n",
       "      <td>5.054857</td>\n",
       "    </tr>\n",
       "    <tr>\n",
       "      <th>pvalue</th>\n",
       "      <td>7.063347e-27</td>\n",
       "      <td>8.489604e-20</td>\n",
       "      <td>1.686832e-10</td>\n",
       "      <td>1.072209e-07</td>\n",
       "      <td>1.201431e-07</td>\n",
       "      <td>0.000006</td>\n",
       "      <td>0.000007</td>\n",
       "      <td>0.000017</td>\n",
       "      <td>0.000069</td>\n",
       "      <td>0.000124</td>\n",
       "      <td>...</td>\n",
       "      <td>0.001565</td>\n",
       "      <td>0.002264</td>\n",
       "      <td>0.003199</td>\n",
       "      <td>0.003677</td>\n",
       "      <td>0.003741</td>\n",
       "      <td>0.004841</td>\n",
       "      <td>0.007883</td>\n",
       "      <td>0.009588</td>\n",
       "      <td>0.018547</td>\n",
       "      <td>0.024557</td>\n",
       "    </tr>\n",
       "  </tbody>\n",
       "</table>\n",
       "<p>4 rows × 25 columns</p>\n",
       "</div>"
      ],
      "text/plain": [
       "                  CD            IN           JJR            DT            PP  \\\n",
       "mean    1.479377e+00  4.598197e+00  1.166348e-01  3.215515e+00  1.604480e+00   \n",
       "var     1.022991e+01  1.138212e+01  1.248831e-01  8.029216e+00  1.760526e+00   \n",
       "chi2    1.152144e+02  8.293268e+01  4.079942e+01  2.823902e+01  2.801879e+01   \n",
       "pvalue  7.063347e-27  8.489604e-20  1.686832e-10  1.072209e-07  1.201431e-07   \n",
       "\n",
       "               NP         JJ        VBP         FW         TO    ...     \\\n",
       "mean     4.768096   3.172357   0.426113   0.007102   0.842393    ...      \n",
       "var      7.732345  10.611375   0.499662   0.014153   1.871090    ...      \n",
       "chi2    20.390112  20.063203  18.524732  15.845255  14.726476    ...      \n",
       "pvalue   0.000006   0.000007   0.000017   0.000069   0.000124    ...      \n",
       "\n",
       "              NNS       VBG      NNPS       RBR         ,         :     PUNCT  \\\n",
       "mean     1.435946  0.315214  0.004917  0.030320  0.468451  0.067468  1.931713   \n",
       "var      1.740024  0.346966  0.004893  0.032132  0.807322  0.082036  2.153763   \n",
       "chi2    10.000811  9.321794  8.690099  8.436822  8.405579  7.937981  7.059857   \n",
       "pvalue   0.001565  0.002264  0.003199  0.003677  0.003741  0.004841  0.007883   \n",
       "\n",
       "             VBN       PRP        UH  \n",
       "mean    0.444414  0.377766  0.001639  \n",
       "var     0.489467  0.584690  0.003275  \n",
       "chi2    6.709861  5.543725  5.054857  \n",
       "pvalue  0.009588  0.018547  0.024557  \n",
       "\n",
       "[4 rows x 25 columns]"
      ]
     },
     "execution_count": 59,
     "metadata": {
      "tags": []
     },
     "output_type": "execute_result"
    }
   ],
   "source": [
    "# Extract the best chunks: the ones with p-value lower than 0.05\n",
    "# Note the number of POS tags is now reduced from 45 to 25\n",
    "summary.loc[:, summary.loc['pvalue', :] < 0.05]"
   ]
  },
  {
   "cell_type": "code",
   "execution_count": 0,
   "metadata": {
    "colab": {
     "base_uri": "https://localhost:8080/",
     "height": 623
    },
    "colab_type": "code",
    "id": "QHN5ivp2f7xF",
    "outputId": "e2707a5f-0dd4-411c-baed-2ab0eb36a56b"
   },
   "outputs": [
    {
     "data": {
      "image/png": "[encoded data removed]",
      "text/plain": [
       "<Figure size 1440x720 with 3 Axes>"
      ]
     },
     "metadata": {
      "tags": []
     },
     "output_type": "display_data"
    }
   ],
   "source": [
    "# Import preprocessing library from sklearn\n",
    "from sklearn.preprocessing import scale\n",
    "\n",
    "# Retrieve only values with pvalue lower than 0.05\n",
    "summary_ = summary.loc[:, summary.loc['pvalue', :] < 0.05]\n",
    "\n",
    "# Scales the values\n",
    "mean = summary_.loc['mean']\n",
    "sd = summary_.loc['sd']\n",
    "pvalue = summary_.loc['pvalue']\n",
    "\n",
    "# Set figure size\n",
    "plt.figure(figsize=(20,10))\n",
    "\n",
    "# Plot mean\n",
    "plt.subplot(131)\n",
    "plt.plot(mean, summary_.columns, 'r-')\n",
    "plt.title('Mean\\n(P-Value<0.05)')\n",
    "\n",
    "# Plot variance\n",
    "plt.subplot(132)\n",
    "plt.plot(sd, summary_.columns, 'g-')\n",
    "plt.title('Standard Deviation\\n(P-Value<0.05)')\n",
    "\n",
    "# Plot pvalue\n",
    "plt.subplot(133)\n",
    "plt.plot(pvalue, summary_.columns, 'b-')\n",
    "plt.title('P-Value\\n(P-Value<0.05)')\n",
    "\n",
    "# Plot figure\n",
    "plt.show()"
   ]
  },
  {
   "cell_type": "code",
   "execution_count": 0,
   "metadata": {
    "colab": {
     "base_uri": "https://localhost:8080/",
     "height": 173
    },
    "colab_type": "code",
    "id": "QJJRkeZzR98O",
    "outputId": "594f948f-ecfa-4326-ad48-695fa8148384"
   },
   "outputs": [
    {
     "data": {
      "text/html": [
       "<div>\n",
       "<style scoped>\n",
       "    .dataframe tbody tr th:only-of-type {\n",
       "        vertical-align: middle;\n",
       "    }\n",
       "\n",
       "    .dataframe tbody tr th {\n",
       "        vertical-align: top;\n",
       "    }\n",
       "\n",
       "    .dataframe thead th {\n",
       "        text-align: right;\n",
       "    }\n",
       "</style>\n",
       "<table border=\"1\" class=\"dataframe\">\n",
       "  <thead>\n",
       "    <tr style=\"text-align: right;\">\n",
       "      <th></th>\n",
       "      <th>PDT</th>\n",
       "      <th>PD</th>\n",
       "      <th>:</th>\n",
       "      <th>$</th>\n",
       "      <th>UH</th>\n",
       "      <th>S</th>\n",
       "    </tr>\n",
       "  </thead>\n",
       "  <tbody>\n",
       "    <tr>\n",
       "      <th>mean</th>\n",
       "      <td>0.643697</td>\n",
       "      <td>0.643697</td>\n",
       "      <td>4.850010</td>\n",
       "      <td>0.827728</td>\n",
       "      <td>0.328863</td>\n",
       "      <td>1.0</td>\n",
       "    </tr>\n",
       "    <tr>\n",
       "      <th>sd</th>\n",
       "      <td>1.288702</td>\n",
       "      <td>1.288702</td>\n",
       "      <td>11.856110</td>\n",
       "      <td>4.752143</td>\n",
       "      <td>1.374094</td>\n",
       "      <td>0.0</td>\n",
       "    </tr>\n",
       "    <tr>\n",
       "      <th>chi2</th>\n",
       "      <td>3.296142</td>\n",
       "      <td>3.296142</td>\n",
       "      <td>0.369941</td>\n",
       "      <td>0.231516</td>\n",
       "      <td>0.039282</td>\n",
       "      <td>0.0</td>\n",
       "    </tr>\n",
       "    <tr>\n",
       "      <th>pvalue</th>\n",
       "      <td>0.069443</td>\n",
       "      <td>0.069443</td>\n",
       "      <td>0.543036</td>\n",
       "      <td>0.630402</td>\n",
       "      <td>0.842890</td>\n",
       "      <td>1.0</td>\n",
       "    </tr>\n",
       "  </tbody>\n",
       "</table>\n",
       "</div>"
      ],
      "text/plain": [
       "             PDT        PD          :         $        UH    S\n",
       "mean    0.643697  0.643697   4.850010  0.827728  0.328863  1.0\n",
       "sd      1.288702  1.288702  11.856110  4.752143  1.374094  0.0\n",
       "chi2    3.296142  3.296142   0.369941  0.231516  0.039282  0.0\n",
       "pvalue  0.069443  0.069443   0.543036  0.630402  0.842890  1.0"
      ]
     },
     "execution_count": 322,
     "metadata": {
      "tags": []
     },
     "output_type": "execute_result"
    }
   ],
   "source": [
    "# Extract the worst chunks: the ones with p-value higher than 0.05\n",
    "summary.loc[:, summary.loc['pvalue', :] >= 0.05]"
   ]
  },
  {
   "cell_type": "code",
   "execution_count": 0,
   "metadata": {
    "colab": {
     "base_uri": "https://localhost:8080/",
     "height": 623
    },
    "colab_type": "code",
    "id": "CmAgfsR5mrrr",
    "outputId": "07b8ca3e-d3ba-4759-e488-512b17872d85"
   },
   "outputs": [
    {
     "data": {
      "image/png": "[encoded data removed]",
      "text/plain": [
       "<Figure size 1440x720 with 3 Axes>"
      ]
     },
     "metadata": {
      "tags": []
     },
     "output_type": "display_data"
    }
   ],
   "source": [
    "# Import preprocessing library from sklearn\n",
    "from sklearn.preprocessing import scale\n",
    "\n",
    "# Retrieve only values with pvalue lower than 0.05\n",
    "summary_ = summary.loc[:, summary.loc['pvalue', :] >= 0.05]\n",
    "\n",
    "# Scales the values\n",
    "mean = summary_.loc['mean']\n",
    "sd = summary_.loc['sd']\n",
    "pvalue = summary_.loc['pvalue']\n",
    "\n",
    "# Set figure size\n",
    "plt.figure(figsize=(20,10))\n",
    "\n",
    "# Plot mean\n",
    "plt.subplot(131)\n",
    "plt.plot(mean, summary_.columns, 'r-')\n",
    "plt.title('Mean\\n(P-Value>=0.05)')\n",
    "\n",
    "# Plot variance\n",
    "plt.subplot(132)\n",
    "plt.plot(sd, summary_.columns, 'g-')\n",
    "plt.title('Standard Deviation\\n(P-Value>=0.05)')\n",
    "\n",
    "# Plot pvalue\n",
    "plt.subplot(133)\n",
    "plt.plot(pvalue, summary_.columns, 'b-')\n",
    "plt.title('P-Value\\n(P-Value>=0.05)')\n",
    "\n",
    "# Plot figure\n",
    "plt.show()"
   ]
  },
  {
   "cell_type": "markdown",
   "metadata": {
    "colab_type": "text",
    "id": "HyIvhWKlZ6pV"
   },
   "source": [
    "#### 4.1.3.2 Fake Or Real Dataset analisys\n",
    "\n"
   ]
  },
  {
   "cell_type": "code",
   "execution_count": 0,
   "metadata": {
    "colab": {},
    "colab_type": "code",
    "id": "KztqXlx4adYe"
   },
   "outputs": [],
   "source": [
    "# Use LL dataset for feature analisys\n",
    "X_train, Y_train = X_train_fake_or_real.copy(), Y_train_fake_or_real.copy()"
   ]
  },
  {
   "cell_type": "code",
   "execution_count": 0,
   "metadata": {
    "colab": {},
    "colab_type": "code",
    "id": "ofiAOLuMadYh"
   },
   "outputs": [],
   "source": [
    "# Vectorize the whole training dataset using chunk_tokenizer\n",
    "cv = CountVectorizer(tokenizer=chunk_tokenizer).fit(X_train, Y_train)\n",
    "\n",
    "X_train = cv.transform(X_train)"
   ]
  },
  {
   "cell_type": "code",
   "execution_count": 0,
   "metadata": {
    "colab": {
     "base_uri": "https://localhost:8080/",
     "height": 272
    },
    "colab_type": "code",
    "id": "cIlxIG5ZadYj",
    "outputId": "8fa950c1-0b03-4540-d5fd-e8a1c61220f8"
   },
   "outputs": [
    {
     "data": {
      "text/plain": [
       "array([1.11409119e-01, 8.27728492e-01, 7.15617908e+00, 2.15164019e+00,\n",
       "       2.19867960e+00, 4.22191046e+01, 3.51219311e+01, 4.85001032e+00,\n",
       "       5.30208376e+01, 2.74970085e+01, 9.69671962e-03, 1.65922839e+02,\n",
       "       3.06498865e+00, 1.21188364e+00, 2.05024551e+02, 1.74414071e+02,\n",
       "       2.72580978e+00, 1.84547143e+00, 8.25252734e-04, 1.99566742e+01,\n",
       "       4.36302043e+02, 9.63688880e+00, 2.05075304e-01, 5.47786260e+01,\n",
       "       2.23014029e+02, 6.43697132e-01, 6.43697132e-01, 2.51763978e+00,\n",
       "       2.51763978e+00, 7.46304931e+01, 3.99174747e+01, 2.83146276e+01,\n",
       "       1.16028471e+01, 8.74805034e+01, 7.50249639e+01, 1.55580772e+00,\n",
       "       5.95626161e-01, 6.48978750e+00, 1.00000000e+00, 1.87744997e-02,\n",
       "       1.87744997e-02, 4.58184444e+01, 3.28863214e-01, 1.80556839e+02,\n",
       "       2.98134929e+01, 1.87910047e+01, 1.96998143e+01, 2.03356715e+01,\n",
       "       2.46253353e+01, 3.96121312e-02, 4.66618527e+00, 4.66618527e+00,\n",
       "       1.01112028e+01, 1.53290695e-01, 3.79884465e+00, 3.79884465e+00,\n",
       "       6.56488550e+00])"
      ]
     },
     "execution_count": 297,
     "metadata": {
      "tags": []
     },
     "output_type": "execute_result"
    }
   ],
   "source": [
    "# Compute the mean count for every column (POS tag/chunk)\n",
    "X_mean = X_train.toarray().mean(0)\n",
    "\n",
    "X_mean"
   ]
  },
  {
   "cell_type": "code",
   "execution_count": 0,
   "metadata": {
    "colab": {
     "base_uri": "https://localhost:8080/",
     "height": 272
    },
    "colab_type": "code",
    "id": "fIIyydOxadYk",
    "outputId": "aadd3cf3-3c00-4c5b-e851-ad0f44ebb6da"
   },
   "outputs": [
    {
     "data": {
      "text/plain": [
       "array([9.55135433e-01, 4.75214334e+00, 1.51056575e+01, 5.58682512e+00,\n",
       "       5.67610884e+00, 4.79240194e+01, 4.44380518e+01, 1.18561103e+01,\n",
       "       6.49204317e+01, 3.81651848e+01, 1.06081095e-01, 1.89918041e+02,\n",
       "       5.64521755e+00, 3.42388712e+00, 2.28240527e+02, 1.95039980e+02,\n",
       "       4.08812057e+00, 2.81025187e+00, 4.06180308e-02, 2.68459869e+01,\n",
       "       4.66254275e+02, 1.52371185e+01, 6.70359696e-01, 6.09730185e+01,\n",
       "       2.43420704e+02, 1.28870167e+00, 1.28870167e+00, 5.46029126e+00,\n",
       "       5.46029126e+00, 8.29787846e+01, 5.30030128e+01, 3.96563773e+01,\n",
       "       1.48073418e+01, 1.02935603e+02, 9.52745611e+01, 2.42445819e+00,\n",
       "       1.14957561e+00, 9.06726172e+00, 0.00000000e+00, 1.76673244e-01,\n",
       "       1.76673244e-01, 5.12627914e+01, 1.37409437e+00, 2.04969788e+02,\n",
       "       3.66075981e+01, 1.98046957e+01, 2.22887082e+01, 3.03173806e+01,\n",
       "       2.99586112e+01, 2.04344434e-01, 5.93562689e+00, 5.93562689e+00,\n",
       "       1.38323621e+01, 4.75325785e-01, 5.67696662e+00, 5.67696662e+00,\n",
       "       1.37442326e+01])"
      ]
     },
     "execution_count": 302,
     "metadata": {
      "tags": []
     },
     "output_type": "execute_result"
    }
   ],
   "source": [
    "# Compute the variance for every column (POS tag/chunk)\n",
    "X_sd = X_train.toarray().std(0)\n",
    "\n",
    "X_sd"
   ]
  },
  {
   "cell_type": "code",
   "execution_count": 0,
   "metadata": {
    "colab": {},
    "colab_type": "code",
    "id": "p4Uq-vV-adYo"
   },
   "outputs": [],
   "source": [
    "# Sort features from best to worst accordingly with the chi2 function score\n",
    "\n",
    "# Import resources\n",
    "from sklearn.feature_selection import chi2\n",
    "\n",
    "# Compute chi2 (Return row vector (pvalue, chi2))\n",
    "X_chi2 = chi2(X_train, Y_train)\n",
    "X_pval = X_chi2[1] # Pvalue is the second element of the returned tuple\n",
    "X_chi2 = X_chi2[0] # Chi2 is the first element of the returned tuple"
   ]
  },
  {
   "cell_type": "code",
   "execution_count": 0,
   "metadata": {
    "colab": {
     "base_uri": "https://localhost:8080/",
     "height": 239
    },
    "colab_type": "code",
    "id": "bL0fgNugadYr",
    "outputId": "6f21cd49-64da-49c7-eb71-eea1fcd7d90e"
   },
   "outputs": [
    {
     "data": {
      "text/html": [
       "<div>\n",
       "<style scoped>\n",
       "    .dataframe tbody tr th:only-of-type {\n",
       "        vertical-align: middle;\n",
       "    }\n",
       "\n",
       "    .dataframe tbody tr th {\n",
       "        vertical-align: top;\n",
       "    }\n",
       "\n",
       "    .dataframe thead th {\n",
       "        text-align: right;\n",
       "    }\n",
       "</style>\n",
       "<table border=\"1\" class=\"dataframe\">\n",
       "  <thead>\n",
       "    <tr style=\"text-align: right;\">\n",
       "      <th></th>\n",
       "      <th>#</th>\n",
       "      <th>$</th>\n",
       "      <th>''</th>\n",
       "      <th>(</th>\n",
       "      <th>)</th>\n",
       "      <th>,</th>\n",
       "      <th>.</th>\n",
       "      <th>:</th>\n",
       "      <th>CC</th>\n",
       "      <th>CD</th>\n",
       "      <th>...</th>\n",
       "      <th>VBP</th>\n",
       "      <th>VBZ</th>\n",
       "      <th>VP</th>\n",
       "      <th>WD</th>\n",
       "      <th>WDT</th>\n",
       "      <th>WP</th>\n",
       "      <th>WP$</th>\n",
       "      <th>WR</th>\n",
       "      <th>WRB</th>\n",
       "      <th>``</th>\n",
       "    </tr>\n",
       "  </thead>\n",
       "  <tbody>\n",
       "    <tr>\n",
       "      <th>mean</th>\n",
       "      <td>1.114091e-01</td>\n",
       "      <td>0.827728</td>\n",
       "      <td>7.156179</td>\n",
       "      <td>2.151640e+00</td>\n",
       "      <td>2.198680e+00</td>\n",
       "      <td>42.219105</td>\n",
       "      <td>35.121931</td>\n",
       "      <td>4.850010</td>\n",
       "      <td>53.020838</td>\n",
       "      <td>2.749701e+01</td>\n",
       "      <td>...</td>\n",
       "      <td>2.033567e+01</td>\n",
       "      <td>24.625335</td>\n",
       "      <td>3.961213e-02</td>\n",
       "      <td>4.666185e+00</td>\n",
       "      <td>4.666185e+00</td>\n",
       "      <td>10.111203</td>\n",
       "      <td>0.153291</td>\n",
       "      <td>3.798845e+00</td>\n",
       "      <td>3.798845e+00</td>\n",
       "      <td>6.564885</td>\n",
       "    </tr>\n",
       "    <tr>\n",
       "      <th>sd</th>\n",
       "      <td>9.551354e-01</td>\n",
       "      <td>4.752143</td>\n",
       "      <td>15.105658</td>\n",
       "      <td>5.586825e+00</td>\n",
       "      <td>5.676109e+00</td>\n",
       "      <td>47.924019</td>\n",
       "      <td>44.438052</td>\n",
       "      <td>11.856110</td>\n",
       "      <td>64.920432</td>\n",
       "      <td>3.816518e+01</td>\n",
       "      <td>...</td>\n",
       "      <td>3.031738e+01</td>\n",
       "      <td>29.958611</td>\n",
       "      <td>2.043444e-01</td>\n",
       "      <td>5.935627e+00</td>\n",
       "      <td>5.935627e+00</td>\n",
       "      <td>13.832362</td>\n",
       "      <td>0.475326</td>\n",
       "      <td>5.676967e+00</td>\n",
       "      <td>5.676967e+00</td>\n",
       "      <td>13.744233</td>\n",
       "    </tr>\n",
       "    <tr>\n",
       "      <th>chi2</th>\n",
       "      <td>1.824604e+02</td>\n",
       "      <td>0.231516</td>\n",
       "      <td>17261.720767</td>\n",
       "      <td>2.760596e+02</td>\n",
       "      <td>3.074772e+02</td>\n",
       "      <td>4977.179607</td>\n",
       "      <td>4032.097748</td>\n",
       "      <td>0.369941</td>\n",
       "      <td>3155.722039</td>\n",
       "      <td>1.113675e+03</td>\n",
       "      <td>...</td>\n",
       "      <td>4.669035e+02</td>\n",
       "      <td>1777.645640</td>\n",
       "      <td>9.894357e+01</td>\n",
       "      <td>3.280352e+02</td>\n",
       "      <td>3.280352e+02</td>\n",
       "      <td>2041.159885</td>\n",
       "      <td>21.858342</td>\n",
       "      <td>2.633546e+02</td>\n",
       "      <td>2.633546e+02</td>\n",
       "      <td>17376.982889</td>\n",
       "    </tr>\n",
       "    <tr>\n",
       "      <th>pvalue</th>\n",
       "      <td>1.406787e-41</td>\n",
       "      <td>0.630402</td>\n",
       "      <td>0.000000</td>\n",
       "      <td>5.423852e-62</td>\n",
       "      <td>7.741067e-69</td>\n",
       "      <td>0.000000</td>\n",
       "      <td>0.000000</td>\n",
       "      <td>0.543036</td>\n",
       "      <td>0.000000</td>\n",
       "      <td>3.520996e-244</td>\n",
       "      <td>...</td>\n",
       "      <td>1.512116e-103</td>\n",
       "      <td>0.000000</td>\n",
       "      <td>2.597999e-23</td>\n",
       "      <td>2.574758e-73</td>\n",
       "      <td>2.574758e-73</td>\n",
       "      <td>0.000000</td>\n",
       "      <td>0.000003</td>\n",
       "      <td>3.186455e-59</td>\n",
       "      <td>3.186455e-59</td>\n",
       "      <td>0.000000</td>\n",
       "    </tr>\n",
       "  </tbody>\n",
       "</table>\n",
       "<p>4 rows × 57 columns</p>\n",
       "</div>"
      ],
      "text/plain": [
       "                   #         $            ''             (             )  \\\n",
       "mean    1.114091e-01  0.827728      7.156179  2.151640e+00  2.198680e+00   \n",
       "sd      9.551354e-01  4.752143     15.105658  5.586825e+00  5.676109e+00   \n",
       "chi2    1.824604e+02  0.231516  17261.720767  2.760596e+02  3.074772e+02   \n",
       "pvalue  1.406787e-41  0.630402      0.000000  5.423852e-62  7.741067e-69   \n",
       "\n",
       "                  ,            .          :           CC             CD  \\\n",
       "mean      42.219105    35.121931   4.850010    53.020838   2.749701e+01   \n",
       "sd        47.924019    44.438052  11.856110    64.920432   3.816518e+01   \n",
       "chi2    4977.179607  4032.097748   0.369941  3155.722039   1.113675e+03   \n",
       "pvalue     0.000000     0.000000   0.543036     0.000000  3.520996e-244   \n",
       "\n",
       "            ...                 VBP          VBZ            VP            WD  \\\n",
       "mean        ...        2.033567e+01    24.625335  3.961213e-02  4.666185e+00   \n",
       "sd          ...        3.031738e+01    29.958611  2.043444e-01  5.935627e+00   \n",
       "chi2        ...        4.669035e+02  1777.645640  9.894357e+01  3.280352e+02   \n",
       "pvalue      ...       1.512116e-103     0.000000  2.597999e-23  2.574758e-73   \n",
       "\n",
       "                 WDT           WP        WP$            WR           WRB  \\\n",
       "mean    4.666185e+00    10.111203   0.153291  3.798845e+00  3.798845e+00   \n",
       "sd      5.935627e+00    13.832362   0.475326  5.676967e+00  5.676967e+00   \n",
       "chi2    3.280352e+02  2041.159885  21.858342  2.633546e+02  2.633546e+02   \n",
       "pvalue  2.574758e-73     0.000000   0.000003  3.186455e-59  3.186455e-59   \n",
       "\n",
       "                  ``  \n",
       "mean        6.564885  \n",
       "sd         13.744233  \n",
       "chi2    17376.982889  \n",
       "pvalue      0.000000  \n",
       "\n",
       "[4 rows x 57 columns]"
      ]
     },
     "execution_count": 303,
     "metadata": {
      "tags": []
     },
     "output_type": "execute_result"
    }
   ],
   "source": [
    "# Create a dataframe for data summarization\n",
    "summary = pd.DataFrame(\n",
    "    data = [X_mean, X_sd, X_chi2, X_pval],\n",
    "    columns = cv.get_feature_names(),\n",
    "    index = ['mean', 'sd', 'chi2', 'pvalue']\n",
    ")\n",
    "\n",
    "summary"
   ]
  },
  {
   "cell_type": "code",
   "execution_count": 0,
   "metadata": {
    "colab": {
     "base_uri": "https://localhost:8080/",
     "height": 222
    },
    "colab_type": "code",
    "id": "-cOPUgMjadYx",
    "outputId": "b5238ce4-ad7d-47a7-a62e-a98f813dd09d"
   },
   "outputs": [
    {
     "data": {
      "text/html": [
       "<div>\n",
       "<style scoped>\n",
       "    .dataframe tbody tr th:only-of-type {\n",
       "        vertical-align: middle;\n",
       "    }\n",
       "\n",
       "    .dataframe tbody tr th {\n",
       "        vertical-align: top;\n",
       "    }\n",
       "\n",
       "    .dataframe thead th {\n",
       "        text-align: right;\n",
       "    }\n",
       "</style>\n",
       "<table border=\"1\" class=\"dataframe\">\n",
       "  <thead>\n",
       "    <tr style=\"text-align: right;\">\n",
       "      <th></th>\n",
       "      <th>NN</th>\n",
       "      <th>NP</th>\n",
       "      <th>IN</th>\n",
       "      <th>VB</th>\n",
       "      <th>``</th>\n",
       "      <th>''</th>\n",
       "      <th>DT</th>\n",
       "      <th>VBD</th>\n",
       "      <th>JJ</th>\n",
       "      <th>PUNCT</th>\n",
       "      <th>...</th>\n",
       "      <th>SYM</th>\n",
       "      <th>SY</th>\n",
       "      <th>FW</th>\n",
       "      <th>LS</th>\n",
       "      <th>PDT</th>\n",
       "      <th>PD</th>\n",
       "      <th>:</th>\n",
       "      <th>$</th>\n",
       "      <th>UH</th>\n",
       "      <th>S</th>\n",
       "    </tr>\n",
       "  </thead>\n",
       "  <tbody>\n",
       "    <tr>\n",
       "      <th>mean</th>\n",
       "      <td>436.302043</td>\n",
       "      <td>223.014029</td>\n",
       "      <td>205.024551</td>\n",
       "      <td>180.556839</td>\n",
       "      <td>6.564885</td>\n",
       "      <td>7.156179</td>\n",
       "      <td>165.922839</td>\n",
       "      <td>29.813493</td>\n",
       "      <td>174.414071</td>\n",
       "      <td>87.480503</td>\n",
       "      <td>...</td>\n",
       "      <td>0.018774</td>\n",
       "      <td>0.018774</td>\n",
       "      <td>1.211884</td>\n",
       "      <td>0.000825</td>\n",
       "      <td>0.643697</td>\n",
       "      <td>0.643697</td>\n",
       "      <td>4.850010</td>\n",
       "      <td>0.827728</td>\n",
       "      <td>0.328863</td>\n",
       "      <td>1.0</td>\n",
       "    </tr>\n",
       "    <tr>\n",
       "      <th>sd</th>\n",
       "      <td>466.254275</td>\n",
       "      <td>243.420704</td>\n",
       "      <td>228.240527</td>\n",
       "      <td>204.969788</td>\n",
       "      <td>13.744233</td>\n",
       "      <td>15.105658</td>\n",
       "      <td>189.918041</td>\n",
       "      <td>36.607598</td>\n",
       "      <td>195.039980</td>\n",
       "      <td>102.935603</td>\n",
       "      <td>...</td>\n",
       "      <td>0.176673</td>\n",
       "      <td>0.176673</td>\n",
       "      <td>3.423887</td>\n",
       "      <td>0.040618</td>\n",
       "      <td>1.288702</td>\n",
       "      <td>1.288702</td>\n",
       "      <td>11.856110</td>\n",
       "      <td>4.752143</td>\n",
       "      <td>1.374094</td>\n",
       "      <td>0.0</td>\n",
       "    </tr>\n",
       "    <tr>\n",
       "      <th>chi2</th>\n",
       "      <td>39380.551997</td>\n",
       "      <td>21027.194405</td>\n",
       "      <td>19353.936563</td>\n",
       "      <td>18187.308628</td>\n",
       "      <td>17376.982889</td>\n",
       "      <td>17261.720767</td>\n",
       "      <td>14385.597265</td>\n",
       "      <td>11225.715022</td>\n",
       "      <td>10537.132403</td>\n",
       "      <td>6920.157569</td>\n",
       "      <td>...</td>\n",
       "      <td>8.596443</td>\n",
       "      <td>8.596443</td>\n",
       "      <td>6.497298</td>\n",
       "      <td>3.910241</td>\n",
       "      <td>3.296142</td>\n",
       "      <td>3.296142</td>\n",
       "      <td>0.369941</td>\n",
       "      <td>0.231516</td>\n",
       "      <td>0.039282</td>\n",
       "      <td>0.0</td>\n",
       "    </tr>\n",
       "    <tr>\n",
       "      <th>pvalue</th>\n",
       "      <td>0.000000</td>\n",
       "      <td>0.000000</td>\n",
       "      <td>0.000000</td>\n",
       "      <td>0.000000</td>\n",
       "      <td>0.000000</td>\n",
       "      <td>0.000000</td>\n",
       "      <td>0.000000</td>\n",
       "      <td>0.000000</td>\n",
       "      <td>0.000000</td>\n",
       "      <td>0.000000</td>\n",
       "      <td>...</td>\n",
       "      <td>0.003368</td>\n",
       "      <td>0.003368</td>\n",
       "      <td>0.010804</td>\n",
       "      <td>0.047993</td>\n",
       "      <td>0.069443</td>\n",
       "      <td>0.069443</td>\n",
       "      <td>0.543036</td>\n",
       "      <td>0.630402</td>\n",
       "      <td>0.842890</td>\n",
       "      <td>1.0</td>\n",
       "    </tr>\n",
       "  </tbody>\n",
       "</table>\n",
       "<p>4 rows × 57 columns</p>\n",
       "</div>"
      ],
      "text/plain": [
       "                  NN            NP            IN            VB            ``  \\\n",
       "mean      436.302043    223.014029    205.024551    180.556839      6.564885   \n",
       "sd        466.254275    243.420704    228.240527    204.969788     13.744233   \n",
       "chi2    39380.551997  21027.194405  19353.936563  18187.308628  17376.982889   \n",
       "pvalue      0.000000      0.000000      0.000000      0.000000      0.000000   \n",
       "\n",
       "                  ''            DT           VBD            JJ        PUNCT  \\\n",
       "mean        7.156179    165.922839     29.813493    174.414071    87.480503   \n",
       "sd         15.105658    189.918041     36.607598    195.039980   102.935603   \n",
       "chi2    17261.720767  14385.597265  11225.715022  10537.132403  6920.157569   \n",
       "pvalue      0.000000      0.000000      0.000000      0.000000     0.000000   \n",
       "\n",
       "       ...        SYM        SY        FW        LS       PDT        PD  \\\n",
       "mean   ...   0.018774  0.018774  1.211884  0.000825  0.643697  0.643697   \n",
       "sd     ...   0.176673  0.176673  3.423887  0.040618  1.288702  1.288702   \n",
       "chi2   ...   8.596443  8.596443  6.497298  3.910241  3.296142  3.296142   \n",
       "pvalue ...   0.003368  0.003368  0.010804  0.047993  0.069443  0.069443   \n",
       "\n",
       "                :         $        UH    S  \n",
       "mean     4.850010  0.827728  0.328863  1.0  \n",
       "sd      11.856110  4.752143  1.374094  0.0  \n",
       "chi2     0.369941  0.231516  0.039282  0.0  \n",
       "pvalue   0.543036  0.630402  0.842890  1.0  \n",
       "\n",
       "[4 rows x 57 columns]"
      ]
     },
     "execution_count": 304,
     "metadata": {
      "tags": []
     },
     "output_type": "execute_result"
    }
   ],
   "source": [
    "# Sorting the array to find the best pvalue\n",
    "summary = summary.sort_values(by='chi2', axis=1, ascending=False)\n",
    "\n",
    "summary"
   ]
  },
  {
   "cell_type": "code",
   "execution_count": 0,
   "metadata": {
    "colab": {
     "base_uri": "https://localhost:8080/",
     "height": 607
    },
    "colab_type": "code",
    "id": "9XDgt-MOadY2",
    "outputId": "19b7b33b-d18d-44ce-ef4a-031d63a4b1cf"
   },
   "outputs": [
    {
     "data": {
      "image/png": "[encoded data removed]",
      "text/plain": [
       "<Figure size 1440x720 with 3 Axes>"
      ]
     },
     "metadata": {
      "tags": []
     },
     "output_type": "display_data"
    }
   ],
   "source": [
    "\n",
    "# Import preprocessing library from sklearn\n",
    "from sklearn.preprocessing import scale\n",
    "\n",
    "# Scales the values\n",
    "mean = summary.loc['mean']\n",
    "sd = summary.loc['sd']\n",
    "pvalue = summary.loc['pvalue']\n",
    "\n",
    "# Set figure size\n",
    "plt.figure(figsize=(20,10))\n",
    "\n",
    "# Plot mean\n",
    "plt.subplot(131)\n",
    "plt.plot(mean, summary.columns, 'r-')\n",
    "plt.title('Mean')\n",
    "\n",
    "# Plot variance\n",
    "plt.subplot(132)\n",
    "plt.plot(sd, summary.columns, 'g-')\n",
    "plt.title('Standard Deviation')\n",
    "\n",
    "# Plot pvalue\n",
    "plt.subplot(133)\n",
    "plt.plot(pvalue, summary.columns, 'b-', label='P-Value')\n",
    "plt.title('P-Value')\n",
    "\n",
    "# Plot figure\n",
    "plt.show()"
   ]
  },
  {
   "cell_type": "code",
   "execution_count": 0,
   "metadata": {
    "colab": {
     "base_uri": "https://localhost:8080/",
     "height": 222
    },
    "colab_type": "code",
    "id": "qS16XD6eadZA",
    "outputId": "79006a31-81ea-4527-dbb6-ef932b11041e"
   },
   "outputs": [
    {
     "data": {
      "text/html": [
       "<div>\n",
       "<style scoped>\n",
       "    .dataframe tbody tr th:only-of-type {\n",
       "        vertical-align: middle;\n",
       "    }\n",
       "\n",
       "    .dataframe tbody tr th {\n",
       "        vertical-align: top;\n",
       "    }\n",
       "\n",
       "    .dataframe thead th {\n",
       "        text-align: right;\n",
       "    }\n",
       "</style>\n",
       "<table border=\"1\" class=\"dataframe\">\n",
       "  <thead>\n",
       "    <tr style=\"text-align: right;\">\n",
       "      <th></th>\n",
       "      <th>NN</th>\n",
       "      <th>NP</th>\n",
       "      <th>IN</th>\n",
       "      <th>VB</th>\n",
       "      <th>``</th>\n",
       "      <th>''</th>\n",
       "      <th>DT</th>\n",
       "      <th>VBD</th>\n",
       "      <th>JJ</th>\n",
       "      <th>PUNCT</th>\n",
       "      <th>...</th>\n",
       "      <th>EX</th>\n",
       "      <th>VP</th>\n",
       "      <th>RBS</th>\n",
       "      <th>WP$</th>\n",
       "      <th>NNP</th>\n",
       "      <th>CLAUSE</th>\n",
       "      <th>SYM</th>\n",
       "      <th>SY</th>\n",
       "      <th>FW</th>\n",
       "      <th>LS</th>\n",
       "    </tr>\n",
       "  </thead>\n",
       "  <tbody>\n",
       "    <tr>\n",
       "      <th>mean</th>\n",
       "      <td>436.302043</td>\n",
       "      <td>223.014029</td>\n",
       "      <td>205.024551</td>\n",
       "      <td>180.556839</td>\n",
       "      <td>6.564885</td>\n",
       "      <td>7.156179</td>\n",
       "      <td>165.922839</td>\n",
       "      <td>29.813493</td>\n",
       "      <td>174.414071</td>\n",
       "      <td>87.480503</td>\n",
       "      <td>...</td>\n",
       "      <td>3.064989e+00</td>\n",
       "      <td>3.961213e-02</td>\n",
       "      <td>5.956262e-01</td>\n",
       "      <td>0.153291</td>\n",
       "      <td>9.636889</td>\n",
       "      <td>0.009697</td>\n",
       "      <td>0.018774</td>\n",
       "      <td>0.018774</td>\n",
       "      <td>1.211884</td>\n",
       "      <td>0.000825</td>\n",
       "    </tr>\n",
       "    <tr>\n",
       "      <th>sd</th>\n",
       "      <td>466.254275</td>\n",
       "      <td>243.420704</td>\n",
       "      <td>228.240527</td>\n",
       "      <td>204.969788</td>\n",
       "      <td>13.744233</td>\n",
       "      <td>15.105658</td>\n",
       "      <td>189.918041</td>\n",
       "      <td>36.607598</td>\n",
       "      <td>195.039980</td>\n",
       "      <td>102.935603</td>\n",
       "      <td>...</td>\n",
       "      <td>5.645218e+00</td>\n",
       "      <td>2.043444e-01</td>\n",
       "      <td>1.149576e+00</td>\n",
       "      <td>0.475326</td>\n",
       "      <td>15.237118</td>\n",
       "      <td>0.106081</td>\n",
       "      <td>0.176673</td>\n",
       "      <td>0.176673</td>\n",
       "      <td>3.423887</td>\n",
       "      <td>0.040618</td>\n",
       "    </tr>\n",
       "    <tr>\n",
       "      <th>chi2</th>\n",
       "      <td>39380.551997</td>\n",
       "      <td>21027.194405</td>\n",
       "      <td>19353.936563</td>\n",
       "      <td>18187.308628</td>\n",
       "      <td>17376.982889</td>\n",
       "      <td>17261.720767</td>\n",
       "      <td>14385.597265</td>\n",
       "      <td>11225.715022</td>\n",
       "      <td>10537.132403</td>\n",
       "      <td>6920.157569</td>\n",
       "      <td>...</td>\n",
       "      <td>1.631150e+02</td>\n",
       "      <td>9.894357e+01</td>\n",
       "      <td>8.931515e+01</td>\n",
       "      <td>21.858342</td>\n",
       "      <td>20.817345</td>\n",
       "      <td>19.751875</td>\n",
       "      <td>8.596443</td>\n",
       "      <td>8.596443</td>\n",
       "      <td>6.497298</td>\n",
       "      <td>3.910241</td>\n",
       "    </tr>\n",
       "    <tr>\n",
       "      <th>pvalue</th>\n",
       "      <td>0.000000</td>\n",
       "      <td>0.000000</td>\n",
       "      <td>0.000000</td>\n",
       "      <td>0.000000</td>\n",
       "      <td>0.000000</td>\n",
       "      <td>0.000000</td>\n",
       "      <td>0.000000</td>\n",
       "      <td>0.000000</td>\n",
       "      <td>0.000000</td>\n",
       "      <td>0.000000</td>\n",
       "      <td>...</td>\n",
       "      <td>2.361062e-37</td>\n",
       "      <td>2.597999e-23</td>\n",
       "      <td>3.366704e-21</td>\n",
       "      <td>0.000003</td>\n",
       "      <td>0.000005</td>\n",
       "      <td>0.000009</td>\n",
       "      <td>0.003368</td>\n",
       "      <td>0.003368</td>\n",
       "      <td>0.010804</td>\n",
       "      <td>0.047993</td>\n",
       "    </tr>\n",
       "  </tbody>\n",
       "</table>\n",
       "<p>4 rows × 51 columns</p>\n",
       "</div>"
      ],
      "text/plain": [
       "                  NN            NP            IN            VB            ``  \\\n",
       "mean      436.302043    223.014029    205.024551    180.556839      6.564885   \n",
       "sd        466.254275    243.420704    228.240527    204.969788     13.744233   \n",
       "chi2    39380.551997  21027.194405  19353.936563  18187.308628  17376.982889   \n",
       "pvalue      0.000000      0.000000      0.000000      0.000000      0.000000   \n",
       "\n",
       "                  ''            DT           VBD            JJ        PUNCT  \\\n",
       "mean        7.156179    165.922839     29.813493    174.414071    87.480503   \n",
       "sd         15.105658    189.918041     36.607598    195.039980   102.935603   \n",
       "chi2    17261.720767  14385.597265  11225.715022  10537.132403  6920.157569   \n",
       "pvalue      0.000000      0.000000      0.000000      0.000000     0.000000   \n",
       "\n",
       "          ...               EX            VP           RBS        WP$  \\\n",
       "mean      ...     3.064989e+00  3.961213e-02  5.956262e-01   0.153291   \n",
       "sd        ...     5.645218e+00  2.043444e-01  1.149576e+00   0.475326   \n",
       "chi2      ...     1.631150e+02  9.894357e+01  8.931515e+01  21.858342   \n",
       "pvalue    ...     2.361062e-37  2.597999e-23  3.366704e-21   0.000003   \n",
       "\n",
       "              NNP     CLAUSE       SYM        SY        FW        LS  \n",
       "mean     9.636889   0.009697  0.018774  0.018774  1.211884  0.000825  \n",
       "sd      15.237118   0.106081  0.176673  0.176673  3.423887  0.040618  \n",
       "chi2    20.817345  19.751875  8.596443  8.596443  6.497298  3.910241  \n",
       "pvalue   0.000005   0.000009  0.003368  0.003368  0.010804  0.047993  \n",
       "\n",
       "[4 rows x 51 columns]"
      ]
     },
     "execution_count": 308,
     "metadata": {
      "tags": []
     },
     "output_type": "execute_result"
    }
   ],
   "source": [
    "# Extract the best chunks: the ones with p-value lower than 0.05\n",
    "summary.loc[:, summary.loc['pvalue', :] < 0.05]"
   ]
  },
  {
   "cell_type": "code",
   "execution_count": 0,
   "metadata": {
    "colab": {
     "base_uri": "https://localhost:8080/",
     "height": 623
    },
    "colab_type": "code",
    "id": "WchC0W-madZD",
    "outputId": "169ea69f-d0ef-4f81-b5ff-7ef5b7b27f0f"
   },
   "outputs": [
    {
     "data": {
      "image/png": "[encoded data removed]",
      "text/plain": [
       "<Figure size 1440x720 with 3 Axes>"
      ]
     },
     "metadata": {
      "tags": []
     },
     "output_type": "display_data"
    }
   ],
   "source": [
    "# Import preprocessing library from sklearn\n",
    "from sklearn.preprocessing import scale\n",
    "\n",
    "# Retrieve only values with pvalue lower than 0.05\n",
    "summary_ = summary.loc[:, summary.loc['pvalue', :] < 0.05]\n",
    "\n",
    "# Scales the values\n",
    "mean = summary_.loc['mean']\n",
    "sd = summary_.loc['sd']\n",
    "pvalue = summary_.loc['pvalue']\n",
    "\n",
    "# Set figure size\n",
    "plt.figure(figsize=(20,10))\n",
    "\n",
    "# Plot mean\n",
    "plt.subplot(131)\n",
    "plt.plot(mean, summary_.columns, 'r-')\n",
    "plt.title('Mean\\n(P-Value<0.05)')\n",
    "\n",
    "# Plot variance\n",
    "plt.subplot(132)\n",
    "plt.plot(sd, summary_.columns, 'g-')\n",
    "plt.title('Standard Deviation\\n(P-Value<0.05)')\n",
    "\n",
    "# Plot pvalue\n",
    "plt.subplot(133)\n",
    "plt.plot(pvalue, summary_.columns, 'b-')\n",
    "plt.title('P-Value\\n(P-Value<0.05)')\n",
    "\n",
    "# Plot figure\n",
    "plt.show()"
   ]
  },
  {
   "cell_type": "code",
   "execution_count": 0,
   "metadata": {
    "colab": {
     "base_uri": "https://localhost:8080/",
     "height": 173
    },
    "colab_type": "code",
    "id": "kmCnRtgoadZF",
    "outputId": "5892954d-bec3-4a24-9c83-f68912dc9bba"
   },
   "outputs": [
    {
     "data": {
      "text/html": [
       "<div>\n",
       "<style scoped>\n",
       "    .dataframe tbody tr th:only-of-type {\n",
       "        vertical-align: middle;\n",
       "    }\n",
       "\n",
       "    .dataframe tbody tr th {\n",
       "        vertical-align: top;\n",
       "    }\n",
       "\n",
       "    .dataframe thead th {\n",
       "        text-align: right;\n",
       "    }\n",
       "</style>\n",
       "<table border=\"1\" class=\"dataframe\">\n",
       "  <thead>\n",
       "    <tr style=\"text-align: right;\">\n",
       "      <th></th>\n",
       "      <th>PDT</th>\n",
       "      <th>PD</th>\n",
       "      <th>:</th>\n",
       "      <th>$</th>\n",
       "      <th>UH</th>\n",
       "      <th>S</th>\n",
       "    </tr>\n",
       "  </thead>\n",
       "  <tbody>\n",
       "    <tr>\n",
       "      <th>mean</th>\n",
       "      <td>0.643697</td>\n",
       "      <td>0.643697</td>\n",
       "      <td>4.850010</td>\n",
       "      <td>0.827728</td>\n",
       "      <td>0.328863</td>\n",
       "      <td>1.0</td>\n",
       "    </tr>\n",
       "    <tr>\n",
       "      <th>sd</th>\n",
       "      <td>1.288702</td>\n",
       "      <td>1.288702</td>\n",
       "      <td>11.856110</td>\n",
       "      <td>4.752143</td>\n",
       "      <td>1.374094</td>\n",
       "      <td>0.0</td>\n",
       "    </tr>\n",
       "    <tr>\n",
       "      <th>chi2</th>\n",
       "      <td>3.296142</td>\n",
       "      <td>3.296142</td>\n",
       "      <td>0.369941</td>\n",
       "      <td>0.231516</td>\n",
       "      <td>0.039282</td>\n",
       "      <td>0.0</td>\n",
       "    </tr>\n",
       "    <tr>\n",
       "      <th>pvalue</th>\n",
       "      <td>0.069443</td>\n",
       "      <td>0.069443</td>\n",
       "      <td>0.543036</td>\n",
       "      <td>0.630402</td>\n",
       "      <td>0.842890</td>\n",
       "      <td>1.0</td>\n",
       "    </tr>\n",
       "  </tbody>\n",
       "</table>\n",
       "</div>"
      ],
      "text/plain": [
       "             PDT        PD          :         $        UH    S\n",
       "mean    0.643697  0.643697   4.850010  0.827728  0.328863  1.0\n",
       "sd      1.288702  1.288702  11.856110  4.752143  1.374094  0.0\n",
       "chi2    3.296142  3.296142   0.369941  0.231516  0.039282  0.0\n",
       "pvalue  0.069443  0.069443   0.543036  0.630402  0.842890  1.0"
      ]
     },
     "execution_count": 310,
     "metadata": {
      "tags": []
     },
     "output_type": "execute_result"
    }
   ],
   "source": [
    "# Extract the worst chunks: the ones with p-value higher than 0.05\n",
    "summary.loc[:, summary.loc['pvalue', :] >= 0.05]"
   ]
  },
  {
   "cell_type": "code",
   "execution_count": 0,
   "metadata": {
    "colab": {
     "base_uri": "https://localhost:8080/",
     "height": 623
    },
    "colab_type": "code",
    "id": "fqMnOlMVadZM",
    "outputId": "7cb448fe-6e6f-496e-986d-e1f54fd132af"
   },
   "outputs": [
    {
     "data": {
      "image/png": "[encoded data removed]",
      "text/plain": [
       "<Figure size 1440x720 with 3 Axes>"
      ]
     },
     "metadata": {
      "tags": []
     },
     "output_type": "display_data"
    }
   ],
   "source": [
    "# Import preprocessing library from sklearn\n",
    "from sklearn.preprocessing import scale\n",
    "\n",
    "# Retrieve only values with pvalue lower than 0.05\n",
    "summary_ = summary.loc[:, summary.loc['pvalue', :] >= 0.05]\n",
    "\n",
    "# Scales the values\n",
    "mean = summary_.loc['mean']\n",
    "sd = summary_.loc['sd']\n",
    "pvalue = summary_.loc['pvalue']\n",
    "\n",
    "# Set figure size\n",
    "plt.figure(figsize=(20,10))\n",
    "\n",
    "# Plot mean\n",
    "plt.subplot(131)\n",
    "plt.plot(mean, summary_.columns, 'r-')\n",
    "plt.title('Mean\\n(P-Value>=0.05)')\n",
    "\n",
    "# Plot variance\n",
    "plt.subplot(132)\n",
    "plt.plot(sd, summary_.columns, 'g-')\n",
    "plt.title('Standard Deviation\\n(P-Value>=0.05)')\n",
    "\n",
    "# Plot pvalue\n",
    "plt.subplot(133)\n",
    "plt.plot(pvalue, summary_.columns, 'b-')\n",
    "plt.title('P-Value\\n(P-Value>=0.05)')\n",
    "\n",
    "# Plot figure\n",
    "plt.show()"
   ]
  },
  {
   "cell_type": "code",
   "execution_count": 0,
   "metadata": {
    "colab": {},
    "colab_type": "code",
    "id": "RstxGU5TZ52k"
   },
   "outputs": [],
   "source": []
  },
  {
   "cell_type": "markdown",
   "metadata": {
    "colab_type": "text",
    "id": "TZOej5MA8aKM"
   },
   "source": [
    "# 5. Classifiers\n",
    "Finding the best outcome\n",
    "\n",
    "Since each classificator (and even every vectorizer) has its own parameters, it would be hard for one to test manually every possible combination of those parameters. To solve this problem, sklearn library provides GridSearchCV.\n",
    "\n",
    "GridSearchCV provides the same methods as a normal sklearn's Machine Learning algroithm and gets used in the same way, however it is not a proper ML algorithm. It Takes as input a ML algorithm (or a pipeline) and some parameters, and tests the former with every combination of the latter. Like any ML algorithm it returns a score: the better according to every parameter combination.\n",
    "\n",
    "It uses cross-validation on a user-defined k-fold, 3-fold by default.\n"
   ]
  },
  {
   "cell_type": "code",
   "execution_count": 41,
   "metadata": {
    "colab": {},
    "colab_type": "code",
    "id": "5bzfvPbv2yHA"
   },
   "outputs": [],
   "source": [
    "# Import dependencies\n",
    "from sklearn.model_selection import GridSearchCV\n",
    "from sklearn import metrics\n",
    "from sklearn.metrics import accuracy_score, classification_report\n",
    "\n",
    "# Defines a function which takes as input a Machine Learning algorithm, a training and a testing dataset\n",
    "# Trains the ML algorithm on the given training set\n",
    "# Tests the ML algorithm on the given testing set\n",
    "# As result, computes a Confusion Martix and relative scores\n",
    "# Returns trained ML algorithm\n",
    "def train_test(ml, X_train, Y_train, X_test, Y_test):\n",
    "    # Fits ml algorithm on training set\n",
    "    ml.fit(X_train, Y_train)\n",
    "    # Predicts Y on Xtest\n",
    "    Y_predict = ml.predict(X_test)\n",
    "    # Prints confusion matrix\n",
    "    print('Confusion matrix:\\n{}'.format(metrics.confusion_matrix(Y_test, Y_predict)))\n",
    "    print()\n",
    "    # Print classification report\n",
    "    print('Classification report:\\n{}'.format(classification_report(Y_test, Y_predict)))\n",
    "    print()\n",
    "    # Prints accuracy\n",
    "    print('Accuracy: {}'.format(accuracy_score(Y_test, Y_predict)))\n",
    "    print()\n",
    "    # returns trained algorithm\n",
    "    return ml\n",
    "\n",
    "# Defines a train_test wrapper function for GridSearchCV\n",
    "# Just adds some optput info\n",
    "def train_test_gs(gs, X_train, Y_train , X_test, Y_test):\n",
    "    gs = train_test(gs, X_train, Y_train, X_test, Y_test)\n",
    "    # Prints other information (best parameters)\n",
    "    print('Obtained by GridSearchCV with the following parameters:')\n",
    "    for pname in gs.best_params_:\n",
    "         print(\" - %s: %r\" % (pname, gs.best_params_[pname]))\n",
    "    # Returns trained ML algorithm\n",
    "    return gs"
   ]
  },
  {
   "cell_type": "markdown",
   "metadata": {},
   "source": [
    "## 5.6 Tree"
   ]
  },
  {
   "cell_type": "code",
   "execution_count": 188,
   "metadata": {},
   "outputs": [],
   "source": [
    "from sklearn.tree import DecisionTreeClassifier\n",
    "from sklearn.feature_extraction.text import CountVectorizer, TfidfTransformer\n",
    "from sklearn.feature_selection import SelectKBest, chi2\n",
    "from sklearn.pipeline import Pipeline, FeatureUnion"
   ]
  },
  {
   "cell_type": "code",
   "execution_count": 189,
   "metadata": {},
   "outputs": [],
   "source": [
    "# Bag of words\n",
    "bow = Pipeline([\n",
    "    ('vect', CountVectorizer(max_df=0.2, ngram_range=(1,2))),\n",
    "    ('tfidf', TfidfTransformer(use_idf=True)),\n",
    "    ('kbst', SelectKBest(k=1700))\n",
    "])"
   ]
  },
  {
   "cell_type": "markdown",
   "metadata": {},
   "source": [
    "### 5.6.1 Liar Liar dataset"
   ]
  },
  {
   "cell_type": "code",
   "execution_count": 190,
   "metadata": {},
   "outputs": [],
   "source": [
    "# Part of speech\n",
    "pos = Pipeline([\n",
    "    ('vect', CountVectorizer(tokenizer=chunk_tokenizer)),\n",
    "    ('chi2', SelectKBest(chi2, k=25))\n",
    "])"
   ]
  },
  {
   "cell_type": "markdown",
   "metadata": {},
   "source": [
    "**BOW**"
   ]
  },
  {
   "cell_type": "code",
   "execution_count": 191,
   "metadata": {},
   "outputs": [
    {
     "name": "stdout",
     "output_type": "stream",
     "text": [
      "Confusion matrix:\n",
      "[[141 108]\n",
      " [ 98 110]]\n",
      "\n",
      "Classification report:\n",
      "             precision    recall  f1-score   support\n",
      "\n",
      "          0       0.59      0.57      0.58       249\n",
      "          1       0.50      0.53      0.52       208\n",
      "\n",
      "avg / total       0.55      0.55      0.55       457\n",
      "\n",
      "\n",
      "Accuracy: 0.5492341356673961\n",
      "\n"
     ]
    }
   ],
   "source": [
    "features = FeatureUnion([\n",
    "    ('bow', bow)\n",
    "])\n",
    "\n",
    "pl = Pipeline([\n",
    "    ('features', features),\n",
    "    ('clf', DecisionTreeClassifier(random_state=0))\n",
    "])\n",
    "\n",
    "test = train_test(pl, X_train_liar, Y_train_liar, X_test_liar, Y_test_liar)"
   ]
  },
  {
   "cell_type": "markdown",
   "metadata": {},
   "source": [
    "**POS**"
   ]
  },
  {
   "cell_type": "code",
   "execution_count": 192,
   "metadata": {},
   "outputs": [
    {
     "name": "stdout",
     "output_type": "stream",
     "text": [
      "Confusion matrix:\n",
      "[[152  97]\n",
      " [116  92]]\n",
      "\n",
      "Classification report:\n",
      "             precision    recall  f1-score   support\n",
      "\n",
      "          0       0.57      0.61      0.59       249\n",
      "          1       0.49      0.44      0.46       208\n",
      "\n",
      "avg / total       0.53      0.53      0.53       457\n",
      "\n",
      "\n",
      "Accuracy: 0.5339168490153173\n",
      "\n"
     ]
    }
   ],
   "source": [
    "features = FeatureUnion([\n",
    "    ('pos', pos)\n",
    "])\n",
    "\n",
    "pl = Pipeline([\n",
    "    ('features', features),\n",
    "    ('clf', DecisionTreeClassifier(random_state=0))\n",
    "])\n",
    "\n",
    "test = train_test(pl, X_train_liar, Y_train_liar, X_test_liar, Y_test_liar)"
   ]
  },
  {
   "cell_type": "markdown",
   "metadata": {},
   "source": [
    "**BOW + POS**"
   ]
  },
  {
   "cell_type": "code",
   "execution_count": 193,
   "metadata": {},
   "outputs": [
    {
     "name": "stdout",
     "output_type": "stream",
     "text": [
      "Confusion matrix:\n",
      "[[148 101]\n",
      " [ 89 119]]\n",
      "\n",
      "Classification report:\n",
      "             precision    recall  f1-score   support\n",
      "\n",
      "          0       0.62      0.59      0.61       249\n",
      "          1       0.54      0.57      0.56       208\n",
      "\n",
      "avg / total       0.59      0.58      0.58       457\n",
      "\n",
      "\n",
      "Accuracy: 0.5842450765864332\n",
      "\n"
     ]
    }
   ],
   "source": [
    "features = FeatureUnion([\n",
    "    ('bow', bow),\n",
    "    ('pos', pos)\n",
    "])\n",
    "\n",
    "pl = Pipeline([\n",
    "    ('features', features),\n",
    "    ('clf', DecisionTreeClassifier(random_state=0))\n",
    "])\n",
    "\n",
    "test = train_test(pl, X_train_liar, Y_train_liar, X_test_liar, Y_test_liar)"
   ]
  },
  {
   "cell_type": "markdown",
   "metadata": {},
   "source": [
    "### 5.6.2 Fake Or Real dataset"
   ]
  },
  {
   "cell_type": "code",
   "execution_count": 196,
   "metadata": {},
   "outputs": [],
   "source": [
    "# Part of speech\n",
    "pos = Pipeline([\n",
    "    ('vect', CountVectorizer(tokenizer=chunk_tokenizer)),\n",
    "    ('chi2', SelectKBest(chi2, k=50))\n",
    "])"
   ]
  },
  {
   "cell_type": "markdown",
   "metadata": {},
   "source": [
    "**BOW**"
   ]
  },
  {
   "cell_type": "code",
   "execution_count": 197,
   "metadata": {
    "scrolled": true
   },
   "outputs": [
    {
     "name": "stdout",
     "output_type": "stream",
     "text": [
      "Confusion matrix:\n",
      "[[483 136]\n",
      " [123 470]]\n",
      "\n",
      "Classification report:\n",
      "             precision    recall  f1-score   support\n",
      "\n",
      "          0       0.80      0.78      0.79       619\n",
      "          1       0.78      0.79      0.78       593\n",
      "\n",
      "avg / total       0.79      0.79      0.79      1212\n",
      "\n",
      "\n",
      "Accuracy: 0.7863036303630363\n",
      "\n"
     ]
    }
   ],
   "source": [
    "features = FeatureUnion([\n",
    "    ('bow', bow)\n",
    "])\n",
    "\n",
    "pl = Pipeline([\n",
    "    ('features', features),\n",
    "    ('clf', DecisionTreeClassifier(random_state=0))\n",
    "])\n",
    "\n",
    "test = train_test(pl, X_train_fake_or_real, Y_train_fake_or_real, X_test_fake_or_real, Y_test_fake_or_real)"
   ]
  },
  {
   "cell_type": "markdown",
   "metadata": {},
   "source": [
    "**POS**"
   ]
  },
  {
   "cell_type": "code",
   "execution_count": 198,
   "metadata": {
    "scrolled": true
   },
   "outputs": [
    {
     "name": "stdout",
     "output_type": "stream",
     "text": [
      "Confusion matrix:\n",
      "[[458 161]\n",
      " [169 424]]\n",
      "\n",
      "Classification report:\n",
      "             precision    recall  f1-score   support\n",
      "\n",
      "          0       0.73      0.74      0.74       619\n",
      "          1       0.72      0.72      0.72       593\n",
      "\n",
      "avg / total       0.73      0.73      0.73      1212\n",
      "\n",
      "\n",
      "Accuracy: 0.7277227722772277\n",
      "\n"
     ]
    }
   ],
   "source": [
    "features = FeatureUnion([\n",
    "    ('pos', pos)\n",
    "])\n",
    "\n",
    "pl = Pipeline([\n",
    "    ('features', features),\n",
    "    ('clf', DecisionTreeClassifier(random_state=0))\n",
    "])\n",
    "\n",
    "test = train_test(pl, X_train_fake_or_real, Y_train_fake_or_real, X_test_fake_or_real, Y_test_fake_or_real)"
   ]
  },
  {
   "cell_type": "markdown",
   "metadata": {},
   "source": [
    "**BOW + POS**"
   ]
  },
  {
   "cell_type": "code",
   "execution_count": 199,
   "metadata": {},
   "outputs": [
    {
     "name": "stdout",
     "output_type": "stream",
     "text": [
      "Confusion matrix:\n",
      "[[507 112]\n",
      " [110 483]]\n",
      "\n",
      "Classification report:\n",
      "             precision    recall  f1-score   support\n",
      "\n",
      "          0       0.82      0.82      0.82       619\n",
      "          1       0.81      0.81      0.81       593\n",
      "\n",
      "avg / total       0.82      0.82      0.82      1212\n",
      "\n",
      "\n",
      "Accuracy: 0.8168316831683168\n",
      "\n"
     ]
    }
   ],
   "source": [
    "features = FeatureUnion([\n",
    "    ('bow', bow),\n",
    "    ('pos', pos)\n",
    "])\n",
    "\n",
    "pl = Pipeline([\n",
    "    ('features', features),\n",
    "    ('clf', DecisionTreeClassifier(random_state=0))\n",
    "])\n",
    "\n",
    "test = train_test(pl, X_train_fake_or_real, Y_train_fake_or_real, X_test_fake_or_real, Y_test_fake_or_real)"
   ]
  },
  {
   "cell_type": "markdown",
   "metadata": {
    "colab_type": "text",
    "id": "mYofbUoPaNgc"
   },
   "source": [
    "## 5.7 Logistic Regression"
   ]
  },
  {
   "cell_type": "code",
   "execution_count": 44,
   "metadata": {},
   "outputs": [],
   "source": [
    "from sklearn.feature_extraction.text import CountVectorizer, TfidfTransformer\n",
    "from sklearn.pipeline import Pipeline, FeatureUnion\n",
    "from sklearn.feature_selection import SelectKBest, chi2\n",
    "from sklearn.linear_model import LogisticRegression"
   ]
  },
  {
   "cell_type": "markdown",
   "metadata": {},
   "source": [
    "### 5.7.1 Liar Liar dataset"
   ]
  },
  {
   "cell_type": "markdown",
   "metadata": {},
   "source": [
    "#### BOW"
   ]
  },
  {
   "cell_type": "code",
   "execution_count": 215,
   "metadata": {},
   "outputs": [],
   "source": [
    "bow = Pipeline([\n",
    "    ('vect', CountVectorizer(max_df=0.2, ngram_range=(1,2))),\n",
    "    ('tfidf', TfidfTransformer(use_idf=True))\n",
    "])"
   ]
  },
  {
   "cell_type": "code",
   "execution_count": 216,
   "metadata": {},
   "outputs": [
    {
     "name": "stdout",
     "output_type": "stream",
     "text": [
      "Confusion matrix:\n",
      "[[190  59]\n",
      " [110  98]]\n",
      "\n",
      "Classification report:\n",
      "             precision    recall  f1-score   support\n",
      "\n",
      "          0       0.63      0.76      0.69       249\n",
      "          1       0.62      0.47      0.54       208\n",
      "\n",
      "avg / total       0.63      0.63      0.62       457\n",
      "\n",
      "\n",
      "Accuracy: 0.6301969365426696\n",
      "\n"
     ]
    }
   ],
   "source": [
    "features = FeatureUnion([\n",
    "    ('bow', bow)\n",
    "])\n",
    "\n",
    "pl = Pipeline([\n",
    "    ('features', features),\n",
    "    ('clf', LogisticRegression(random_state=0))\n",
    "])\n",
    "\n",
    "test = train_test(pl, X_train_liar, Y_train_liar, X_test_liar, Y_test_liar)"
   ]
  },
  {
   "cell_type": "markdown",
   "metadata": {},
   "source": [
    "**POS**"
   ]
  },
  {
   "cell_type": "code",
   "execution_count": 217,
   "metadata": {},
   "outputs": [],
   "source": [
    "pos = Pipeline([\n",
    "    ('vect', CountVectorizer(tokenizer=chunk_tokenizer)),\n",
    "    ('chi2', SelectKBest(chi2, k=25))\n",
    "])"
   ]
  },
  {
   "cell_type": "code",
   "execution_count": 218,
   "metadata": {},
   "outputs": [
    {
     "name": "stdout",
     "output_type": "stream",
     "text": [
      "Confusion matrix:\n",
      "[[194  55]\n",
      " [128  80]]\n",
      "\n",
      "Classification report:\n",
      "             precision    recall  f1-score   support\n",
      "\n",
      "          0       0.60      0.78      0.68       249\n",
      "          1       0.59      0.38      0.47       208\n",
      "\n",
      "avg / total       0.60      0.60      0.58       457\n",
      "\n",
      "\n",
      "Accuracy: 0.5995623632385121\n",
      "\n"
     ]
    }
   ],
   "source": [
    "# BOW + POS\n",
    "features = FeatureUnion([\n",
    "    ('pos', pos)\n",
    "])\n",
    "\n",
    "pl = Pipeline([\n",
    "    ('features', features),\n",
    "    ('clf', LogisticRegression(random_state=0))\n",
    "])\n",
    "\n",
    "test = train_test(pl, X_train_liar, Y_train_liar, X_test_liar, Y_test_liar)"
   ]
  },
  {
   "cell_type": "markdown",
   "metadata": {},
   "source": [
    "**BOW + POS**"
   ]
  },
  {
   "cell_type": "code",
   "execution_count": 219,
   "metadata": {},
   "outputs": [
    {
     "name": "stdout",
     "output_type": "stream",
     "text": [
      "Confusion matrix:\n",
      "[[188  61]\n",
      " [103 105]]\n",
      "\n",
      "Classification report:\n",
      "             precision    recall  f1-score   support\n",
      "\n",
      "          0       0.65      0.76      0.70       249\n",
      "          1       0.63      0.50      0.56       208\n",
      "\n",
      "avg / total       0.64      0.64      0.63       457\n",
      "\n",
      "\n",
      "Accuracy: 0.6411378555798687\n",
      "\n"
     ]
    }
   ],
   "source": [
    "features = FeatureUnion([\n",
    "    ('bow', bow),\n",
    "    ('pos', pos)\n",
    "])\n",
    "\n",
    "pl = Pipeline([\n",
    "    ('features', features),\n",
    "    ('clf', LogisticRegression(random_state=0))\n",
    "])\n",
    "\n",
    "test = train_test(pl, X_train_liar, Y_train_liar, X_test_liar, Y_test_liar)"
   ]
  },
  {
   "cell_type": "markdown",
   "metadata": {},
   "source": [
    "### 5.7.2 Fake Or Real dataset"
   ]
  },
  {
   "cell_type": "markdown",
   "metadata": {},
   "source": [
    "**BOW**"
   ]
  },
  {
   "cell_type": "code",
   "execution_count": 45,
   "metadata": {},
   "outputs": [],
   "source": [
    "bow = Pipeline([\n",
    "    ('cv', CountVectorizer(max_df=0.2,ngram_range=(1,2))),\n",
    "    ('tfidf', TfidfTransformer(use_idf=True))\n",
    "])"
   ]
  },
  {
   "cell_type": "code",
   "execution_count": 46,
   "metadata": {},
   "outputs": [
    {
     "name": "stdout",
     "output_type": "stream",
     "text": [
      "Confusion matrix:\n",
      "[[576  43]\n",
      " [ 62 531]]\n",
      "\n",
      "Classification report:\n",
      "             precision    recall  f1-score   support\n",
      "\n",
      "          0       0.90      0.93      0.92       619\n",
      "          1       0.93      0.90      0.91       593\n",
      "\n",
      "avg / total       0.91      0.91      0.91      1212\n",
      "\n",
      "\n",
      "Accuracy: 0.9133663366336634\n",
      "\n"
     ]
    }
   ],
   "source": [
    "# BOW\n",
    "features = FeatureUnion([\n",
    "    ('bow', bow)\n",
    "])\n",
    "\n",
    "pl = Pipeline([\n",
    "    ('features', features),\n",
    "    ('clf', LogisticRegression(random_state=0))\n",
    "])\n",
    "\n",
    "test = train_test(pl, X_train_fake_or_real, Y_train_fake_or_real, X_test_fake_or_real, Y_test_fake_or_real)"
   ]
  },
  {
   "cell_type": "markdown",
   "metadata": {},
   "source": [
    "**POS**"
   ]
  },
  {
   "cell_type": "code",
   "execution_count": 47,
   "metadata": {},
   "outputs": [],
   "source": [
    "# Define POS pipeline\n",
    "pos = Pipeline([\n",
    "    ('vect', CountVectorizer(tokenizer=chunk_tokenizer)),\n",
    "    ('chi2', SelectKBest(chi2, k=50))\n",
    "])"
   ]
  },
  {
   "cell_type": "code",
   "execution_count": 48,
   "metadata": {},
   "outputs": [
    {
     "name": "stdout",
     "output_type": "stream",
     "text": [
      "Confusion matrix:\n",
      "[[535  84]\n",
      " [156 437]]\n",
      "\n",
      "Classification report:\n",
      "             precision    recall  f1-score   support\n",
      "\n",
      "          0       0.77      0.86      0.82       619\n",
      "          1       0.84      0.74      0.78       593\n",
      "\n",
      "avg / total       0.81      0.80      0.80      1212\n",
      "\n",
      "\n",
      "Accuracy: 0.801980198019802\n",
      "\n"
     ]
    }
   ],
   "source": [
    "features = FeatureUnion([\n",
    "    ('pos', pos)\n",
    "])\n",
    "\n",
    "pl = Pipeline([\n",
    "    ('features', features),\n",
    "    ('clf', LogisticRegression(random_state=0))\n",
    "])\n",
    "\n",
    "test = train_test(pl, X_train_fake_or_real, Y_train_fake_or_real, X_test_fake_or_real, Y_test_fake_or_real)"
   ]
  },
  {
   "cell_type": "markdown",
   "metadata": {},
   "source": [
    "**BOW + POS**"
   ]
  },
  {
   "cell_type": "code",
   "execution_count": 49,
   "metadata": {},
   "outputs": [
    {
     "name": "stdout",
     "output_type": "stream",
     "text": [
      "Confusion matrix:\n",
      "[[577  42]\n",
      " [ 90 503]]\n",
      "\n",
      "Classification report:\n",
      "             precision    recall  f1-score   support\n",
      "\n",
      "          0       0.87      0.93      0.90       619\n",
      "          1       0.92      0.85      0.88       593\n",
      "\n",
      "avg / total       0.89      0.89      0.89      1212\n",
      "\n",
      "\n",
      "Accuracy: 0.8910891089108911\n",
      "\n"
     ]
    }
   ],
   "source": [
    "# BOW + POS\n",
    "features = FeatureUnion([\n",
    "    ('pos', pos),\n",
    "    ('bow', bow)\n",
    "])\n",
    "\n",
    "pl = Pipeline([\n",
    "    ('features', features),\n",
    "    ('clf', LogisticRegression(random_state=0))\n",
    "])\n",
    "\n",
    "test = train_test(pl, X_train_fake_or_real, Y_train_fake_or_real, X_test_fake_or_real, Y_test_fake_or_real)"
   ]
  },
  {
   "cell_type": "markdown",
   "metadata": {
    "colab_type": "text",
    "id": "dj_iDwcS8aKN"
   },
   "source": [
    "## 5.8 Convolutional Neural Network (CNN)"
   ]
  },
  {
   "cell_type": "code",
   "execution_count": 47,
   "metadata": {
    "colab": {},
    "colab_type": "code",
    "id": "yQS3-VCnpDev"
   },
   "outputs": [
    {
     "name": "stderr",
     "output_type": "stream",
     "text": [
      "/opt/conda/lib/python3.6/site-packages/h5py/__init__.py:36: FutureWarning: Conversion of the second argument of issubdtype from `float` to `np.floating` is deprecated. In future, it will be treated as `np.float64 == np.dtype(float).type`.\n",
      "  from ._conv import register_converters as _register_converters\n"
     ]
    }
   ],
   "source": [
    "# CNN is implemented using Tensorflow from Google\n",
    "import tensorflow as tf\n",
    "from tensorflow import keras"
   ]
  },
  {
   "cell_type": "markdown",
   "metadata": {
    "colab_type": "text",
    "id": "MzzWwho9ec5_"
   },
   "source": [
    "### 5.8.1 Liar Liar dataset"
   ]
  },
  {
   "cell_type": "markdown",
   "metadata": {},
   "source": [
    "**BOW**"
   ]
  },
  {
   "cell_type": "code",
   "execution_count": 91,
   "metadata": {
    "colab": {},
    "colab_type": "code",
    "id": "YO60AgQLsXgE"
   },
   "outputs": [],
   "source": [
    "# Define train dataset\n",
    "X_train, Y_train = X_train_liar.copy(), Y_train_liar.copy()\n",
    "# Define test dataset\n",
    "X_test, Y_test = X_test_liar.copy(), Y_test_liar.copy()"
   ]
  },
  {
   "cell_type": "code",
   "execution_count": 92,
   "metadata": {
    "colab": {},
    "colab_type": "code",
    "id": "GAG3NzQQsXgH"
   },
   "outputs": [],
   "source": [
    "# Compute Bag of Words\n",
    "from sklearn.feature_extraction.text import CountVectorizer\n",
    "\n",
    "# Bag of Words with ngrams from 1 to 3\n",
    "cv = CountVectorizer(ngram_range=(1,1)).fit(X_train, Y_train)\n",
    "X_train = cv.transform(X_train)\n",
    "X_test = cv.transform(X_test)"
   ]
  },
  {
   "cell_type": "code",
   "execution_count": 93,
   "metadata": {
    "colab": {},
    "colab_type": "code",
    "id": "G1pLcHZ6szkM"
   },
   "outputs": [],
   "source": [
    "# Select only the best outcome since we can't check all word embeddings\n",
    "\n",
    "# Select best 1000 word embeddings\n",
    "kbst = SelectKBest(score_func=chi2, k=200).fit(X_train, Y_train)\n",
    "X_train = kbst.transform(X_train)\n",
    "X_test = kbst.transform(X_test)"
   ]
  },
  {
   "cell_type": "code",
   "execution_count": 94,
   "metadata": {
    "colab": {},
    "colab_type": "code",
    "id": "A1Qiq3UQsXgO"
   },
   "outputs": [],
   "source": [
    "# Define a validation set\n",
    "from sklearn.model_selection import train_test_split\n",
    "\n",
    "X_train, X_valid, Y_train, Y_valid = train_test_split(X_train, Y_train, test_size=0.2, random_state=0)"
   ]
  },
  {
   "cell_type": "code",
   "execution_count": 95,
   "metadata": {
    "colab": {
     "base_uri": "https://localhost:8080/",
     "height": 272
    },
    "colab_type": "code",
    "id": "7Vn7O8j7sXgU",
    "outputId": "33084e98-fd06-4816-bf76-6037ed3a50f8"
   },
   "outputs": [
    {
     "name": "stdout",
     "output_type": "stream",
     "text": [
      "_________________________________________________________________\n",
      "Layer (type)                 Output Shape              Param #   \n",
      "=================================================================\n",
      "embedding_4 (Embedding)      (None, None, 16)          46864     \n",
      "_________________________________________________________________\n",
      "global_average_pooling1d_4 ( (None, 16)                0         \n",
      "_________________________________________________________________\n",
      "dense_8 (Dense)              (None, 16)                272       \n",
      "_________________________________________________________________\n",
      "dense_9 (Dense)              (None, 1)                 17        \n",
      "=================================================================\n",
      "Total params: 47,153\n",
      "Trainable params: 47,153\n",
      "Non-trainable params: 0\n",
      "_________________________________________________________________\n"
     ]
    }
   ],
   "source": [
    "# Build the model\n",
    "model = keras.Sequential()\n",
    "model.add(keras.layers.Embedding(X_train.shape[0] + 1, 16))\n",
    "model.add(keras.layers.GlobalAveragePooling1D())\n",
    "model.add(keras.layers.Dense(16, activation=tf.nn.relu))\n",
    "model.add(keras.layers.Dense(1, activation=tf.nn.sigmoid))\n",
    "\n",
    "# Shows model summary\n",
    "model.summary()"
   ]
  },
  {
   "cell_type": "code",
   "execution_count": 96,
   "metadata": {
    "colab": {},
    "colab_type": "code",
    "id": "ykhGsH4SsXgY"
   },
   "outputs": [],
   "source": [
    "# Define loss function and optimizer\n",
    "model.compile(\n",
    "    optimizer=tf.train.AdamOptimizer(),\n",
    "    loss='binary_crossentropy',\n",
    "    metrics=['accuracy']\n",
    ")"
   ]
  },
  {
   "cell_type": "code",
   "execution_count": 97,
   "metadata": {},
   "outputs": [
    {
     "name": "stdout",
     "output_type": "stream",
     "text": [
      "Train on 2928 samples, validate on 733 samples\n",
      "Epoch 1/40\n",
      "2928/2928 [==============================] - 1s 408us/step - loss: 0.6918 - acc: 0.5362 - val_loss: 0.6893 - val_acc: 0.5689\n",
      "Epoch 2/40\n",
      "2928/2928 [==============================] - 0s 57us/step - loss: 0.6913 - acc: 0.5362 - val_loss: 0.6880 - val_acc: 0.5689\n",
      "Epoch 3/40\n",
      "2928/2928 [==============================] - 0s 59us/step - loss: 0.6909 - acc: 0.5362 - val_loss: 0.6869 - val_acc: 0.5689\n",
      "Epoch 4/40\n",
      "2928/2928 [==============================] - 0s 67us/step - loss: 0.6905 - acc: 0.5362 - val_loss: 0.6863 - val_acc: 0.5689\n",
      "Epoch 5/40\n",
      "2928/2928 [==============================] - 0s 58us/step - loss: 0.6905 - acc: 0.5362 - val_loss: 0.6859 - val_acc: 0.5689\n",
      "Epoch 6/40\n",
      "2928/2928 [==============================] - 0s 67us/step - loss: 0.6905 - acc: 0.5362 - val_loss: 0.6856 - val_acc: 0.5689\n",
      "Epoch 7/40\n",
      "2928/2928 [==============================] - 0s 68us/step - loss: 0.6905 - acc: 0.5362 - val_loss: 0.6854 - val_acc: 0.5689\n",
      "Epoch 8/40\n",
      "2928/2928 [==============================] - 0s 62us/step - loss: 0.6904 - acc: 0.5362 - val_loss: 0.6854 - val_acc: 0.5689\n",
      "Epoch 9/40\n",
      "2928/2928 [==============================] - 0s 67us/step - loss: 0.6904 - acc: 0.5362 - val_loss: 0.6855 - val_acc: 0.5689\n",
      "Epoch 10/40\n",
      "2928/2928 [==============================] - 0s 67us/step - loss: 0.6904 - acc: 0.5362 - val_loss: 0.6857 - val_acc: 0.5689\n",
      "Epoch 11/40\n",
      "2928/2928 [==============================] - 0s 68us/step - loss: 0.6904 - acc: 0.5362 - val_loss: 0.6858 - val_acc: 0.5689\n",
      "Epoch 12/40\n",
      "2928/2928 [==============================] - 0s 63us/step - loss: 0.6904 - acc: 0.5362 - val_loss: 0.6857 - val_acc: 0.5689\n",
      "Epoch 13/40\n",
      "2928/2928 [==============================] - 0s 64us/step - loss: 0.6904 - acc: 0.5362 - val_loss: 0.6856 - val_acc: 0.5689\n",
      "Epoch 14/40\n",
      "2928/2928 [==============================] - 0s 76us/step - loss: 0.6904 - acc: 0.5362 - val_loss: 0.6855 - val_acc: 0.5689\n",
      "Epoch 15/40\n",
      "2928/2928 [==============================] - 0s 68us/step - loss: 0.6904 - acc: 0.5362 - val_loss: 0.6856 - val_acc: 0.5689\n",
      "Epoch 16/40\n",
      "2928/2928 [==============================] - 0s 66us/step - loss: 0.6904 - acc: 0.5362 - val_loss: 0.6857 - val_acc: 0.5689\n",
      "Epoch 17/40\n",
      "2928/2928 [==============================] - 0s 64us/step - loss: 0.6904 - acc: 0.5362 - val_loss: 0.6856 - val_acc: 0.5689\n",
      "Epoch 18/40\n",
      "2928/2928 [==============================] - 0s 62us/step - loss: 0.6903 - acc: 0.5362 - val_loss: 0.6856 - val_acc: 0.5689\n",
      "Epoch 19/40\n",
      "2928/2928 [==============================] - 0s 63us/step - loss: 0.6903 - acc: 0.5362 - val_loss: 0.6856 - val_acc: 0.5689\n",
      "Epoch 20/40\n",
      "2928/2928 [==============================] - 0s 64us/step - loss: 0.6903 - acc: 0.5362 - val_loss: 0.6856 - val_acc: 0.5689\n",
      "Epoch 21/40\n",
      "2928/2928 [==============================] - 0s 62us/step - loss: 0.6903 - acc: 0.5362 - val_loss: 0.6856 - val_acc: 0.5689\n",
      "Epoch 22/40\n",
      "2928/2928 [==============================] - 0s 62us/step - loss: 0.6903 - acc: 0.5362 - val_loss: 0.6855 - val_acc: 0.5689\n",
      "Epoch 23/40\n",
      "2928/2928 [==============================] - 0s 59us/step - loss: 0.6903 - acc: 0.5362 - val_loss: 0.6855 - val_acc: 0.5689\n",
      "Epoch 24/40\n",
      "2928/2928 [==============================] - 0s 65us/step - loss: 0.6903 - acc: 0.5362 - val_loss: 0.6856 - val_acc: 0.5689\n",
      "Epoch 25/40\n",
      "2928/2928 [==============================] - 0s 61us/step - loss: 0.6903 - acc: 0.5362 - val_loss: 0.6857 - val_acc: 0.5689\n",
      "Epoch 26/40\n",
      "2928/2928 [==============================] - ETA: 0s - loss: 0.6898 - acc: 0.539 - 0s 68us/step - loss: 0.6902 - acc: 0.5362 - val_loss: 0.6855 - val_acc: 0.5689\n",
      "Epoch 27/40\n",
      "2928/2928 [==============================] - 0s 66us/step - loss: 0.6902 - acc: 0.5362 - val_loss: 0.6854 - val_acc: 0.5689\n",
      "Epoch 28/40\n",
      "2928/2928 [==============================] - 0s 64us/step - loss: 0.6902 - acc: 0.5362 - val_loss: 0.6854 - val_acc: 0.5689\n",
      "Epoch 29/40\n",
      "2928/2928 [==============================] - 0s 63us/step - loss: 0.6902 - acc: 0.5362 - val_loss: 0.6853 - val_acc: 0.5689\n",
      "Epoch 30/40\n",
      "2928/2928 [==============================] - 0s 59us/step - loss: 0.6902 - acc: 0.5362 - val_loss: 0.6854 - val_acc: 0.5689\n",
      "Epoch 31/40\n",
      "2928/2928 [==============================] - 0s 69us/step - loss: 0.6902 - acc: 0.5362 - val_loss: 0.6854 - val_acc: 0.5689\n",
      "Epoch 32/40\n",
      "2928/2928 [==============================] - 0s 65us/step - loss: 0.6902 - acc: 0.5362 - val_loss: 0.6853 - val_acc: 0.5689\n",
      "Epoch 33/40\n",
      "2928/2928 [==============================] - 0s 78us/step - loss: 0.6901 - acc: 0.5362 - val_loss: 0.6854 - val_acc: 0.5689\n",
      "Epoch 34/40\n",
      "2928/2928 [==============================] - 0s 68us/step - loss: 0.6902 - acc: 0.5362 - val_loss: 0.6857 - val_acc: 0.5689\n",
      "Epoch 35/40\n",
      "2928/2928 [==============================] - 0s 57us/step - loss: 0.6901 - acc: 0.5362 - val_loss: 0.6855 - val_acc: 0.5689\n",
      "Epoch 36/40\n",
      "2928/2928 [==============================] - 0s 59us/step - loss: 0.6901 - acc: 0.5362 - val_loss: 0.6851 - val_acc: 0.5689\n",
      "Epoch 37/40\n",
      "2928/2928 [==============================] - 0s 59us/step - loss: 0.6900 - acc: 0.5362 - val_loss: 0.6849 - val_acc: 0.5689\n",
      "Epoch 38/40\n",
      "2928/2928 [==============================] - 0s 57us/step - loss: 0.6900 - acc: 0.5362 - val_loss: 0.6850 - val_acc: 0.5689\n",
      "Epoch 39/40\n",
      "2928/2928 [==============================] - 0s 66us/step - loss: 0.6900 - acc: 0.5362 - val_loss: 0.6849 - val_acc: 0.5689\n",
      "Epoch 40/40\n",
      "2928/2928 [==============================] - 0s 77us/step - loss: 0.6900 - acc: 0.5362 - val_loss: 0.6854 - val_acc: 0.5689\n",
      "457/457 [==============================] - 0s 86us/step\n",
      "[0.6886192925388495, 0.5448577682481552]\n"
     ]
    }
   ],
   "source": [
    "# Train the model\n",
    "history = model.fit(\n",
    "    X_train,\n",
    "    Y_train,\n",
    "    epochs=40,\n",
    "    batch_size=512,\n",
    "    validation_data=(X_valid, Y_valid),\n",
    "    verbose=1\n",
    ")\n",
    "\n",
    "# Evaluate the model\n",
    "print(model.evaluate(X_test, Y_test))"
   ]
  },
  {
   "cell_type": "markdown",
   "metadata": {
    "colab_type": "text",
    "id": "A0E4Zr12v1V9"
   },
   "source": [
    "#### POS"
   ]
  },
  {
   "cell_type": "code",
   "execution_count": 104,
   "metadata": {
    "colab": {},
    "colab_type": "code",
    "id": "uhSzHUIutfKc"
   },
   "outputs": [],
   "source": [
    "# Define train dataset\n",
    "X_train, Y_train = X_train_liar.copy(), Y_train_liar.copy()\n",
    "# Define test dataset\n",
    "X_test, Y_test = X_test_liar.copy(), Y_test_liar.copy()"
   ]
  },
  {
   "cell_type": "code",
   "execution_count": 105,
   "metadata": {
    "colab": {},
    "colab_type": "code",
    "id": "F8Wt_rDzvegi"
   },
   "outputs": [],
   "source": [
    "# Import resources\n",
    "from sklearn.pipeline import Pipeline, FeatureUnion\n",
    "from sklearn.feature_extraction.text import CountVectorizer\n",
    "from sklearn.feature_selection import SelectKBest, chi2\n",
    "\n",
    "# Part of speech\n",
    "pos = Pipeline([\n",
    "    ('cv', CountVectorizer(tokenizer=chunk_tokenizer)),\n",
    "    ('kbst', SelectKBest(k=25, score_func=chi2))\n",
    "])\n",
    "\n",
    "# Transform dataset\n",
    "pos.fit(X_train, Y_train)\n",
    "X_train = pos.transform(X_train)\n",
    "X_test = pos.transform(X_test)"
   ]
  },
  {
   "cell_type": "code",
   "execution_count": 106,
   "metadata": {
    "colab": {},
    "colab_type": "code",
    "id": "ZcPkIcXxtfKh"
   },
   "outputs": [],
   "source": [
    "# Define a validation set\n",
    "from sklearn.model_selection import train_test_split\n",
    "\n",
    "X_train, X_valid, Y_train, Y_valid = train_test_split(X_train, Y_train, test_size=0.2, random_state=0)"
   ]
  },
  {
   "cell_type": "code",
   "execution_count": 107,
   "metadata": {
    "colab": {
     "base_uri": "https://localhost:8080/",
     "height": 272
    },
    "colab_type": "code",
    "id": "IltDnieftfKn",
    "outputId": "e513d065-5aa0-45bc-8970-2f6c81a0259c"
   },
   "outputs": [
    {
     "name": "stdout",
     "output_type": "stream",
     "text": [
      "_________________________________________________________________\n",
      "Layer (type)                 Output Shape              Param #   \n",
      "=================================================================\n",
      "embedding_6 (Embedding)      (None, None, 16)          46864     \n",
      "_________________________________________________________________\n",
      "global_average_pooling1d_6 ( (None, 16)                0         \n",
      "_________________________________________________________________\n",
      "dense_12 (Dense)             (None, 16)                272       \n",
      "_________________________________________________________________\n",
      "dense_13 (Dense)             (None, 1)                 17        \n",
      "=================================================================\n",
      "Total params: 47,153\n",
      "Trainable params: 47,153\n",
      "Non-trainable params: 0\n",
      "_________________________________________________________________\n"
     ]
    }
   ],
   "source": [
    "# Build the model\n",
    "model = keras.Sequential()\n",
    "model.add(keras.layers.Embedding(X_train.shape[0] + 1, 16))\n",
    "model.add(keras.layers.GlobalAveragePooling1D())\n",
    "model.add(keras.layers.Dense(16, activation=tf.nn.relu))\n",
    "model.add(keras.layers.Dense(1, activation=tf.nn.sigmoid))\n",
    "\n",
    "# Shows model summary\n",
    "model.summary()"
   ]
  },
  {
   "cell_type": "code",
   "execution_count": 108,
   "metadata": {
    "colab": {},
    "colab_type": "code",
    "id": "lv4FNHUgtfKs"
   },
   "outputs": [],
   "source": [
    "# Define loss function and optimizer\n",
    "model.compile(\n",
    "    optimizer=tf.train.AdamOptimizer(),\n",
    "    loss='binary_crossentropy',\n",
    "    metrics=['accuracy']\n",
    ")"
   ]
  },
  {
   "cell_type": "code",
   "execution_count": 109,
   "metadata": {
    "colab": {
     "base_uri": "https://localhost:8080/",
     "height": 1394
    },
    "colab_type": "code",
    "id": "1yLOMiN6tfKv",
    "outputId": "d6b9b15a-71fa-4cce-8f91-47dfb677cb77"
   },
   "outputs": [
    {
     "name": "stdout",
     "output_type": "stream",
     "text": [
      "Train on 2928 samples, validate on 733 samples\n",
      "Epoch 1/40\n",
      "2928/2928 [==============================] - 1s 490us/step - loss: 0.6928 - acc: 0.5154 - val_loss: 0.6907 - val_acc: 0.5689\n",
      "Epoch 2/40\n",
      "2928/2928 [==============================] - 0s 17us/step - loss: 0.6913 - acc: 0.5362 - val_loss: 0.6887 - val_acc: 0.5689\n",
      "Epoch 3/40\n",
      "2928/2928 [==============================] - 0s 18us/step - loss: 0.6905 - acc: 0.5362 - val_loss: 0.6869 - val_acc: 0.5689\n",
      "Epoch 4/40\n",
      "2928/2928 [==============================] - 0s 19us/step - loss: 0.6900 - acc: 0.5362 - val_loss: 0.6857 - val_acc: 0.5689\n",
      "Epoch 5/40\n",
      "2928/2928 [==============================] - 0s 21us/step - loss: 0.6897 - acc: 0.5362 - val_loss: 0.6847 - val_acc: 0.5689\n",
      "Epoch 6/40\n",
      "2928/2928 [==============================] - 0s 20us/step - loss: 0.6894 - acc: 0.5362 - val_loss: 0.6843 - val_acc: 0.5689\n",
      "Epoch 7/40\n",
      "2928/2928 [==============================] - 0s 19us/step - loss: 0.6892 - acc: 0.5362 - val_loss: 0.6841 - val_acc: 0.5689\n",
      "Epoch 8/40\n",
      "2928/2928 [==============================] - 0s 18us/step - loss: 0.6890 - acc: 0.5362 - val_loss: 0.6838 - val_acc: 0.5689\n",
      "Epoch 9/40\n",
      "2928/2928 [==============================] - 0s 23us/step - loss: 0.6887 - acc: 0.5362 - val_loss: 0.6838 - val_acc: 0.5689\n",
      "Epoch 10/40\n",
      "2928/2928 [==============================] - 0s 18us/step - loss: 0.6885 - acc: 0.5362 - val_loss: 0.6838 - val_acc: 0.5689\n",
      "Epoch 11/40\n",
      "2928/2928 [==============================] - 0s 20us/step - loss: 0.6882 - acc: 0.5365 - val_loss: 0.6836 - val_acc: 0.5689\n",
      "Epoch 12/40\n",
      "2928/2928 [==============================] - 0s 20us/step - loss: 0.6880 - acc: 0.5365 - val_loss: 0.6834 - val_acc: 0.5689\n",
      "Epoch 13/40\n",
      "2928/2928 [==============================] - 0s 19us/step - loss: 0.6878 - acc: 0.5365 - val_loss: 0.6830 - val_acc: 0.5689\n",
      "Epoch 14/40\n",
      "2928/2928 [==============================] - 0s 20us/step - loss: 0.6876 - acc: 0.5372 - val_loss: 0.6829 - val_acc: 0.5689\n",
      "Epoch 15/40\n",
      "2928/2928 [==============================] - 0s 18us/step - loss: 0.6873 - acc: 0.5379 - val_loss: 0.6826 - val_acc: 0.5634\n",
      "Epoch 16/40\n",
      "2928/2928 [==============================] - 0s 22us/step - loss: 0.6870 - acc: 0.5393 - val_loss: 0.6825 - val_acc: 0.5634\n",
      "Epoch 17/40\n",
      "2928/2928 [==============================] - 0s 18us/step - loss: 0.6867 - acc: 0.5400 - val_loss: 0.6824 - val_acc: 0.5662\n",
      "Epoch 18/40\n",
      "2928/2928 [==============================] - 0s 19us/step - loss: 0.6865 - acc: 0.5420 - val_loss: 0.6821 - val_acc: 0.5675\n",
      "Epoch 19/40\n",
      "2928/2928 [==============================] - 0s 17us/step - loss: 0.6862 - acc: 0.5447 - val_loss: 0.6819 - val_acc: 0.5675\n",
      "Epoch 20/40\n",
      "2928/2928 [==============================] - 0s 19us/step - loss: 0.6858 - acc: 0.5464 - val_loss: 0.6815 - val_acc: 0.5716\n",
      "Epoch 21/40\n",
      "2928/2928 [==============================] - 0s 19us/step - loss: 0.6854 - acc: 0.5485 - val_loss: 0.6812 - val_acc: 0.5662\n",
      "Epoch 22/40\n",
      "2928/2928 [==============================] - 0s 17us/step - loss: 0.6849 - acc: 0.5495 - val_loss: 0.6809 - val_acc: 0.5634\n",
      "Epoch 23/40\n",
      "2928/2928 [==============================] - 0s 17us/step - loss: 0.6845 - acc: 0.5533 - val_loss: 0.6807 - val_acc: 0.5662\n",
      "Epoch 24/40\n",
      "2928/2928 [==============================] - 0s 18us/step - loss: 0.6841 - acc: 0.5564 - val_loss: 0.6800 - val_acc: 0.5675\n",
      "Epoch 25/40\n",
      "2928/2928 [==============================] - 0s 20us/step - loss: 0.6840 - acc: 0.5550 - val_loss: 0.6800 - val_acc: 0.5580\n",
      "Epoch 26/40\n",
      "2928/2928 [==============================] - 0s 20us/step - loss: 0.6835 - acc: 0.5570 - val_loss: 0.6793 - val_acc: 0.5634\n",
      "Epoch 27/40\n",
      "2928/2928 [==============================] - 0s 19us/step - loss: 0.6832 - acc: 0.5587 - val_loss: 0.6793 - val_acc: 0.5471\n",
      "Epoch 28/40\n",
      "2928/2928 [==============================] - 0s 24us/step - loss: 0.6829 - acc: 0.5611 - val_loss: 0.6790 - val_acc: 0.5512\n",
      "Epoch 29/40\n",
      "2928/2928 [==============================] - 0s 20us/step - loss: 0.6827 - acc: 0.5608 - val_loss: 0.6786 - val_acc: 0.5525\n",
      "Epoch 30/40\n",
      "2928/2928 [==============================] - 0s 21us/step - loss: 0.6824 - acc: 0.5632 - val_loss: 0.6790 - val_acc: 0.5498\n",
      "Epoch 31/40\n",
      "2928/2928 [==============================] - 0s 21us/step - loss: 0.6821 - acc: 0.5663 - val_loss: 0.6790 - val_acc: 0.5457\n",
      "Epoch 32/40\n",
      "2928/2928 [==============================] - 0s 18us/step - loss: 0.6820 - acc: 0.5642 - val_loss: 0.6789 - val_acc: 0.5498\n",
      "Epoch 33/40\n",
      "2928/2928 [==============================] - 0s 18us/step - loss: 0.6817 - acc: 0.5635 - val_loss: 0.6786 - val_acc: 0.5484\n",
      "Epoch 34/40\n",
      "2928/2928 [==============================] - 0s 18us/step - loss: 0.6816 - acc: 0.5649 - val_loss: 0.6781 - val_acc: 0.5471\n",
      "Epoch 35/40\n",
      "2928/2928 [==============================] - 0s 19us/step - loss: 0.6814 - acc: 0.5645 - val_loss: 0.6780 - val_acc: 0.5471\n",
      "Epoch 36/40\n",
      "2928/2928 [==============================] - 0s 18us/step - loss: 0.6813 - acc: 0.5645 - val_loss: 0.6782 - val_acc: 0.5566\n",
      "Epoch 37/40\n",
      "2928/2928 [==============================] - 0s 19us/step - loss: 0.6812 - acc: 0.5666 - val_loss: 0.6783 - val_acc: 0.5593\n",
      "Epoch 38/40\n",
      "2928/2928 [==============================] - 0s 20us/step - loss: 0.6809 - acc: 0.5656 - val_loss: 0.6779 - val_acc: 0.5553\n",
      "Epoch 39/40\n",
      "2928/2928 [==============================] - 0s 18us/step - loss: 0.6809 - acc: 0.5652 - val_loss: 0.6776 - val_acc: 0.5539\n",
      "Epoch 40/40\n",
      "2928/2928 [==============================] - 0s 17us/step - loss: 0.6808 - acc: 0.5659 - val_loss: 0.6780 - val_acc: 0.5566\n",
      "457/457 [==============================] - 0s 74us/step\n",
      "[0.681795593815768, 0.5711159739374332]\n"
     ]
    }
   ],
   "source": [
    "# Train the model\n",
    "history = model.fit(\n",
    "    X_train,\n",
    "    Y_train,\n",
    "    epochs=40,\n",
    "    batch_size=512,\n",
    "    validation_data=(X_valid, Y_valid),\n",
    "    verbose=1\n",
    ")\n",
    "\n",
    "# Evaluate the model\n",
    "print(model.evaluate(X_test, Y_test))"
   ]
  },
  {
   "cell_type": "markdown",
   "metadata": {},
   "source": [
    "**BOW + POS**"
   ]
  },
  {
   "cell_type": "code",
   "execution_count": 48,
   "metadata": {
    "colab": {},
    "colab_type": "code",
    "id": "uhSzHUIutfKc"
   },
   "outputs": [],
   "source": [
    "# Define train dataset\n",
    "X_train, Y_train = X_train_liar.copy(), Y_train_liar.copy()\n",
    "# Define test dataset\n",
    "X_test, Y_test = X_test_liar.copy(), Y_test_liar.copy()"
   ]
  },
  {
   "cell_type": "code",
   "execution_count": 49,
   "metadata": {
    "colab": {},
    "colab_type": "code",
    "id": "F8Wt_rDzvegi"
   },
   "outputs": [],
   "source": [
    "# Import resources\n",
    "from sklearn.pipeline import Pipeline, FeatureUnion\n",
    "from sklearn.feature_extraction.text import CountVectorizer\n",
    "from sklearn.feature_selection import SelectKBest, chi2\n",
    "\n",
    "# Bag of words\n",
    "bow = Pipeline([\n",
    "    ('cv', CountVectorizer()),\n",
    "    ('kbst', SelectKBest(score_func=chi2, k=200))\n",
    "])\n",
    "\n",
    "# Part of speech\n",
    "pos = Pipeline([\n",
    "    ('cv', CountVectorizer(tokenizer=chunk_tokenizer)),\n",
    "    ('kbst', SelectKBest(k=25, score_func=chi2))\n",
    "])\n",
    "\n",
    "# Pipeline\n",
    "pl = FeatureUnion([\n",
    "    ('pos', pos),\n",
    "    ('bow', bow)\n",
    "])\n",
    "\n",
    "# Transform dataset\n",
    "pl.fit(X_train, Y_train)\n",
    "X_train = pl.transform(X_train)\n",
    "X_test = pl.transform(X_test)"
   ]
  },
  {
   "cell_type": "code",
   "execution_count": 50,
   "metadata": {
    "colab": {},
    "colab_type": "code",
    "id": "ZcPkIcXxtfKh"
   },
   "outputs": [],
   "source": [
    "# Define a validation set\n",
    "from sklearn.model_selection import train_test_split\n",
    "\n",
    "X_train, X_valid, Y_train, Y_valid = train_test_split(X_train, Y_train, test_size=0.2, random_state=0)"
   ]
  },
  {
   "cell_type": "code",
   "execution_count": 51,
   "metadata": {
    "colab": {
     "base_uri": "https://localhost:8080/",
     "height": 272
    },
    "colab_type": "code",
    "id": "IltDnieftfKn",
    "outputId": "e513d065-5aa0-45bc-8970-2f6c81a0259c"
   },
   "outputs": [
    {
     "name": "stdout",
     "output_type": "stream",
     "text": [
      "_________________________________________________________________\n",
      "Layer (type)                 Output Shape              Param #   \n",
      "=================================================================\n",
      "embedding (Embedding)        (None, None, 16)          46864     \n",
      "_________________________________________________________________\n",
      "global_average_pooling1d (Gl (None, 16)                0         \n",
      "_________________________________________________________________\n",
      "dense (Dense)                (None, 16)                272       \n",
      "_________________________________________________________________\n",
      "dense_1 (Dense)              (None, 1)                 17        \n",
      "=================================================================\n",
      "Total params: 47,153\n",
      "Trainable params: 47,153\n",
      "Non-trainable params: 0\n",
      "_________________________________________________________________\n"
     ]
    }
   ],
   "source": [
    "# Build the model\n",
    "model = keras.Sequential()\n",
    "model.add(keras.layers.Embedding(X_train.shape[0] + 1, 16))\n",
    "model.add(keras.layers.GlobalAveragePooling1D())\n",
    "model.add(keras.layers.Dense(16, activation=tf.nn.relu))\n",
    "model.add(keras.layers.Dense(1, activation=tf.nn.sigmoid))\n",
    "\n",
    "# Shows model summary\n",
    "model.summary()"
   ]
  },
  {
   "cell_type": "code",
   "execution_count": 52,
   "metadata": {
    "colab": {},
    "colab_type": "code",
    "id": "lv4FNHUgtfKs"
   },
   "outputs": [],
   "source": [
    "# Define loss function and optimizer\n",
    "model.compile(\n",
    "    optimizer=tf.train.AdamOptimizer(),\n",
    "    loss='binary_crossentropy',\n",
    "    metrics=['accuracy']\n",
    ")"
   ]
  },
  {
   "cell_type": "code",
   "execution_count": 53,
   "metadata": {
    "colab": {
     "base_uri": "https://localhost:8080/",
     "height": 1394
    },
    "colab_type": "code",
    "id": "1yLOMiN6tfKv",
    "outputId": "d6b9b15a-71fa-4cce-8f91-47dfb677cb77"
   },
   "outputs": [
    {
     "name": "stdout",
     "output_type": "stream",
     "text": [
      "Train on 2928 samples, validate on 733 samples\n",
      "Epoch 1/40\n",
      "2928/2928 [==============================] - 1s 281us/step - loss: 0.6923 - acc: 0.5362 - val_loss: 0.6897 - val_acc: 0.5689\n",
      "Epoch 2/40\n",
      "2928/2928 [==============================] - 0s 52us/step - loss: 0.6914 - acc: 0.5362 - val_loss: 0.6882 - val_acc: 0.5689\n",
      "Epoch 3/40\n",
      "2928/2928 [==============================] - 0s 48us/step - loss: 0.6909 - acc: 0.5362 - val_loss: 0.6871 - val_acc: 0.5689\n",
      "Epoch 4/40\n",
      "2928/2928 [==============================] - 0s 51us/step - loss: 0.6905 - acc: 0.5362 - val_loss: 0.6864 - val_acc: 0.5689\n",
      "Epoch 5/40\n",
      "2928/2928 [==============================] - 0s 60us/step - loss: 0.6904 - acc: 0.5362 - val_loss: 0.6860 - val_acc: 0.5689\n",
      "Epoch 6/40\n",
      "2928/2928 [==============================] - 0s 51us/step - loss: 0.6904 - acc: 0.5362 - val_loss: 0.6856 - val_acc: 0.5689\n",
      "Epoch 7/40\n",
      "2928/2928 [==============================] - 0s 49us/step - loss: 0.6904 - acc: 0.5362 - val_loss: 0.6854 - val_acc: 0.5689\n",
      "Epoch 8/40\n",
      "2928/2928 [==============================] - 0s 51us/step - loss: 0.6904 - acc: 0.5362 - val_loss: 0.6853 - val_acc: 0.5689\n",
      "Epoch 9/40\n",
      "2928/2928 [==============================] - 0s 54us/step - loss: 0.6904 - acc: 0.5362 - val_loss: 0.6852 - val_acc: 0.5689\n",
      "Epoch 10/40\n",
      "2928/2928 [==============================] - 0s 51us/step - loss: 0.6903 - acc: 0.5362 - val_loss: 0.6853 - val_acc: 0.5689\n",
      "Epoch 11/40\n",
      "2928/2928 [==============================] - 0s 53us/step - loss: 0.6903 - acc: 0.5362 - val_loss: 0.6854 - val_acc: 0.5689\n",
      "Epoch 12/40\n",
      "2928/2928 [==============================] - 0s 49us/step - loss: 0.6903 - acc: 0.5362 - val_loss: 0.6855 - val_acc: 0.5689\n",
      "Epoch 13/40\n",
      "2928/2928 [==============================] - 0s 50us/step - loss: 0.6903 - acc: 0.5362 - val_loss: 0.6855 - val_acc: 0.5689\n",
      "Epoch 14/40\n",
      "2928/2928 [==============================] - 0s 52us/step - loss: 0.6903 - acc: 0.5362 - val_loss: 0.6856 - val_acc: 0.5689\n",
      "Epoch 15/40\n",
      "2928/2928 [==============================] - 0s 51us/step - loss: 0.6903 - acc: 0.5362 - val_loss: 0.6856 - val_acc: 0.5689\n",
      "Epoch 16/40\n",
      "2928/2928 [==============================] - 0s 48us/step - loss: 0.6902 - acc: 0.5362 - val_loss: 0.6855 - val_acc: 0.5689\n",
      "Epoch 17/40\n",
      "2928/2928 [==============================] - 0s 54us/step - loss: 0.6902 - acc: 0.5362 - val_loss: 0.6854 - val_acc: 0.5689\n",
      "Epoch 18/40\n",
      "2928/2928 [==============================] - 0s 54us/step - loss: 0.6902 - acc: 0.5362 - val_loss: 0.6853 - val_acc: 0.5689\n",
      "Epoch 19/40\n",
      "2928/2928 [==============================] - 0s 50us/step - loss: 0.6902 - acc: 0.5362 - val_loss: 0.6852 - val_acc: 0.5689\n",
      "Epoch 20/40\n",
      "2928/2928 [==============================] - 0s 52us/step - loss: 0.6902 - acc: 0.5362 - val_loss: 0.6853 - val_acc: 0.5689\n",
      "Epoch 21/40\n",
      "2928/2928 [==============================] - 0s 57us/step - loss: 0.6902 - acc: 0.5362 - val_loss: 0.6854 - val_acc: 0.5689\n",
      "Epoch 22/40\n",
      "2928/2928 [==============================] - 0s 52us/step - loss: 0.6901 - acc: 0.5362 - val_loss: 0.6853 - val_acc: 0.5689\n",
      "Epoch 23/40\n",
      "2928/2928 [==============================] - 0s 49us/step - loss: 0.6901 - acc: 0.5362 - val_loss: 0.6851 - val_acc: 0.5689\n",
      "Epoch 24/40\n",
      "2928/2928 [==============================] - 0s 51us/step - loss: 0.6901 - acc: 0.5362 - val_loss: 0.6851 - val_acc: 0.5689\n",
      "Epoch 25/40\n",
      "2928/2928 [==============================] - 0s 48us/step - loss: 0.6900 - acc: 0.5362 - val_loss: 0.6852 - val_acc: 0.5689\n",
      "Epoch 26/40\n",
      "2928/2928 [==============================] - 0s 51us/step - loss: 0.6900 - acc: 0.5362 - val_loss: 0.6851 - val_acc: 0.5689\n",
      "Epoch 27/40\n",
      "2928/2928 [==============================] - 0s 51us/step - loss: 0.6900 - acc: 0.5362 - val_loss: 0.6851 - val_acc: 0.5689\n",
      "Epoch 28/40\n",
      "2928/2928 [==============================] - 0s 52us/step - loss: 0.6899 - acc: 0.5362 - val_loss: 0.6851 - val_acc: 0.5689\n",
      "Epoch 29/40\n",
      "2928/2928 [==============================] - 0s 50us/step - loss: 0.6899 - acc: 0.5362 - val_loss: 0.6852 - val_acc: 0.5689\n",
      "Epoch 30/40\n",
      "2928/2928 [==============================] - 0s 54us/step - loss: 0.6899 - acc: 0.5362 - val_loss: 0.6852 - val_acc: 0.5689\n",
      "Epoch 31/40\n",
      "2928/2928 [==============================] - 0s 47us/step - loss: 0.6899 - acc: 0.5362 - val_loss: 0.6850 - val_acc: 0.5689\n",
      "Epoch 32/40\n",
      "2928/2928 [==============================] - 0s 56us/step - loss: 0.6898 - acc: 0.5362 - val_loss: 0.6850 - val_acc: 0.5689\n",
      "Epoch 33/40\n",
      "2928/2928 [==============================] - 0s 53us/step - loss: 0.6897 - acc: 0.5362 - val_loss: 0.6850 - val_acc: 0.5689\n",
      "Epoch 34/40\n",
      "2928/2928 [==============================] - 0s 50us/step - loss: 0.6897 - acc: 0.5362 - val_loss: 0.6850 - val_acc: 0.5689\n",
      "Epoch 35/40\n",
      "2928/2928 [==============================] - 0s 60us/step - loss: 0.6897 - acc: 0.5362 - val_loss: 0.6849 - val_acc: 0.5689\n",
      "Epoch 36/40\n",
      "2928/2928 [==============================] - 0s 53us/step - loss: 0.6896 - acc: 0.5362 - val_loss: 0.6849 - val_acc: 0.5689\n",
      "Epoch 37/40\n",
      "2928/2928 [==============================] - 0s 50us/step - loss: 0.6896 - acc: 0.5362 - val_loss: 0.6850 - val_acc: 0.5689\n",
      "Epoch 38/40\n",
      "2928/2928 [==============================] - 0s 46us/step - loss: 0.6895 - acc: 0.5362 - val_loss: 0.6851 - val_acc: 0.5689\n",
      "Epoch 39/40\n",
      "2928/2928 [==============================] - 0s 54us/step - loss: 0.6895 - acc: 0.5362 - val_loss: 0.6848 - val_acc: 0.5689\n",
      "Epoch 40/40\n",
      "2928/2928 [==============================] - 0s 50us/step - loss: 0.6894 - acc: 0.5362 - val_loss: 0.6849 - val_acc: 0.5689\n",
      "457/457 [==============================] - 0s 67us/step\n",
      "[0.6880966544933862, 0.5448577682481552]\n"
     ]
    }
   ],
   "source": [
    "# Train the model\n",
    "history = model.fit(\n",
    "    X_train,\n",
    "    Y_train,\n",
    "    epochs=40,\n",
    "    batch_size=512,\n",
    "    validation_data=(X_valid, Y_valid),\n",
    "    verbose=1\n",
    ")\n",
    "\n",
    "# Evaluate the model\n",
    "print(model.evaluate(X_test, Y_test))"
   ]
  },
  {
   "cell_type": "markdown",
   "metadata": {},
   "source": [
    "### 5.8.2 Fake Or Real"
   ]
  },
  {
   "cell_type": "markdown",
   "metadata": {},
   "source": [
    "**BOW**"
   ]
  },
  {
   "cell_type": "code",
   "execution_count": 119,
   "metadata": {
    "colab": {},
    "colab_type": "code",
    "id": "uhSzHUIutfKc"
   },
   "outputs": [],
   "source": [
    "# Define train dataset\n",
    "X_train, Y_train = X_train_fake_or_real.copy(), Y_train_fake_or_real.copy()\n",
    "# Define test dataset\n",
    "X_test, Y_test = X_test_fake_or_real.copy(), Y_test_fake_or_real.copy()"
   ]
  },
  {
   "cell_type": "code",
   "execution_count": 120,
   "metadata": {
    "colab": {},
    "colab_type": "code",
    "id": "F8Wt_rDzvegi"
   },
   "outputs": [],
   "source": [
    "# Import resources\n",
    "from sklearn.pipeline import Pipeline, FeatureUnion\n",
    "from sklearn.feature_extraction.text import CountVectorizer\n",
    "from sklearn.feature_selection import SelectKBest, chi2\n",
    "\n",
    "# Bag of words\n",
    "pl = Pipeline([\n",
    "    ('cv', CountVectorizer(ngram_range=(1,3))),\n",
    "    ('kbst', SelectKBest(k=200, score_func=chi2))\n",
    "])\n",
    "\n",
    "# Transform dataset\n",
    "pl.fit(X_train, Y_train)\n",
    "X_train = pl.transform(X_train)\n",
    "X_test = pl.transform(X_test)"
   ]
  },
  {
   "cell_type": "code",
   "execution_count": 121,
   "metadata": {
    "colab": {},
    "colab_type": "code",
    "id": "ZcPkIcXxtfKh"
   },
   "outputs": [],
   "source": [
    "# Define a validation set\n",
    "from sklearn.model_selection import train_test_split\n",
    "\n",
    "X_train, X_valid, Y_train, Y_valid = train_test_split(X_train, Y_train, test_size=0.2, random_state=0)"
   ]
  },
  {
   "cell_type": "code",
   "execution_count": 122,
   "metadata": {
    "colab": {
     "base_uri": "https://localhost:8080/",
     "height": 272
    },
    "colab_type": "code",
    "id": "IltDnieftfKn",
    "outputId": "e513d065-5aa0-45bc-8970-2f6c81a0259c"
   },
   "outputs": [
    {
     "name": "stdout",
     "output_type": "stream",
     "text": [
      "_________________________________________________________________\n",
      "Layer (type)                 Output Shape              Param #   \n",
      "=================================================================\n",
      "embedding_9 (Embedding)      (None, None, 16)          62048     \n",
      "_________________________________________________________________\n",
      "global_average_pooling1d_9 ( (None, 16)                0         \n",
      "_________________________________________________________________\n",
      "dense_18 (Dense)             (None, 16)                272       \n",
      "_________________________________________________________________\n",
      "dense_19 (Dense)             (None, 1)                 17        \n",
      "=================================================================\n",
      "Total params: 62,337\n",
      "Trainable params: 62,337\n",
      "Non-trainable params: 0\n",
      "_________________________________________________________________\n"
     ]
    }
   ],
   "source": [
    "# Build the model\n",
    "model = keras.Sequential()\n",
    "model.add(keras.layers.Embedding(X_train.shape[0] + 1, 16))\n",
    "model.add(keras.layers.GlobalAveragePooling1D())\n",
    "model.add(keras.layers.Dense(16, activation=tf.nn.relu))\n",
    "model.add(keras.layers.Dense(1, activation=tf.nn.sigmoid))\n",
    "\n",
    "# Shows model summary\n",
    "model.summary()"
   ]
  },
  {
   "cell_type": "code",
   "execution_count": 123,
   "metadata": {
    "colab": {},
    "colab_type": "code",
    "id": "lv4FNHUgtfKs"
   },
   "outputs": [],
   "source": [
    "# Define loss function and optimizer\n",
    "model.compile(\n",
    "    optimizer=tf.train.AdamOptimizer(),\n",
    "    loss='binary_crossentropy',\n",
    "    metrics=['accuracy']\n",
    ")"
   ]
  },
  {
   "cell_type": "code",
   "execution_count": 124,
   "metadata": {
    "colab": {
     "base_uri": "https://localhost:8080/",
     "height": 1394
    },
    "colab_type": "code",
    "id": "1yLOMiN6tfKv",
    "outputId": "d6b9b15a-71fa-4cce-8f91-47dfb677cb77"
   },
   "outputs": [
    {
     "name": "stdout",
     "output_type": "stream",
     "text": [
      "Train on 3877 samples, validate on 970 samples\n",
      "Epoch 1/40\n",
      "3877/3877 [==============================] - 2s 479us/step - loss: 0.6933 - acc: 0.5383 - val_loss: 0.6922 - val_acc: 0.5876\n",
      "Epoch 2/40\n",
      "3877/3877 [==============================] - 0s 69us/step - loss: 0.6915 - acc: 0.5613 - val_loss: 0.6911 - val_acc: 0.5412\n",
      "Epoch 3/40\n",
      "3877/3877 [==============================] - 0s 61us/step - loss: 0.6901 - acc: 0.5834 - val_loss: 0.6899 - val_acc: 0.5856\n",
      "Epoch 4/40\n",
      "3877/3877 [==============================] - 0s 70us/step - loss: 0.6887 - acc: 0.6337 - val_loss: 0.6884 - val_acc: 0.6433\n",
      "Epoch 5/40\n",
      "3877/3877 [==============================] - 0s 71us/step - loss: 0.6871 - acc: 0.6580 - val_loss: 0.6868 - val_acc: 0.6443\n",
      "Epoch 6/40\n",
      "3877/3877 [==============================] - 0s 70us/step - loss: 0.6852 - acc: 0.6670 - val_loss: 0.6847 - val_acc: 0.6753\n",
      "Epoch 7/40\n",
      "3877/3877 [==============================] - 0s 68us/step - loss: 0.6827 - acc: 0.6840 - val_loss: 0.6818 - val_acc: 0.6711\n",
      "Epoch 8/40\n",
      "3877/3877 [==============================] - 0s 64us/step - loss: 0.6793 - acc: 0.6827 - val_loss: 0.6784 - val_acc: 0.6753\n",
      "Epoch 9/40\n",
      "3877/3877 [==============================] - 0s 66us/step - loss: 0.6755 - acc: 0.6791 - val_loss: 0.6747 - val_acc: 0.6680\n",
      "Epoch 10/40\n",
      "3877/3877 [==============================] - 0s 63us/step - loss: 0.6704 - acc: 0.6851 - val_loss: 0.6691 - val_acc: 0.6732\n",
      "Epoch 11/40\n",
      "3877/3877 [==============================] - 0s 64us/step - loss: 0.6646 - acc: 0.6858 - val_loss: 0.6636 - val_acc: 0.6732\n",
      "Epoch 12/40\n",
      "3877/3877 [==============================] - 0s 67us/step - loss: 0.6581 - acc: 0.6920 - val_loss: 0.6569 - val_acc: 0.6835\n",
      "Epoch 13/40\n",
      "3877/3877 [==============================] - 0s 70us/step - loss: 0.6510 - acc: 0.7080 - val_loss: 0.6494 - val_acc: 0.7031\n",
      "Epoch 14/40\n",
      "3877/3877 [==============================] - 0s 73us/step - loss: 0.6428 - acc: 0.7163 - val_loss: 0.6413 - val_acc: 0.7093\n",
      "Epoch 15/40\n",
      "3877/3877 [==============================] - 0s 65us/step - loss: 0.6342 - acc: 0.7173 - val_loss: 0.6332 - val_acc: 0.7103\n",
      "Epoch 16/40\n",
      "3877/3877 [==============================] - 0s 67us/step - loss: 0.6255 - acc: 0.7168 - val_loss: 0.6247 - val_acc: 0.7134\n",
      "Epoch 17/40\n",
      "3877/3877 [==============================] - 0s 59us/step - loss: 0.6163 - acc: 0.7178 - val_loss: 0.6157 - val_acc: 0.7268\n",
      "Epoch 18/40\n",
      "3877/3877 [==============================] - 0s 65us/step - loss: 0.6072 - acc: 0.7240 - val_loss: 0.6069 - val_acc: 0.7216\n",
      "Epoch 19/40\n",
      "3877/3877 [==============================] - 0s 59us/step - loss: 0.5981 - acc: 0.7284 - val_loss: 0.5985 - val_acc: 0.7247\n",
      "Epoch 20/40\n",
      "3877/3877 [==============================] - 0s 65us/step - loss: 0.5895 - acc: 0.7299 - val_loss: 0.5910 - val_acc: 0.7216\n",
      "Epoch 21/40\n",
      "3877/3877 [==============================] - 0s 63us/step - loss: 0.5813 - acc: 0.7292 - val_loss: 0.5831 - val_acc: 0.7299\n",
      "Epoch 22/40\n",
      "3877/3877 [==============================] - 0s 68us/step - loss: 0.5736 - acc: 0.7305 - val_loss: 0.5763 - val_acc: 0.7309\n",
      "Epoch 23/40\n",
      "3877/3877 [==============================] - 0s 68us/step - loss: 0.5668 - acc: 0.7328 - val_loss: 0.5706 - val_acc: 0.7320\n",
      "Epoch 24/40\n",
      "3877/3877 [==============================] - 0s 69us/step - loss: 0.5608 - acc: 0.7330 - val_loss: 0.5657 - val_acc: 0.7309\n",
      "Epoch 25/40\n",
      "3877/3877 [==============================] - 0s 65us/step - loss: 0.5558 - acc: 0.7318 - val_loss: 0.5613 - val_acc: 0.7299\n",
      "Epoch 26/40\n",
      "3877/3877 [==============================] - 0s 65us/step - loss: 0.5512 - acc: 0.7338 - val_loss: 0.5578 - val_acc: 0.7299\n",
      "Epoch 27/40\n",
      "3877/3877 [==============================] - 0s 62us/step - loss: 0.5480 - acc: 0.7346 - val_loss: 0.5552 - val_acc: 0.7309\n",
      "Epoch 28/40\n",
      "3877/3877 [==============================] - 0s 64us/step - loss: 0.5446 - acc: 0.7333 - val_loss: 0.5531 - val_acc: 0.7299\n",
      "Epoch 29/40\n",
      "3877/3877 [==============================] - 0s 66us/step - loss: 0.5426 - acc: 0.7351 - val_loss: 0.5512 - val_acc: 0.7309\n",
      "Epoch 30/40\n",
      "3877/3877 [==============================] - 0s 67us/step - loss: 0.5405 - acc: 0.7351 - val_loss: 0.5504 - val_acc: 0.7309\n",
      "Epoch 31/40\n",
      "3877/3877 [==============================] - 0s 63us/step - loss: 0.5389 - acc: 0.7346 - val_loss: 0.5489 - val_acc: 0.7330\n",
      "Epoch 32/40\n",
      "3877/3877 [==============================] - 0s 60us/step - loss: 0.5379 - acc: 0.7343 - val_loss: 0.5483 - val_acc: 0.7309\n",
      "Epoch 33/40\n",
      "3877/3877 [==============================] - 0s 65us/step - loss: 0.5366 - acc: 0.7346 - val_loss: 0.5473 - val_acc: 0.7309\n",
      "Epoch 34/40\n",
      "3877/3877 [==============================] - 0s 66us/step - loss: 0.5357 - acc: 0.7359 - val_loss: 0.5470 - val_acc: 0.7320\n",
      "Epoch 35/40\n",
      "3877/3877 [==============================] - 0s 69us/step - loss: 0.5351 - acc: 0.7346 - val_loss: 0.5466 - val_acc: 0.7320\n",
      "Epoch 36/40\n",
      "3877/3877 [==============================] - 0s 66us/step - loss: 0.5344 - acc: 0.7341 - val_loss: 0.5461 - val_acc: 0.7299\n",
      "Epoch 37/40\n",
      "3877/3877 [==============================] - 0s 61us/step - loss: 0.5340 - acc: 0.7367 - val_loss: 0.5457 - val_acc: 0.7299\n",
      "Epoch 38/40\n",
      "3877/3877 [==============================] - 0s 65us/step - loss: 0.5337 - acc: 0.7369 - val_loss: 0.5460 - val_acc: 0.7309\n",
      "Epoch 39/40\n",
      "3877/3877 [==============================] - 0s 64us/step - loss: 0.5332 - acc: 0.7338 - val_loss: 0.5451 - val_acc: 0.7340\n",
      "Epoch 40/40\n",
      "3877/3877 [==============================] - 0s 63us/step - loss: 0.5328 - acc: 0.7367 - val_loss: 0.5450 - val_acc: 0.7299\n",
      "1212/1212 [==============================] - 0s 100us/step\n",
      "[0.5282956788642178, 0.7508250821148208]\n"
     ]
    }
   ],
   "source": [
    "# Train the model\n",
    "history = model.fit(\n",
    "    X_train,\n",
    "    Y_train,\n",
    "    epochs=40,\n",
    "    batch_size=512,\n",
    "    validation_data=(X_valid, Y_valid),\n",
    "    verbose=1\n",
    ")\n",
    "\n",
    "# Evaluate the model\n",
    "print(model.evaluate(X_test, Y_test))"
   ]
  },
  {
   "cell_type": "markdown",
   "metadata": {},
   "source": [
    "**POS**"
   ]
  },
  {
   "cell_type": "code",
   "execution_count": 142,
   "metadata": {
    "colab": {},
    "colab_type": "code",
    "id": "uhSzHUIutfKc"
   },
   "outputs": [],
   "source": [
    "# Define train dataset\n",
    "X_train, Y_train = X_train_fake_or_real.copy(), Y_train_fake_or_real.copy()\n",
    "# Define test dataset\n",
    "X_test, Y_test = X_test_fake_or_real.copy(), Y_test_fake_or_real.copy()"
   ]
  },
  {
   "cell_type": "code",
   "execution_count": 143,
   "metadata": {
    "colab": {},
    "colab_type": "code",
    "id": "F8Wt_rDzvegi"
   },
   "outputs": [],
   "source": [
    "# Import resources\n",
    "from sklearn.pipeline import Pipeline, FeatureUnion\n",
    "from sklearn.feature_extraction.text import CountVectorizer\n",
    "from sklearn.feature_selection import SelectKBest, chi2\n",
    "\n",
    "# Part of speech\n",
    "pos = Pipeline([\n",
    "    ('cv', CountVectorizer(tokenizer=chunk_tokenizer)),\n",
    "    ('kbst', SelectKBest(k=50, score_func=chi2))\n",
    "])\n",
    "\n",
    "# Transform dataset\n",
    "pos.fit(X_train, Y_train)\n",
    "X_train = pos.transform(X_train)\n",
    "X_test = pos.transform(X_test)"
   ]
  },
  {
   "cell_type": "code",
   "execution_count": 144,
   "metadata": {
    "colab": {},
    "colab_type": "code",
    "id": "ZcPkIcXxtfKh"
   },
   "outputs": [],
   "source": [
    "# Define a validation set\n",
    "from sklearn.model_selection import train_test_split\n",
    "\n",
    "X_train, X_valid, Y_train, Y_valid = train_test_split(X_train, Y_train, test_size=0.2, random_state=0)"
   ]
  },
  {
   "cell_type": "code",
   "execution_count": 151,
   "metadata": {
    "colab": {
     "base_uri": "https://localhost:8080/",
     "height": 272
    },
    "colab_type": "code",
    "id": "IltDnieftfKn",
    "outputId": "e513d065-5aa0-45bc-8970-2f6c81a0259c"
   },
   "outputs": [
    {
     "name": "stdout",
     "output_type": "stream",
     "text": [
      "_________________________________________________________________\n",
      "Layer (type)                 Output Shape              Param #   \n",
      "=================================================================\n",
      "embedding_16 (Embedding)     (None, None, 16)          160000    \n",
      "_________________________________________________________________\n",
      "global_average_pooling1d_16  (None, 16)                0         \n",
      "_________________________________________________________________\n",
      "dense_32 (Dense)             (None, 16)                272       \n",
      "_________________________________________________________________\n",
      "dense_33 (Dense)             (None, 1)                 17        \n",
      "=================================================================\n",
      "Total params: 160,289\n",
      "Trainable params: 160,289\n",
      "Non-trainable params: 0\n",
      "_________________________________________________________________\n"
     ]
    }
   ],
   "source": [
    "# Build the model\n",
    "model = keras.Sequential()\n",
    "model.add(keras.layers.Embedding(10000, 16))\n",
    "model.add(keras.layers.GlobalAveragePooling1D())\n",
    "model.add(keras.layers.Dense(16, activation=tf.nn.relu))\n",
    "model.add(keras.layers.Dense(1, activation=tf.nn.sigmoid))\n",
    "\n",
    "# Shows model summary\n",
    "model.summary()"
   ]
  },
  {
   "cell_type": "code",
   "execution_count": 152,
   "metadata": {
    "colab": {},
    "colab_type": "code",
    "id": "lv4FNHUgtfKs"
   },
   "outputs": [],
   "source": [
    "# Define loss function and optimizer\n",
    "model.compile(\n",
    "    optimizer=tf.train.AdamOptimizer(),\n",
    "    loss='binary_crossentropy',\n",
    "    metrics=['accuracy']\n",
    ")"
   ]
  },
  {
   "cell_type": "code",
   "execution_count": 153,
   "metadata": {},
   "outputs": [
    {
     "name": "stdout",
     "output_type": "stream",
     "text": [
      "Train on 3877 samples, validate on 970 samples\n",
      "Epoch 1/40\n",
      "3877/3877 [==============================] - 1s 369us/step - loss: 0.6917 - acc: 0.5192 - val_loss: 0.6918 - val_acc: 0.4866\n",
      "Epoch 2/40\n",
      "3877/3877 [==============================] - 0s 24us/step - loss: 0.6901 - acc: 0.5110 - val_loss: 0.6910 - val_acc: 0.4856\n",
      "Epoch 3/40\n",
      "3877/3877 [==============================] - 0s 23us/step - loss: 0.6883 - acc: 0.5107 - val_loss: 0.6899 - val_acc: 0.4856\n",
      "Epoch 4/40\n",
      "3877/3877 [==============================] - 0s 21us/step - loss: 0.6862 - acc: 0.5123 - val_loss: 0.6882 - val_acc: 0.4897\n",
      "Epoch 5/40\n",
      "3877/3877 [==============================] - 0s 21us/step - loss: 0.6836 - acc: 0.5262 - val_loss: 0.6861 - val_acc: 0.5000\n",
      "Epoch 6/40\n",
      "3877/3877 [==============================] - 0s 28us/step - loss: 0.6807 - acc: 0.5610 - val_loss: 0.6836 - val_acc: 0.5412\n",
      "Epoch 7/40\n",
      "3877/3877 [==============================] - 0s 22us/step - loss: 0.6771 - acc: 0.6041 - val_loss: 0.6807 - val_acc: 0.5887\n",
      "Epoch 8/40\n",
      "3877/3877 [==============================] - 0s 24us/step - loss: 0.6730 - acc: 0.6402 - val_loss: 0.6778 - val_acc: 0.5948\n",
      "Epoch 9/40\n",
      "3877/3877 [==============================] - 0s 23us/step - loss: 0.6684 - acc: 0.6513 - val_loss: 0.6745 - val_acc: 0.6062\n",
      "Epoch 10/40\n",
      "3877/3877 [==============================] - 0s 24us/step - loss: 0.6637 - acc: 0.6567 - val_loss: 0.6712 - val_acc: 0.6082\n",
      "Epoch 11/40\n",
      "3877/3877 [==============================] - 0s 23us/step - loss: 0.6584 - acc: 0.6727 - val_loss: 0.6673 - val_acc: 0.6165\n",
      "Epoch 12/40\n",
      "3877/3877 [==============================] - 0s 24us/step - loss: 0.6530 - acc: 0.6871 - val_loss: 0.6634 - val_acc: 0.6464\n",
      "Epoch 13/40\n",
      "3877/3877 [==============================] - 0s 22us/step - loss: 0.6478 - acc: 0.6913 - val_loss: 0.6606 - val_acc: 0.6381\n",
      "Epoch 14/40\n",
      "3877/3877 [==============================] - 0s 28us/step - loss: 0.6423 - acc: 0.6923 - val_loss: 0.6573 - val_acc: 0.6588\n",
      "Epoch 15/40\n",
      "3877/3877 [==============================] - 0s 26us/step - loss: 0.6372 - acc: 0.6974 - val_loss: 0.6539 - val_acc: 0.6505\n",
      "Epoch 16/40\n",
      "3877/3877 [==============================] - 0s 24us/step - loss: 0.6322 - acc: 0.6977 - val_loss: 0.6514 - val_acc: 0.6505\n",
      "Epoch 17/40\n",
      "3877/3877 [==============================] - 0s 30us/step - loss: 0.6273 - acc: 0.7016 - val_loss: 0.6486 - val_acc: 0.6608\n",
      "Epoch 18/40\n",
      "3877/3877 [==============================] - 0s 23us/step - loss: 0.6230 - acc: 0.7011 - val_loss: 0.6468 - val_acc: 0.6608\n",
      "Epoch 19/40\n",
      "3877/3877 [==============================] - 0s 26us/step - loss: 0.6189 - acc: 0.7026 - val_loss: 0.6441 - val_acc: 0.6629\n",
      "Epoch 20/40\n",
      "3877/3877 [==============================] - 0s 27us/step - loss: 0.6148 - acc: 0.7062 - val_loss: 0.6431 - val_acc: 0.6629\n",
      "Epoch 21/40\n",
      "3877/3877 [==============================] - 0s 25us/step - loss: 0.6114 - acc: 0.7088 - val_loss: 0.6420 - val_acc: 0.6649\n",
      "Epoch 22/40\n",
      "3877/3877 [==============================] - 0s 24us/step - loss: 0.6081 - acc: 0.7049 - val_loss: 0.6392 - val_acc: 0.6608\n",
      "Epoch 23/40\n",
      "3877/3877 [==============================] - 0s 25us/step - loss: 0.6048 - acc: 0.7029 - val_loss: 0.6388 - val_acc: 0.6608\n",
      "Epoch 24/40\n",
      "3877/3877 [==============================] - 0s 24us/step - loss: 0.6019 - acc: 0.7057 - val_loss: 0.6382 - val_acc: 0.6619\n",
      "Epoch 25/40\n",
      "3877/3877 [==============================] - 0s 24us/step - loss: 0.5991 - acc: 0.7088 - val_loss: 0.6373 - val_acc: 0.6619\n",
      "Epoch 26/40\n",
      "3877/3877 [==============================] - 0s 24us/step - loss: 0.5965 - acc: 0.7088 - val_loss: 0.6362 - val_acc: 0.6629\n",
      "Epoch 27/40\n",
      "3877/3877 [==============================] - 0s 23us/step - loss: 0.5942 - acc: 0.7106 - val_loss: 0.6350 - val_acc: 0.6619\n",
      "Epoch 28/40\n",
      "3877/3877 [==============================] - 0s 22us/step - loss: 0.5916 - acc: 0.7119 - val_loss: 0.6361 - val_acc: 0.6660\n",
      "Epoch 29/40\n",
      "3877/3877 [==============================] - 0s 22us/step - loss: 0.5894 - acc: 0.7163 - val_loss: 0.6350 - val_acc: 0.6649\n",
      "Epoch 30/40\n",
      "3877/3877 [==============================] - 0s 26us/step - loss: 0.5871 - acc: 0.7191 - val_loss: 0.6347 - val_acc: 0.6649\n",
      "Epoch 31/40\n",
      "3877/3877 [==============================] - 0s 33us/step - loss: 0.5854 - acc: 0.7212 - val_loss: 0.6348 - val_acc: 0.6670\n",
      "Epoch 32/40\n",
      "3877/3877 [==============================] - 0s 26us/step - loss: 0.5833 - acc: 0.7230 - val_loss: 0.6334 - val_acc: 0.6680\n",
      "Epoch 33/40\n",
      "3877/3877 [==============================] - 0s 25us/step - loss: 0.5811 - acc: 0.7240 - val_loss: 0.6344 - val_acc: 0.6639\n",
      "Epoch 34/40\n",
      "3877/3877 [==============================] - 0s 26us/step - loss: 0.5792 - acc: 0.7248 - val_loss: 0.6342 - val_acc: 0.6670\n",
      "Epoch 35/40\n",
      "3877/3877 [==============================] - 0s 24us/step - loss: 0.5773 - acc: 0.7281 - val_loss: 0.6338 - val_acc: 0.6701\n",
      "Epoch 36/40\n",
      "3877/3877 [==============================] - 0s 25us/step - loss: 0.5757 - acc: 0.7269 - val_loss: 0.6327 - val_acc: 0.6680\n",
      "Epoch 37/40\n",
      "3877/3877 [==============================] - 0s 24us/step - loss: 0.5738 - acc: 0.7289 - val_loss: 0.6339 - val_acc: 0.6711\n",
      "Epoch 38/40\n",
      "3877/3877 [==============================] - 0s 25us/step - loss: 0.5722 - acc: 0.7320 - val_loss: 0.6347 - val_acc: 0.6701\n",
      "Epoch 39/40\n",
      "3877/3877 [==============================] - 0s 25us/step - loss: 0.5703 - acc: 0.7333 - val_loss: 0.6337 - val_acc: 0.6722\n",
      "Epoch 40/40\n",
      "3877/3877 [==============================] - 0s 27us/step - loss: 0.5687 - acc: 0.7336 - val_loss: 0.6340 - val_acc: 0.6722\n",
      "1212/1212 [==============================] - 0s 74us/step\n",
      "[0.6160218263223226, 0.6914191425043364]\n"
     ]
    }
   ],
   "source": [
    "# Train the model\n",
    "history = model.fit(\n",
    "    X_train,\n",
    "    Y_train,\n",
    "    epochs=40,\n",
    "    batch_size=512,\n",
    "    validation_data=(X_valid, Y_valid),\n",
    "    verbose=1\n",
    ")\n",
    "\n",
    "# Evaluate the model\n",
    "print(model.evaluate(X_test, Y_test))"
   ]
  },
  {
   "cell_type": "markdown",
   "metadata": {},
   "source": [
    "**BOW + POS**"
   ]
  },
  {
   "cell_type": "code",
   "execution_count": 154,
   "metadata": {
    "colab": {},
    "colab_type": "code",
    "id": "uhSzHUIutfKc"
   },
   "outputs": [],
   "source": [
    "# Define train dataset\n",
    "X_train, Y_train = X_train_fake_or_real.copy(), Y_train_fake_or_real.copy()\n",
    "# Define test dataset\n",
    "X_test, Y_test = X_test_fake_or_real.copy(), Y_test_fake_or_real.copy()"
   ]
  },
  {
   "cell_type": "code",
   "execution_count": 155,
   "metadata": {
    "colab": {},
    "colab_type": "code",
    "id": "F8Wt_rDzvegi"
   },
   "outputs": [],
   "source": [
    "# Import resources\n",
    "from sklearn.pipeline import Pipeline, FeatureUnion\n",
    "from sklearn.feature_extraction.text import CountVectorizer\n",
    "from sklearn.feature_selection import SelectKBest, chi2\n",
    "\n",
    "bow = Pipeline([\n",
    "    ('cv', CountVectorizer(ngram_range=(1,3))),\n",
    "    ('kbst', SelectKBest(k=200, score_func=chi2))\n",
    "])\n",
    "\n",
    "pos = Pipeline([\n",
    "    ('cv', CountVectorizer(tokenizer=chunk_tokenizer)),\n",
    "    ('kbst', SelectKBest(k=50, score_func=chi2))\n",
    "])\n",
    "\n",
    "pl = FeatureUnion([\n",
    "    ('bow', bow),\n",
    "    ('pos', pos)\n",
    "])\n",
    "\n",
    "# Transform dataset\n",
    "pl.fit(X_train, Y_train)\n",
    "X_train = pl.transform(X_train)\n",
    "X_test = pl.transform(X_test)"
   ]
  },
  {
   "cell_type": "code",
   "execution_count": 156,
   "metadata": {
    "colab": {},
    "colab_type": "code",
    "id": "ZcPkIcXxtfKh"
   },
   "outputs": [],
   "source": [
    "# Define a validation set\n",
    "from sklearn.model_selection import train_test_split\n",
    "\n",
    "X_train, X_valid, Y_train, Y_valid = train_test_split(X_train, Y_train, test_size=0.2, random_state=0)"
   ]
  },
  {
   "cell_type": "code",
   "execution_count": 160,
   "metadata": {
    "colab": {
     "base_uri": "https://localhost:8080/",
     "height": 272
    },
    "colab_type": "code",
    "id": "IltDnieftfKn",
    "outputId": "e513d065-5aa0-45bc-8970-2f6c81a0259c",
    "scrolled": true
   },
   "outputs": [
    {
     "name": "stdout",
     "output_type": "stream",
     "text": [
      "_________________________________________________________________\n",
      "Layer (type)                 Output Shape              Param #   \n",
      "=================================================================\n",
      "embedding_18 (Embedding)     (None, None, 16)          160000    \n",
      "_________________________________________________________________\n",
      "global_average_pooling1d_18  (None, 16)                0         \n",
      "_________________________________________________________________\n",
      "dense_36 (Dense)             (None, 16)                272       \n",
      "_________________________________________________________________\n",
      "dense_37 (Dense)             (None, 1)                 17        \n",
      "=================================================================\n",
      "Total params: 160,289\n",
      "Trainable params: 160,289\n",
      "Non-trainable params: 0\n",
      "_________________________________________________________________\n"
     ]
    }
   ],
   "source": [
    "# Build the model\n",
    "model = keras.Sequential()\n",
    "model.add(keras.layers.Embedding(10000, 16))\n",
    "model.add(keras.layers.GlobalAveragePooling1D())\n",
    "model.add(keras.layers.Dense(16, activation=tf.nn.relu))\n",
    "model.add(keras.layers.Dense(1, activation=tf.nn.sigmoid))\n",
    "\n",
    "# Shows model summary\n",
    "model.summary()"
   ]
  },
  {
   "cell_type": "code",
   "execution_count": 161,
   "metadata": {
    "colab": {},
    "colab_type": "code",
    "id": "lv4FNHUgtfKs"
   },
   "outputs": [],
   "source": [
    "# Define loss function and optimizer\n",
    "model.compile(\n",
    "    optimizer=tf.train.AdamOptimizer(),\n",
    "    loss='binary_crossentropy',\n",
    "    metrics=['accuracy']\n",
    ")"
   ]
  },
  {
   "cell_type": "code",
   "execution_count": 162,
   "metadata": {
    "colab": {
     "base_uri": "https://localhost:8080/",
     "height": 1394
    },
    "colab_type": "code",
    "id": "1yLOMiN6tfKv",
    "outputId": "d6b9b15a-71fa-4cce-8f91-47dfb677cb77"
   },
   "outputs": [
    {
     "name": "stdout",
     "output_type": "stream",
     "text": [
      "Train on 3877 samples, validate on 970 samples\n",
      "Epoch 1/40\n",
      "3877/3877 [==============================] - 2s 466us/step - loss: 0.6921 - acc: 0.5138 - val_loss: 0.6919 - val_acc: 0.5031\n",
      "Epoch 2/40\n",
      "3877/3877 [==============================] - 0s 63us/step - loss: 0.6910 - acc: 0.5344 - val_loss: 0.6907 - val_acc: 0.5464\n",
      "Epoch 3/40\n",
      "3877/3877 [==============================] - 0s 65us/step - loss: 0.6894 - acc: 0.5912 - val_loss: 0.6890 - val_acc: 0.6000\n",
      "Epoch 4/40\n",
      "3877/3877 [==============================] - 0s 62us/step - loss: 0.6876 - acc: 0.6309 - val_loss: 0.6873 - val_acc: 0.6216\n",
      "Epoch 5/40\n",
      "3877/3877 [==============================] - 0s 63us/step - loss: 0.6855 - acc: 0.6526 - val_loss: 0.6852 - val_acc: 0.6485\n",
      "Epoch 6/40\n",
      "3877/3877 [==============================] - 0s 69us/step - loss: 0.6831 - acc: 0.6755 - val_loss: 0.6827 - val_acc: 0.6567\n",
      "Epoch 7/40\n",
      "3877/3877 [==============================] - 0s 66us/step - loss: 0.6802 - acc: 0.6848 - val_loss: 0.6795 - val_acc: 0.6742\n",
      "Epoch 8/40\n",
      "3877/3877 [==============================] - 0s 58us/step - loss: 0.6766 - acc: 0.7124 - val_loss: 0.6757 - val_acc: 0.7134\n",
      "Epoch 9/40\n",
      "3877/3877 [==============================] - 0s 65us/step - loss: 0.6726 - acc: 0.7209 - val_loss: 0.6715 - val_acc: 0.7196\n",
      "Epoch 10/40\n",
      "3877/3877 [==============================] - 0s 60us/step - loss: 0.6680 - acc: 0.7256 - val_loss: 0.6668 - val_acc: 0.7196\n",
      "Epoch 11/40\n",
      "3877/3877 [==============================] - 0s 61us/step - loss: 0.6627 - acc: 0.7276 - val_loss: 0.6614 - val_acc: 0.7268\n",
      "Epoch 12/40\n",
      "3877/3877 [==============================] - 0s 65us/step - loss: 0.6567 - acc: 0.7333 - val_loss: 0.6551 - val_acc: 0.7278\n",
      "Epoch 13/40\n",
      "3877/3877 [==============================] - 0s 64us/step - loss: 0.6498 - acc: 0.7379 - val_loss: 0.6480 - val_acc: 0.7330\n",
      "Epoch 14/40\n",
      "3877/3877 [==============================] - 0s 65us/step - loss: 0.6422 - acc: 0.7382 - val_loss: 0.6403 - val_acc: 0.7299\n",
      "Epoch 15/40\n",
      "3877/3877 [==============================] - 0s 64us/step - loss: 0.6342 - acc: 0.7452 - val_loss: 0.6321 - val_acc: 0.7392\n",
      "Epoch 16/40\n",
      "3877/3877 [==============================] - 0s 61us/step - loss: 0.6256 - acc: 0.7444 - val_loss: 0.6243 - val_acc: 0.7299\n",
      "Epoch 17/40\n",
      "3877/3877 [==============================] - 0s 60us/step - loss: 0.6169 - acc: 0.7416 - val_loss: 0.6159 - val_acc: 0.7330\n",
      "Epoch 18/40\n",
      "3877/3877 [==============================] - 0s 63us/step - loss: 0.6082 - acc: 0.7470 - val_loss: 0.6072 - val_acc: 0.7392\n",
      "Epoch 19/40\n",
      "3877/3877 [==============================] - 0s 62us/step - loss: 0.5990 - acc: 0.7416 - val_loss: 0.5993 - val_acc: 0.7299\n",
      "Epoch 20/40\n",
      "3877/3877 [==============================] - 0s 63us/step - loss: 0.5898 - acc: 0.7418 - val_loss: 0.5910 - val_acc: 0.7330\n",
      "Epoch 21/40\n",
      "3877/3877 [==============================] - 0s 68us/step - loss: 0.5811 - acc: 0.7465 - val_loss: 0.5831 - val_acc: 0.7392\n",
      "Epoch 22/40\n",
      "3877/3877 [==============================] - 0s 65us/step - loss: 0.5729 - acc: 0.7477 - val_loss: 0.5765 - val_acc: 0.7371\n",
      "Epoch 23/40\n",
      "3877/3877 [==============================] - 0s 62us/step - loss: 0.5655 - acc: 0.7428 - val_loss: 0.5706 - val_acc: 0.7289\n",
      "Epoch 24/40\n",
      "3877/3877 [==============================] - 0s 67us/step - loss: 0.5586 - acc: 0.7449 - val_loss: 0.5647 - val_acc: 0.7361\n",
      "Epoch 25/40\n",
      "3877/3877 [==============================] - 0s 68us/step - loss: 0.5524 - acc: 0.7459 - val_loss: 0.5599 - val_acc: 0.7361\n",
      "Epoch 26/40\n",
      "3877/3877 [==============================] - 0s 69us/step - loss: 0.5469 - acc: 0.7452 - val_loss: 0.5560 - val_acc: 0.7320\n",
      "Epoch 27/40\n",
      "3877/3877 [==============================] - 0s 60us/step - loss: 0.5421 - acc: 0.7452 - val_loss: 0.5522 - val_acc: 0.7361\n",
      "Epoch 28/40\n",
      "3877/3877 [==============================] - 0s 61us/step - loss: 0.5378 - acc: 0.7475 - val_loss: 0.5493 - val_acc: 0.7371\n",
      "Epoch 29/40\n",
      "3877/3877 [==============================] - 0s 63us/step - loss: 0.5342 - acc: 0.7470 - val_loss: 0.5470 - val_acc: 0.7381\n",
      "Epoch 30/40\n",
      "3877/3877 [==============================] - 0s 63us/step - loss: 0.5311 - acc: 0.7470 - val_loss: 0.5451 - val_acc: 0.7381\n",
      "Epoch 31/40\n",
      "3877/3877 [==============================] - 0s 61us/step - loss: 0.5286 - acc: 0.7426 - val_loss: 0.5441 - val_acc: 0.7351\n",
      "Epoch 32/40\n",
      "3877/3877 [==============================] - 0s 63us/step - loss: 0.5265 - acc: 0.7475 - val_loss: 0.5423 - val_acc: 0.7361\n",
      "Epoch 33/40\n",
      "3877/3877 [==============================] - 0s 69us/step - loss: 0.5246 - acc: 0.7472 - val_loss: 0.5416 - val_acc: 0.7371\n",
      "Epoch 34/40\n",
      "3877/3877 [==============================] - 0s 60us/step - loss: 0.5233 - acc: 0.7488 - val_loss: 0.5406 - val_acc: 0.7381\n",
      "Epoch 35/40\n",
      "3877/3877 [==============================] - 0s 68us/step - loss: 0.5216 - acc: 0.7485 - val_loss: 0.5405 - val_acc: 0.7361\n",
      "Epoch 36/40\n",
      "3877/3877 [==============================] - 0s 64us/step - loss: 0.5207 - acc: 0.7467 - val_loss: 0.5399 - val_acc: 0.7371\n",
      "Epoch 37/40\n",
      "3877/3877 [==============================] - 0s 66us/step - loss: 0.5193 - acc: 0.7519 - val_loss: 0.5391 - val_acc: 0.7371\n",
      "Epoch 38/40\n",
      "3877/3877 [==============================] - 0s 63us/step - loss: 0.5185 - acc: 0.7498 - val_loss: 0.5389 - val_acc: 0.7371\n",
      "Epoch 39/40\n",
      "3877/3877 [==============================] - 0s 62us/step - loss: 0.5175 - acc: 0.7501 - val_loss: 0.5388 - val_acc: 0.7381\n",
      "Epoch 40/40\n",
      "3877/3877 [==============================] - 0s 59us/step - loss: 0.5173 - acc: 0.7498 - val_loss: 0.5382 - val_acc: 0.7371\n",
      "1212/1212 [==============================] - 0s 86us/step\n",
      "[0.5198448733134632, 0.7557755779511858]\n"
     ]
    }
   ],
   "source": [
    "# Train the model\n",
    "history = model.fit(\n",
    "    X_train,\n",
    "    Y_train,\n",
    "    epochs=40,\n",
    "    batch_size=512,\n",
    "    validation_data=(X_valid, Y_valid),\n",
    "    verbose=1\n",
    ")\n",
    "\n",
    "# Evaluate the model\n",
    "print(model.evaluate(X_test, Y_test))"
   ]
  },
  {
   "cell_type": "code",
   "execution_count": null,
   "metadata": {},
   "outputs": [],
   "source": []
  },
  {
   "cell_type": "code",
   "execution_count": null,
   "metadata": {},
   "outputs": [],
   "source": []
  }
 ],
 "metadata": {
  "colab": {
   "collapsed_sections": [
    "_HdzqVj8oIuF",
    "QGURzgTdoI8U",
    "m94oChODopIO",
    "rVUBB9hhoq8C",
    "65K1yv8IosmA",
    "mYofbUoPaNgc",
    "4T149qifqf5t"
   ],
   "name": "to_be_sent.ipynb",
   "provenance": [],
   "version": "0.3.2"
  },
  "kernelspec": {
   "display_name": "Python 3",
   "language": "python",
   "name": "python3"
  },
  "language_info": {
   "codemirror_mode": {
    "name": "ipython",
    "version": 3
   },
   "file_extension": ".py",
   "mimetype": "text/x-python",
   "name": "python",
   "nbconvert_exporter": "python",
   "pygments_lexer": "ipython3",
   "version": "3.6.5"
  }
 },
 "nbformat": 4,
 "nbformat_minor": 1
}
